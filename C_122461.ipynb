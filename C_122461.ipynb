{
  "nbformat": 4,
  "nbformat_minor": 0,
  "metadata": {
    "colab": {
      "provenance": [],
      "mount_file_id": "1GuvVfVDiqGrWiAITBaeC_IE70fPD7wfc",
      "authorship_tag": "ABX9TyNwSBqo4TaKjG+u8zNskwtX",
      "include_colab_link": true
    },
    "kernelspec": {
      "name": "python3",
      "display_name": "Python 3"
    },
    "language_info": {
      "name": "python"
    },
    "widgets": {
      "application/vnd.jupyter.widget-state+json": {
        "bcb054adf3024bbfbd964d7594f21f88": {
          "model_module": "@jupyter-widgets/controls",
          "model_name": "HBoxModel",
          "model_module_version": "1.5.0",
          "state": {
            "_dom_classes": [],
            "_model_module": "@jupyter-widgets/controls",
            "_model_module_version": "1.5.0",
            "_model_name": "HBoxModel",
            "_view_count": null,
            "_view_module": "@jupyter-widgets/controls",
            "_view_module_version": "1.5.0",
            "_view_name": "HBoxView",
            "box_style": "",
            "children": [
              "IPY_MODEL_ef99cfb7e8c6429f9e6bef0fa2193c35",
              "IPY_MODEL_0943305999d8497d8985510a54bfb04d",
              "IPY_MODEL_0e09f31309a3421ba013f169e8dff635"
            ],
            "layout": "IPY_MODEL_4233365ab5994a998a1caef39b5bdeb5"
          }
        },
        "ef99cfb7e8c6429f9e6bef0fa2193c35": {
          "model_module": "@jupyter-widgets/controls",
          "model_name": "HTMLModel",
          "model_module_version": "1.5.0",
          "state": {
            "_dom_classes": [],
            "_model_module": "@jupyter-widgets/controls",
            "_model_module_version": "1.5.0",
            "_model_name": "HTMLModel",
            "_view_count": null,
            "_view_module": "@jupyter-widgets/controls",
            "_view_module_version": "1.5.0",
            "_view_name": "HTMLView",
            "description": "",
            "description_tooltip": null,
            "layout": "IPY_MODEL_4321eb2f29024b2da887842b6662e434",
            "placeholder": "​",
            "style": "IPY_MODEL_ce55f15b6fdb44bfa6a5da59ef955228",
            "value": "100%"
          }
        },
        "0943305999d8497d8985510a54bfb04d": {
          "model_module": "@jupyter-widgets/controls",
          "model_name": "FloatProgressModel",
          "model_module_version": "1.5.0",
          "state": {
            "_dom_classes": [],
            "_model_module": "@jupyter-widgets/controls",
            "_model_module_version": "1.5.0",
            "_model_name": "FloatProgressModel",
            "_view_count": null,
            "_view_module": "@jupyter-widgets/controls",
            "_view_module_version": "1.5.0",
            "_view_name": "ProgressView",
            "bar_style": "success",
            "description": "",
            "description_tooltip": null,
            "layout": "IPY_MODEL_cb89bfb98d684cec9059cb121f256b45",
            "max": 2,
            "min": 0,
            "orientation": "horizontal",
            "style": "IPY_MODEL_35c0b092528742eab62a257714b72ea6",
            "value": 2
          }
        },
        "0e09f31309a3421ba013f169e8dff635": {
          "model_module": "@jupyter-widgets/controls",
          "model_name": "HTMLModel",
          "model_module_version": "1.5.0",
          "state": {
            "_dom_classes": [],
            "_model_module": "@jupyter-widgets/controls",
            "_model_module_version": "1.5.0",
            "_model_name": "HTMLModel",
            "_view_count": null,
            "_view_module": "@jupyter-widgets/controls",
            "_view_module_version": "1.5.0",
            "_view_name": "HTMLView",
            "description": "",
            "description_tooltip": null,
            "layout": "IPY_MODEL_2f77fa3570dd477ebf41517f0a83d2b5",
            "placeholder": "​",
            "style": "IPY_MODEL_c45b05a74fe84ff29e73cf77740222aa",
            "value": " 2/2 [00:00&lt;00:00, 34.98it/s]"
          }
        },
        "4233365ab5994a998a1caef39b5bdeb5": {
          "model_module": "@jupyter-widgets/base",
          "model_name": "LayoutModel",
          "model_module_version": "1.2.0",
          "state": {
            "_model_module": "@jupyter-widgets/base",
            "_model_module_version": "1.2.0",
            "_model_name": "LayoutModel",
            "_view_count": null,
            "_view_module": "@jupyter-widgets/base",
            "_view_module_version": "1.2.0",
            "_view_name": "LayoutView",
            "align_content": null,
            "align_items": null,
            "align_self": null,
            "border": null,
            "bottom": null,
            "display": null,
            "flex": null,
            "flex_flow": null,
            "grid_area": null,
            "grid_auto_columns": null,
            "grid_auto_flow": null,
            "grid_auto_rows": null,
            "grid_column": null,
            "grid_gap": null,
            "grid_row": null,
            "grid_template_areas": null,
            "grid_template_columns": null,
            "grid_template_rows": null,
            "height": null,
            "justify_content": null,
            "justify_items": null,
            "left": null,
            "margin": null,
            "max_height": null,
            "max_width": null,
            "min_height": null,
            "min_width": null,
            "object_fit": null,
            "object_position": null,
            "order": null,
            "overflow": null,
            "overflow_x": null,
            "overflow_y": null,
            "padding": null,
            "right": null,
            "top": null,
            "visibility": null,
            "width": null
          }
        },
        "4321eb2f29024b2da887842b6662e434": {
          "model_module": "@jupyter-widgets/base",
          "model_name": "LayoutModel",
          "model_module_version": "1.2.0",
          "state": {
            "_model_module": "@jupyter-widgets/base",
            "_model_module_version": "1.2.0",
            "_model_name": "LayoutModel",
            "_view_count": null,
            "_view_module": "@jupyter-widgets/base",
            "_view_module_version": "1.2.0",
            "_view_name": "LayoutView",
            "align_content": null,
            "align_items": null,
            "align_self": null,
            "border": null,
            "bottom": null,
            "display": null,
            "flex": null,
            "flex_flow": null,
            "grid_area": null,
            "grid_auto_columns": null,
            "grid_auto_flow": null,
            "grid_auto_rows": null,
            "grid_column": null,
            "grid_gap": null,
            "grid_row": null,
            "grid_template_areas": null,
            "grid_template_columns": null,
            "grid_template_rows": null,
            "height": null,
            "justify_content": null,
            "justify_items": null,
            "left": null,
            "margin": null,
            "max_height": null,
            "max_width": null,
            "min_height": null,
            "min_width": null,
            "object_fit": null,
            "object_position": null,
            "order": null,
            "overflow": null,
            "overflow_x": null,
            "overflow_y": null,
            "padding": null,
            "right": null,
            "top": null,
            "visibility": null,
            "width": null
          }
        },
        "ce55f15b6fdb44bfa6a5da59ef955228": {
          "model_module": "@jupyter-widgets/controls",
          "model_name": "DescriptionStyleModel",
          "model_module_version": "1.5.0",
          "state": {
            "_model_module": "@jupyter-widgets/controls",
            "_model_module_version": "1.5.0",
            "_model_name": "DescriptionStyleModel",
            "_view_count": null,
            "_view_module": "@jupyter-widgets/base",
            "_view_module_version": "1.2.0",
            "_view_name": "StyleView",
            "description_width": ""
          }
        },
        "cb89bfb98d684cec9059cb121f256b45": {
          "model_module": "@jupyter-widgets/base",
          "model_name": "LayoutModel",
          "model_module_version": "1.2.0",
          "state": {
            "_model_module": "@jupyter-widgets/base",
            "_model_module_version": "1.2.0",
            "_model_name": "LayoutModel",
            "_view_count": null,
            "_view_module": "@jupyter-widgets/base",
            "_view_module_version": "1.2.0",
            "_view_name": "LayoutView",
            "align_content": null,
            "align_items": null,
            "align_self": null,
            "border": null,
            "bottom": null,
            "display": null,
            "flex": null,
            "flex_flow": null,
            "grid_area": null,
            "grid_auto_columns": null,
            "grid_auto_flow": null,
            "grid_auto_rows": null,
            "grid_column": null,
            "grid_gap": null,
            "grid_row": null,
            "grid_template_areas": null,
            "grid_template_columns": null,
            "grid_template_rows": null,
            "height": null,
            "justify_content": null,
            "justify_items": null,
            "left": null,
            "margin": null,
            "max_height": null,
            "max_width": null,
            "min_height": null,
            "min_width": null,
            "object_fit": null,
            "object_position": null,
            "order": null,
            "overflow": null,
            "overflow_x": null,
            "overflow_y": null,
            "padding": null,
            "right": null,
            "top": null,
            "visibility": null,
            "width": null
          }
        },
        "35c0b092528742eab62a257714b72ea6": {
          "model_module": "@jupyter-widgets/controls",
          "model_name": "ProgressStyleModel",
          "model_module_version": "1.5.0",
          "state": {
            "_model_module": "@jupyter-widgets/controls",
            "_model_module_version": "1.5.0",
            "_model_name": "ProgressStyleModel",
            "_view_count": null,
            "_view_module": "@jupyter-widgets/base",
            "_view_module_version": "1.2.0",
            "_view_name": "StyleView",
            "bar_color": null,
            "description_width": ""
          }
        },
        "2f77fa3570dd477ebf41517f0a83d2b5": {
          "model_module": "@jupyter-widgets/base",
          "model_name": "LayoutModel",
          "model_module_version": "1.2.0",
          "state": {
            "_model_module": "@jupyter-widgets/base",
            "_model_module_version": "1.2.0",
            "_model_name": "LayoutModel",
            "_view_count": null,
            "_view_module": "@jupyter-widgets/base",
            "_view_module_version": "1.2.0",
            "_view_name": "LayoutView",
            "align_content": null,
            "align_items": null,
            "align_self": null,
            "border": null,
            "bottom": null,
            "display": null,
            "flex": null,
            "flex_flow": null,
            "grid_area": null,
            "grid_auto_columns": null,
            "grid_auto_flow": null,
            "grid_auto_rows": null,
            "grid_column": null,
            "grid_gap": null,
            "grid_row": null,
            "grid_template_areas": null,
            "grid_template_columns": null,
            "grid_template_rows": null,
            "height": null,
            "justify_content": null,
            "justify_items": null,
            "left": null,
            "margin": null,
            "max_height": null,
            "max_width": null,
            "min_height": null,
            "min_width": null,
            "object_fit": null,
            "object_position": null,
            "order": null,
            "overflow": null,
            "overflow_x": null,
            "overflow_y": null,
            "padding": null,
            "right": null,
            "top": null,
            "visibility": null,
            "width": null
          }
        },
        "c45b05a74fe84ff29e73cf77740222aa": {
          "model_module": "@jupyter-widgets/controls",
          "model_name": "DescriptionStyleModel",
          "model_module_version": "1.5.0",
          "state": {
            "_model_module": "@jupyter-widgets/controls",
            "_model_module_version": "1.5.0",
            "_model_name": "DescriptionStyleModel",
            "_view_count": null,
            "_view_module": "@jupyter-widgets/base",
            "_view_module_version": "1.2.0",
            "_view_name": "StyleView",
            "description_width": ""
          }
        }
      }
    }
  },
  "cells": [
    {
      "cell_type": "markdown",
      "metadata": {
        "id": "view-in-github",
        "colab_type": "text"
      },
      "source": [
        "<a href=\"https://colab.research.google.com/github/ElsieOtube/AI/blob/main/C_122461.ipynb\" target=\"_parent\"><img src=\"https://colab.research.google.com/assets/colab-badge.svg\" alt=\"Open In Colab\"/></a>"
      ]
    },
    {
      "cell_type": "code",
      "execution_count": null,
      "metadata": {
        "colab": {
          "base_uri": "https://localhost:8080/",
          "height": 449,
          "referenced_widgets": [
            "bcb054adf3024bbfbd964d7594f21f88",
            "ef99cfb7e8c6429f9e6bef0fa2193c35",
            "0943305999d8497d8985510a54bfb04d",
            "0e09f31309a3421ba013f169e8dff635",
            "4233365ab5994a998a1caef39b5bdeb5",
            "4321eb2f29024b2da887842b6662e434",
            "ce55f15b6fdb44bfa6a5da59ef955228",
            "cb89bfb98d684cec9059cb121f256b45",
            "35c0b092528742eab62a257714b72ea6",
            "2f77fa3570dd477ebf41517f0a83d2b5",
            "c45b05a74fe84ff29e73cf77740222aa"
          ]
        },
        "id": "eZ7nkdDkh3bK",
        "outputId": "a6446867-9ad1-40d3-a6a3-627c4350708c"
      },
      "outputs": [
        {
          "output_type": "stream",
          "name": "stderr",
          "text": [
            "WARNING:datasets.builder:Found cached dataset swahili_news (/root/.cache/huggingface/datasets/swahili_news/swahili_news/0.2.0/ed5c9a13b97e0d2864ff1e34bfbd38b2f2c54fea77acffcaef187eb4f13cf8cc)\n"
          ]
        },
        {
          "output_type": "display_data",
          "data": {
            "text/plain": [
              "  0%|          | 0/2 [00:00<?, ?it/s]"
            ],
            "application/vnd.jupyter.widget-view+json": {
              "version_major": 2,
              "version_minor": 0,
              "model_id": "bcb054adf3024bbfbd964d7594f21f88"
            }
          },
          "metadata": {}
        },
        {
          "output_type": "stream",
          "name": "stdout",
          "text": [
            "Your final dataset has have 24018 rows. This value is randomised and will keep changing every time you run the code/cell.\n",
            "You have the following value counts for the label column:\n",
            "1    10981\n",
            "2     6471\n",
            "4     2368\n",
            "3     1997\n",
            "0     1398\n",
            "5      803\n",
            "Name: label, dtype: int64\n",
            "----------------------------------------------------------------------\n"
          ]
        },
        {
          "output_type": "execute_result",
          "data": {
            "text/plain": [
              "                                                text  label\n",
              "0  MWANDISHI WETU SIKU hizi vijana wengi wamekuwa...      5\n",
              "1   MFUKO wa Hifadhi ya Jamii kwa Watumishi wa Um...      1\n",
              "2  LAGOSI, NIGERIA MKALI wa muziki nchini Nigeria...      4\n",
              "3  Mwandishi Wetu Tume ya Nguvu za Atomiki Tanzan...      1\n",
              "4   Morocco aliyasema hayo juzi baada ya kuwasili...      2"
            ],
            "text/html": [
              "\n",
              "  <div id=\"df-9b3b0ddb-23e2-4560-a66f-defbc15cde0a\">\n",
              "    <div class=\"colab-df-container\">\n",
              "      <div>\n",
              "<style scoped>\n",
              "    .dataframe tbody tr th:only-of-type {\n",
              "        vertical-align: middle;\n",
              "    }\n",
              "\n",
              "    .dataframe tbody tr th {\n",
              "        vertical-align: top;\n",
              "    }\n",
              "\n",
              "    .dataframe thead th {\n",
              "        text-align: right;\n",
              "    }\n",
              "</style>\n",
              "<table border=\"1\" class=\"dataframe\">\n",
              "  <thead>\n",
              "    <tr style=\"text-align: right;\">\n",
              "      <th></th>\n",
              "      <th>text</th>\n",
              "      <th>label</th>\n",
              "    </tr>\n",
              "  </thead>\n",
              "  <tbody>\n",
              "    <tr>\n",
              "      <th>0</th>\n",
              "      <td>MWANDISHI WETU SIKU hizi vijana wengi wamekuwa...</td>\n",
              "      <td>5</td>\n",
              "    </tr>\n",
              "    <tr>\n",
              "      <th>1</th>\n",
              "      <td>MFUKO wa Hifadhi ya Jamii kwa Watumishi wa Um...</td>\n",
              "      <td>1</td>\n",
              "    </tr>\n",
              "    <tr>\n",
              "      <th>2</th>\n",
              "      <td>LAGOSI, NIGERIA MKALI wa muziki nchini Nigeria...</td>\n",
              "      <td>4</td>\n",
              "    </tr>\n",
              "    <tr>\n",
              "      <th>3</th>\n",
              "      <td>Mwandishi Wetu Tume ya Nguvu za Atomiki Tanzan...</td>\n",
              "      <td>1</td>\n",
              "    </tr>\n",
              "    <tr>\n",
              "      <th>4</th>\n",
              "      <td>Morocco aliyasema hayo juzi baada ya kuwasili...</td>\n",
              "      <td>2</td>\n",
              "    </tr>\n",
              "  </tbody>\n",
              "</table>\n",
              "</div>\n",
              "      <button class=\"colab-df-convert\" onclick=\"convertToInteractive('df-9b3b0ddb-23e2-4560-a66f-defbc15cde0a')\"\n",
              "              title=\"Convert this dataframe to an interactive table.\"\n",
              "              style=\"display:none;\">\n",
              "        \n",
              "  <svg xmlns=\"http://www.w3.org/2000/svg\" height=\"24px\"viewBox=\"0 0 24 24\"\n",
              "       width=\"24px\">\n",
              "    <path d=\"M0 0h24v24H0V0z\" fill=\"none\"/>\n",
              "    <path d=\"M18.56 5.44l.94 2.06.94-2.06 2.06-.94-2.06-.94-.94-2.06-.94 2.06-2.06.94zm-11 1L8.5 8.5l.94-2.06 2.06-.94-2.06-.94L8.5 2.5l-.94 2.06-2.06.94zm10 10l.94 2.06.94-2.06 2.06-.94-2.06-.94-.94-2.06-.94 2.06-2.06.94z\"/><path d=\"M17.41 7.96l-1.37-1.37c-.4-.4-.92-.59-1.43-.59-.52 0-1.04.2-1.43.59L10.3 9.45l-7.72 7.72c-.78.78-.78 2.05 0 2.83L4 21.41c.39.39.9.59 1.41.59.51 0 1.02-.2 1.41-.59l7.78-7.78 2.81-2.81c.8-.78.8-2.07 0-2.86zM5.41 20L4 18.59l7.72-7.72 1.47 1.35L5.41 20z\"/>\n",
              "  </svg>\n",
              "      </button>\n",
              "      \n",
              "  <style>\n",
              "    .colab-df-container {\n",
              "      display:flex;\n",
              "      flex-wrap:wrap;\n",
              "      gap: 12px;\n",
              "    }\n",
              "\n",
              "    .colab-df-convert {\n",
              "      background-color: #E8F0FE;\n",
              "      border: none;\n",
              "      border-radius: 50%;\n",
              "      cursor: pointer;\n",
              "      display: none;\n",
              "      fill: #1967D2;\n",
              "      height: 32px;\n",
              "      padding: 0 0 0 0;\n",
              "      width: 32px;\n",
              "    }\n",
              "\n",
              "    .colab-df-convert:hover {\n",
              "      background-color: #E2EBFA;\n",
              "      box-shadow: 0px 1px 2px rgba(60, 64, 67, 0.3), 0px 1px 3px 1px rgba(60, 64, 67, 0.15);\n",
              "      fill: #174EA6;\n",
              "    }\n",
              "\n",
              "    [theme=dark] .colab-df-convert {\n",
              "      background-color: #3B4455;\n",
              "      fill: #D2E3FC;\n",
              "    }\n",
              "\n",
              "    [theme=dark] .colab-df-convert:hover {\n",
              "      background-color: #434B5C;\n",
              "      box-shadow: 0px 1px 3px 1px rgba(0, 0, 0, 0.15);\n",
              "      filter: drop-shadow(0px 1px 2px rgba(0, 0, 0, 0.3));\n",
              "      fill: #FFFFFF;\n",
              "    }\n",
              "  </style>\n",
              "\n",
              "      <script>\n",
              "        const buttonEl =\n",
              "          document.querySelector('#df-9b3b0ddb-23e2-4560-a66f-defbc15cde0a button.colab-df-convert');\n",
              "        buttonEl.style.display =\n",
              "          google.colab.kernel.accessAllowed ? 'block' : 'none';\n",
              "\n",
              "        async function convertToInteractive(key) {\n",
              "          const element = document.querySelector('#df-9b3b0ddb-23e2-4560-a66f-defbc15cde0a');\n",
              "          const dataTable =\n",
              "            await google.colab.kernel.invokeFunction('convertToInteractive',\n",
              "                                                     [key], {});\n",
              "          if (!dataTable) return;\n",
              "\n",
              "          const docLinkHtml = 'Like what you see? Visit the ' +\n",
              "            '<a target=\"_blank\" href=https://colab.research.google.com/notebooks/data_table.ipynb>data table notebook</a>'\n",
              "            + ' to learn more about interactive tables.';\n",
              "          element.innerHTML = '';\n",
              "          dataTable['output_type'] = 'display_data';\n",
              "          await google.colab.output.renderOutput(dataTable, element);\n",
              "          const docLink = document.createElement('div');\n",
              "          docLink.innerHTML = docLinkHtml;\n",
              "          element.appendChild(docLink);\n",
              "        }\n",
              "      </script>\n",
              "    </div>\n",
              "  </div>\n",
              "  "
            ]
          },
          "metadata": {},
          "execution_count": 7
        }
      ],
      "source": [
        "!pip install datasets -q\n",
        "\n",
        "import pandas as pd\n",
        "import numpy as np\n",
        "from datasets import load_dataset\n",
        "import warnings\n",
        "warnings.filterwarnings('ignore')\n",
        "\n",
        "dataset = load_dataset(\"swahili_news\")\n",
        "\n",
        "train_texts = dataset[\"train\"][\"text\"]\n",
        "train_labels = dataset[\"train\"][\"label\"]\n",
        "\n",
        "test_texts = dataset[\"test\"][\"text\"]\n",
        "test_labels = dataset[\"test\"][\"label\"]\n",
        "\n",
        "df = pd.DataFrame()\n",
        "df[\"text\"] = train_texts + test_texts\n",
        "df[\"label\"] = train_labels + test_labels\n",
        "df[\"text\"].iloc[np.random.choice(df.index, 100, replace=False)] = np.nan\n",
        "df = df.sample(np.random.randint(24000, 24500))\n",
        "df = df.reset_index(drop=True)\n",
        "\n",
        "\n",
        "print(\"Your final dataset has have {} rows\".format(df.shape[0]) + \". This value is randomised and will keep changing every time you run the code/cell.\")\n",
        "print(\"You have the following value counts for the label column:\")\n",
        "print(df[\"label\"].value_counts())\n",
        "print(\"-------\" * 10)\n",
        "df.head()"
      ]
    },
    {
      "cell_type": "code",
      "source": [
        "!pip install nltk\n",
        "import nltk \n",
        "\n",
        "nltk.download('punkt')\n",
        "nltk.download('stopwords')"
      ],
      "metadata": {
        "id": "Yc9V9aBYngxt",
        "colab": {
          "base_uri": "https://localhost:8080/"
        },
        "outputId": "f4e0b890-3e45-4679-f2e2-9a98f3dcce2d"
      },
      "execution_count": null,
      "outputs": [
        {
          "output_type": "stream",
          "name": "stdout",
          "text": [
            "Looking in indexes: https://pypi.org/simple, https://us-python.pkg.dev/colab-wheels/public/simple/\n",
            "Requirement already satisfied: nltk in /usr/local/lib/python3.7/dist-packages (3.7)\n",
            "Requirement already satisfied: tqdm in /usr/local/lib/python3.7/dist-packages (from nltk) (4.64.1)\n",
            "Requirement already satisfied: click in /usr/local/lib/python3.7/dist-packages (from nltk) (7.1.2)\n",
            "Requirement already satisfied: joblib in /usr/local/lib/python3.7/dist-packages (from nltk) (1.2.0)\n",
            "Requirement already satisfied: regex>=2021.8.3 in /usr/local/lib/python3.7/dist-packages (from nltk) (2022.6.2)\n"
          ]
        },
        {
          "output_type": "stream",
          "name": "stderr",
          "text": [
            "[nltk_data] Downloading package punkt to /root/nltk_data...\n",
            "[nltk_data]   Package punkt is already up-to-date!\n",
            "[nltk_data] Downloading package stopwords to /root/nltk_data...\n",
            "[nltk_data]   Package stopwords is already up-to-date!\n"
          ]
        },
        {
          "output_type": "execute_result",
          "data": {
            "text/plain": [
              "True"
            ]
          },
          "metadata": {},
          "execution_count": 8
        }
      ]
    },
    {
      "cell_type": "code",
      "source": [
        "df['label'].value_counts()"
      ],
      "metadata": {
        "colab": {
          "base_uri": "https://localhost:8080/"
        },
        "id": "dJpOWHh9puA5",
        "outputId": "5b49e723-9ae7-4b06-d330-d036c87f8d58"
      },
      "execution_count": null,
      "outputs": [
        {
          "output_type": "execute_result",
          "data": {
            "text/plain": [
              "1    10981\n",
              "2     6471\n",
              "4     2368\n",
              "3     1997\n",
              "0     1398\n",
              "5      803\n",
              "Name: label, dtype: int64"
            ]
          },
          "metadata": {},
          "execution_count": 9
        }
      ]
    },
    {
      "cell_type": "code",
      "source": [
        "# print sample text for reference\n",
        "sample = df['text'].iloc[121]\n",
        "print(sample)"
      ],
      "metadata": {
        "colab": {
          "base_uri": "https://localhost:8080/"
        },
        "id": "0NSICliUqhmV",
        "outputId": "382a7b03-a0a1-4e5c-b7c9-d3192da6945f"
      },
      "execution_count": null,
      "outputs": [
        {
          "output_type": "stream",
          "name": "stdout",
          "text": [
            " Na  FERDNANDA MBAMILA-DAR ES SALAAM KATIKA  tathmini iliyofanywa na mwandishi wa makala haya katika  maeneo mbalimbali ya Sinza jijini  Dar es Salaam, imebainika kuwa wamiliki wa baa, nyumba za kulala wageni na ‘supermarket’  kuwa  katika kipindi  kigumu   cha biashara wakati  huu wa Serikali  ya  Awamu ya Tano. Imeonekana wazi kuwa biashara imekuwa ngumu kwa wafanyabiashara  ukilinganisha na ilivyokuwa  hapo awali. Wamiliki wa biashara hizo  wanalalama kukosa  wateja na kutokutoka kwa bidhaa zao kutokana na hali ya maisha kuwa juu zaidi ukilinganisha na ilivyokuwa hapo awali. Hali hiyo imetokana na ukata kuzidi kushika kasi katika nyanja mbalimbali za kibiashara, hivyo  kusababisha wamiliki  kulazimika  kufunga biashara zao  na  wengine kuuza majengo kwa bei ya hasara. Waziri wa Fedha ameainisha kufungwa kwa biashara kwa baadhi ya wafanyabiashara, lakini anashindwa kuelewa sababu ya  kutokea hayo kwani haijafanya mabadiliko  ya kodi kwa kupandisha au kuongeza uwigo wa hiyo kodi. Sasa nyumba za wageni hususani za jijini Dar  es Salaam mara nyingi huaminika kwa kulala  wazawa (wenyeji pekee) badala ya wageni, kutokana na ongezeko la wingi wa nyumba za wageni kuzidi kujengwa kila siku. Lakini kwa sasa hali imekuwa ndivyo sivyo na matarajio, kwani hata wenyeji pia imekuwa ni vigumu kuingia na kupata huduma   kutokana na mkwamo wa maisha. Gharama ya chumba cha kulala kwa siku katika baadhi ya nyumba mara nyingi hutofautiana kutokana na hadhi ya mahali na mazingira husika. Kuna baadhi ya hoteli  na nyumba zina hadhi ya juu ambapo chumba kimoja kwa siku hupatikana kwa Sh 100,000 na kuendelea  na zile nyumba nyingine  huwa ni Sh 12,000, 15,000 , 20,000, 30,000 na kushuka chini, lakini kwa kipindi hiki imekuwa ni tofauti kiasi kwamba  bei imeanguka  chumba cha nyumba ya wageni Sh 12,000 hukodishwa kwa Sh 10,000 hadi 8,000  na cha Sh 20,000 kinapungia hadi kufikia  Sh 18,000. Mara nyingi  kwa kipindi  hiki nyumba hizo huweza kuingia wateja wawili  tu, biashara ikiwa mbaya zaidi  inaweza kupita siku nzima mmiliki  asiingize hata mteja mmoja. Mbali na nyumba hizo kutokupata wateja,  vilevile hata  katika upande wa utokaji wa  vinywaji  katika baa  umekuwa ni shida kwani mauzo yamedorora  na kuathiri zaidi biashara. Mmiliki mmoja  wa Baa  ya Home Town iliyopo  katika eneo la Sinza Mori ambaye hakutaka jina lake kuandikwa,  aliliambia MTANZANIA kuwa  mara nyingi biashara huwa ni mbaya, lakini kwa muda wa kipindi hiki cha bajeti ya mwaka mambo  yamezidi kuwa magumu zaidi tofauti na  matarajio. Hali hiyo hubadilika hasa kwa kipindi hiki  ikichangia  kuwa na mabadiliko ya soko la biashara hiyo kusababisha  kudorora siku hadi siku. Pia changamoto nyingine ni mabadiliko ya hali ya hewa kama vile mvua ambazo zinaendelea kunyesha hivi karibuni ambayo  mara nyingi  endapo zikizidi huathiri mwenendo mzima wa uendeshaji wa biashara kwa wafanyabiashara wengi. Hivyo, kutokana na mvua zinazoendelea kunyesha mfululizo jijini Dar es Salaam na  maeneo  mengine mbalimbali ya mikoa ya Tanzania, wafanyabiashara wamekuwa wakilia kupungua kwa kipato katika mauzo, hata hivyo kushindwa kufikia malengo stahiki na  kwa  wakati  mwafaka, hivyo  kusababisha wananchi kuzidi kulalamikia Serikali  kila siku. Anasema unaweza  kufungua biashara  asubuhi  lakini matokeo  yake hadi kufika  jioni ukashindwa kuuza chochote,  kwani kuna uwezekano  wa  kupita siku nzima usiuze hata kidogo,  hivyo mmiliki kushindwa kuiendeleza biashara hiyo. Biashara ya ‘supermarket’ Supermarket pia zimekuwa  zikikabiliwa na adha ya kutotoka kwa bidhaa  na hivyo kushuka kwa mauzo ya kibiashara  hususani kwa kipindi cha bajeti ya mwaka wa fedha ilipokuwa inaendelea kule Dodoma. Mmoja wa wamiliki wa biashara ya ‘supermarket’ au duka kubwa katika  maeneo ya Sinza jijini Dar es Salaam,  anaielezea  hali hiyo  kuwa katika biashara kuna vipindi viwili  vya Serikali katika biashara  ambayo ni Juni mosi na  Julai 30 ambavyo huwa katika mwaka wa bajeti. Anasema kwa kipindi hicho biashara  mara nyingi huwa si nzuri ukilinganisha na vipindi vilivyopita vya mwaka 2015 hadi 2016, kwani ilikuwa ni afadhali katika ufanyaji wa biashara mbalimbali nchini na hata  kwa mamalishe pia. Lakini imekuwa ni tofauti kwa mwaka huu wa 2017 tangu  uanze, kwani kila kitu kimekuwa ni  ghali sana  na tofauti na hapo awali. Anasema katika kipindi cha nyuma cha bajeti ya Serikali, bajeti ilikuwa nzuri watu wengi walikuwa wakifanya biashara inatoka na kuona matunda ya faida inayotokana na biashara hiyo. “Kwa ujumla pesa ilikuwa  inapatikana kwa urahisi katika nyanja mbalimbali hata kwa wapiga dili, hii ni kutokana na mzunguko mzuri wa fedha katika Serikali iliyopita,” anasema mfanyabiashara huyo. Anasema katika biashara ya kuuza bidhaa za vyakula (supermarket),  imeshuka kimapato ukilinganisha na hapo awali  mteja mmoja alikuwa akinunua bidhaa hata 10  kwa siku, lakini imekuwa ni tofauti kwani kwa siku sasa mteja mmoja hununua wastani  wa bidhaa 2 hadi 3 pekee. Hali hiyo ni kutokana na watu kukosa  fedha  za kutosha  kwa ajili ya  manunuzi ya bidhaa wanazohitaji kununua kwa wakati huo. Hata hivyo, ameongeza kuwa kwa kipindi hiki hauzi mzigo kwa wakati  mwafaka, kwani anaweza kununua mzigo  wa  wiki ukakaa  mwezi mzima bila kuisha, hivyo ni tofauti na kipindi cha nyuma ilivyokuwa katika mauzo. Anasema: “Hapo awali nilikuwa nauza bidhaa za aina mbili  ambazo ni za vyakula na za watoto kama vile pampas, wipers,  taulo za watoto, nguo na vitu mbalimbali vya watoto ambapo bidhaa za watoto zilikuwa ni ghali sana  na ndio maana zilikuwa hazitoki kibiashara. Katika mabadiliko ya kibiashara kwa mfanyabiashara  huyo, yapo pia ya kawaida, kwani  kwa siku yaweza kutokea biashara kuwa mbaya zaidi ya jana. Anaongeza kuwa hata katika maandiko matakatifu  yanasema kuwa  ‘vitaumbwa  vipya na vizuri vitaaga’, kauli hii yenye maana kwamba  huu ndio wakati wake kwani nao utapita na utakuja mwingine. Hali  hii ni kutokana na kipindi cha mpito wa biashara ngumu kwani katika biashara kuna  vipindi viwili, navyo ni kipindi cha mafanikio na kipindi cha kukosa. Anaongeza kuwa baada ya kuona biashara ya bidhaa za watoto hazitoki, ikabidi ahamishe na kuhamia sehemu nyingine  na kuweka bidhaa za watoto pekee bila kuchanganya na bidhaa za vyakula. Anasema hali hii imekuwa ngumu hata kwa wapiga dili za hapa na pale mtaani,  kukosa chochote na hatimaye  juhudi zao kupiga mwamba siku hadi siku, ambapo  hapo awali katika Serikali ya Awamu ya Nne, mambo yalikuwa ni rahisi kwao. Ametoa rai kwa wapiga dili wote kwamba, kwa kipindi hiki ni wakati wa kujishughulisha  na si  kubweteka kusuburi mambo ya mteremko kwa hali ya sasa ilivyo na inakoelekea ni mbaya  kuliko jana. Ameongeza kuwa kwa hali iliyopo sasa hakuna fedha  isiyo halali ambayo hukuitolea jasho, kwani lazima  ufanye kazi kwa bidii ndipo matunda utayaona. Kitu cha msingi hasa ni  kufanya kazi kwa bidii na kwa uhalali kwa kipindi hiki ili kutokuwa tegemezi  ili kufanikisha jambo husika ulilokusudia kufanya  kwa wakati  mwafaka. “Kupitia njia hiyo, watu wanaofanya dili za hapa na pale watapungua  kwa kiasi fulani, hatimaye  tutawapata  wananchi watenda  kazi   na wanaofanya kazi kihalali kwa kuitolea jasho,” alishauri.\n"
          ]
        }
      ]
    },
    {
      "cell_type": "code",
      "source": [
        "print(sample)\n",
        "print(str(sample).replace(\"@\", \" \"))                # replace @ with space\n",
        "print(str(sample).replace(\"#\", \" \"))                # replace # with space\n",
        "print(str(sample).replace(\"\\s+\", \" \"))              # replace multiple spaces with single space\n",
        "print(str(sample).replace(\"http\\S+\", \" \"))          # replace urls with space  \n",
        "print(str(sample).replace(\"\\d+\", \" \"))              # replace numbers with space\n",
        "print(str(sample).replace(\"[^a-zA-Z]\", \" \"))        # replace special characters with space\n",
        "print(str(sample).lower())                          # convert to lower case\n"
      ],
      "metadata": {
        "colab": {
          "base_uri": "https://localhost:8080/"
        },
        "id": "r-VK44GUr6Ii",
        "outputId": "67584aba-f752-4347-df4a-9bf3a47dbedb"
      },
      "execution_count": null,
      "outputs": [
        {
          "output_type": "stream",
          "name": "stdout",
          "text": [
            " Na  FERDNANDA MBAMILA-DAR ES SALAAM KATIKA  tathmini iliyofanywa na mwandishi wa makala haya katika  maeneo mbalimbali ya Sinza jijini  Dar es Salaam, imebainika kuwa wamiliki wa baa, nyumba za kulala wageni na ‘supermarket’  kuwa  katika kipindi  kigumu   cha biashara wakati  huu wa Serikali  ya  Awamu ya Tano. Imeonekana wazi kuwa biashara imekuwa ngumu kwa wafanyabiashara  ukilinganisha na ilivyokuwa  hapo awali. Wamiliki wa biashara hizo  wanalalama kukosa  wateja na kutokutoka kwa bidhaa zao kutokana na hali ya maisha kuwa juu zaidi ukilinganisha na ilivyokuwa hapo awali. Hali hiyo imetokana na ukata kuzidi kushika kasi katika nyanja mbalimbali za kibiashara, hivyo  kusababisha wamiliki  kulazimika  kufunga biashara zao  na  wengine kuuza majengo kwa bei ya hasara. Waziri wa Fedha ameainisha kufungwa kwa biashara kwa baadhi ya wafanyabiashara, lakini anashindwa kuelewa sababu ya  kutokea hayo kwani haijafanya mabadiliko  ya kodi kwa kupandisha au kuongeza uwigo wa hiyo kodi. Sasa nyumba za wageni hususani za jijini Dar  es Salaam mara nyingi huaminika kwa kulala  wazawa (wenyeji pekee) badala ya wageni, kutokana na ongezeko la wingi wa nyumba za wageni kuzidi kujengwa kila siku. Lakini kwa sasa hali imekuwa ndivyo sivyo na matarajio, kwani hata wenyeji pia imekuwa ni vigumu kuingia na kupata huduma   kutokana na mkwamo wa maisha. Gharama ya chumba cha kulala kwa siku katika baadhi ya nyumba mara nyingi hutofautiana kutokana na hadhi ya mahali na mazingira husika. Kuna baadhi ya hoteli  na nyumba zina hadhi ya juu ambapo chumba kimoja kwa siku hupatikana kwa Sh 100,000 na kuendelea  na zile nyumba nyingine  huwa ni Sh 12,000, 15,000 , 20,000, 30,000 na kushuka chini, lakini kwa kipindi hiki imekuwa ni tofauti kiasi kwamba  bei imeanguka  chumba cha nyumba ya wageni Sh 12,000 hukodishwa kwa Sh 10,000 hadi 8,000  na cha Sh 20,000 kinapungia hadi kufikia  Sh 18,000. Mara nyingi  kwa kipindi  hiki nyumba hizo huweza kuingia wateja wawili  tu, biashara ikiwa mbaya zaidi  inaweza kupita siku nzima mmiliki  asiingize hata mteja mmoja. Mbali na nyumba hizo kutokupata wateja,  vilevile hata  katika upande wa utokaji wa  vinywaji  katika baa  umekuwa ni shida kwani mauzo yamedorora  na kuathiri zaidi biashara. Mmiliki mmoja  wa Baa  ya Home Town iliyopo  katika eneo la Sinza Mori ambaye hakutaka jina lake kuandikwa,  aliliambia MTANZANIA kuwa  mara nyingi biashara huwa ni mbaya, lakini kwa muda wa kipindi hiki cha bajeti ya mwaka mambo  yamezidi kuwa magumu zaidi tofauti na  matarajio. Hali hiyo hubadilika hasa kwa kipindi hiki  ikichangia  kuwa na mabadiliko ya soko la biashara hiyo kusababisha  kudorora siku hadi siku. Pia changamoto nyingine ni mabadiliko ya hali ya hewa kama vile mvua ambazo zinaendelea kunyesha hivi karibuni ambayo  mara nyingi  endapo zikizidi huathiri mwenendo mzima wa uendeshaji wa biashara kwa wafanyabiashara wengi. Hivyo, kutokana na mvua zinazoendelea kunyesha mfululizo jijini Dar es Salaam na  maeneo  mengine mbalimbali ya mikoa ya Tanzania, wafanyabiashara wamekuwa wakilia kupungua kwa kipato katika mauzo, hata hivyo kushindwa kufikia malengo stahiki na  kwa  wakati  mwafaka, hivyo  kusababisha wananchi kuzidi kulalamikia Serikali  kila siku. Anasema unaweza  kufungua biashara  asubuhi  lakini matokeo  yake hadi kufika  jioni ukashindwa kuuza chochote,  kwani kuna uwezekano  wa  kupita siku nzima usiuze hata kidogo,  hivyo mmiliki kushindwa kuiendeleza biashara hiyo. Biashara ya ‘supermarket’ Supermarket pia zimekuwa  zikikabiliwa na adha ya kutotoka kwa bidhaa  na hivyo kushuka kwa mauzo ya kibiashara  hususani kwa kipindi cha bajeti ya mwaka wa fedha ilipokuwa inaendelea kule Dodoma. Mmoja wa wamiliki wa biashara ya ‘supermarket’ au duka kubwa katika  maeneo ya Sinza jijini Dar es Salaam,  anaielezea  hali hiyo  kuwa katika biashara kuna vipindi viwili  vya Serikali katika biashara  ambayo ni Juni mosi na  Julai 30 ambavyo huwa katika mwaka wa bajeti. Anasema kwa kipindi hicho biashara  mara nyingi huwa si nzuri ukilinganisha na vipindi vilivyopita vya mwaka 2015 hadi 2016, kwani ilikuwa ni afadhali katika ufanyaji wa biashara mbalimbali nchini na hata  kwa mamalishe pia. Lakini imekuwa ni tofauti kwa mwaka huu wa 2017 tangu  uanze, kwani kila kitu kimekuwa ni  ghali sana  na tofauti na hapo awali. Anasema katika kipindi cha nyuma cha bajeti ya Serikali, bajeti ilikuwa nzuri watu wengi walikuwa wakifanya biashara inatoka na kuona matunda ya faida inayotokana na biashara hiyo. “Kwa ujumla pesa ilikuwa  inapatikana kwa urahisi katika nyanja mbalimbali hata kwa wapiga dili, hii ni kutokana na mzunguko mzuri wa fedha katika Serikali iliyopita,” anasema mfanyabiashara huyo. Anasema katika biashara ya kuuza bidhaa za vyakula (supermarket),  imeshuka kimapato ukilinganisha na hapo awali  mteja mmoja alikuwa akinunua bidhaa hata 10  kwa siku, lakini imekuwa ni tofauti kwani kwa siku sasa mteja mmoja hununua wastani  wa bidhaa 2 hadi 3 pekee. Hali hiyo ni kutokana na watu kukosa  fedha  za kutosha  kwa ajili ya  manunuzi ya bidhaa wanazohitaji kununua kwa wakati huo. Hata hivyo, ameongeza kuwa kwa kipindi hiki hauzi mzigo kwa wakati  mwafaka, kwani anaweza kununua mzigo  wa  wiki ukakaa  mwezi mzima bila kuisha, hivyo ni tofauti na kipindi cha nyuma ilivyokuwa katika mauzo. Anasema: “Hapo awali nilikuwa nauza bidhaa za aina mbili  ambazo ni za vyakula na za watoto kama vile pampas, wipers,  taulo za watoto, nguo na vitu mbalimbali vya watoto ambapo bidhaa za watoto zilikuwa ni ghali sana  na ndio maana zilikuwa hazitoki kibiashara. Katika mabadiliko ya kibiashara kwa mfanyabiashara  huyo, yapo pia ya kawaida, kwani  kwa siku yaweza kutokea biashara kuwa mbaya zaidi ya jana. Anaongeza kuwa hata katika maandiko matakatifu  yanasema kuwa  ‘vitaumbwa  vipya na vizuri vitaaga’, kauli hii yenye maana kwamba  huu ndio wakati wake kwani nao utapita na utakuja mwingine. Hali  hii ni kutokana na kipindi cha mpito wa biashara ngumu kwani katika biashara kuna  vipindi viwili, navyo ni kipindi cha mafanikio na kipindi cha kukosa. Anaongeza kuwa baada ya kuona biashara ya bidhaa za watoto hazitoki, ikabidi ahamishe na kuhamia sehemu nyingine  na kuweka bidhaa za watoto pekee bila kuchanganya na bidhaa za vyakula. Anasema hali hii imekuwa ngumu hata kwa wapiga dili za hapa na pale mtaani,  kukosa chochote na hatimaye  juhudi zao kupiga mwamba siku hadi siku, ambapo  hapo awali katika Serikali ya Awamu ya Nne, mambo yalikuwa ni rahisi kwao. Ametoa rai kwa wapiga dili wote kwamba, kwa kipindi hiki ni wakati wa kujishughulisha  na si  kubweteka kusuburi mambo ya mteremko kwa hali ya sasa ilivyo na inakoelekea ni mbaya  kuliko jana. Ameongeza kuwa kwa hali iliyopo sasa hakuna fedha  isiyo halali ambayo hukuitolea jasho, kwani lazima  ufanye kazi kwa bidii ndipo matunda utayaona. Kitu cha msingi hasa ni  kufanya kazi kwa bidii na kwa uhalali kwa kipindi hiki ili kutokuwa tegemezi  ili kufanikisha jambo husika ulilokusudia kufanya  kwa wakati  mwafaka. “Kupitia njia hiyo, watu wanaofanya dili za hapa na pale watapungua  kwa kiasi fulani, hatimaye  tutawapata  wananchi watenda  kazi   na wanaofanya kazi kihalali kwa kuitolea jasho,” alishauri.\n",
            " Na  FERDNANDA MBAMILA-DAR ES SALAAM KATIKA  tathmini iliyofanywa na mwandishi wa makala haya katika  maeneo mbalimbali ya Sinza jijini  Dar es Salaam, imebainika kuwa wamiliki wa baa, nyumba za kulala wageni na ‘supermarket’  kuwa  katika kipindi  kigumu   cha biashara wakati  huu wa Serikali  ya  Awamu ya Tano. Imeonekana wazi kuwa biashara imekuwa ngumu kwa wafanyabiashara  ukilinganisha na ilivyokuwa  hapo awali. Wamiliki wa biashara hizo  wanalalama kukosa  wateja na kutokutoka kwa bidhaa zao kutokana na hali ya maisha kuwa juu zaidi ukilinganisha na ilivyokuwa hapo awali. Hali hiyo imetokana na ukata kuzidi kushika kasi katika nyanja mbalimbali za kibiashara, hivyo  kusababisha wamiliki  kulazimika  kufunga biashara zao  na  wengine kuuza majengo kwa bei ya hasara. Waziri wa Fedha ameainisha kufungwa kwa biashara kwa baadhi ya wafanyabiashara, lakini anashindwa kuelewa sababu ya  kutokea hayo kwani haijafanya mabadiliko  ya kodi kwa kupandisha au kuongeza uwigo wa hiyo kodi. Sasa nyumba za wageni hususani za jijini Dar  es Salaam mara nyingi huaminika kwa kulala  wazawa (wenyeji pekee) badala ya wageni, kutokana na ongezeko la wingi wa nyumba za wageni kuzidi kujengwa kila siku. Lakini kwa sasa hali imekuwa ndivyo sivyo na matarajio, kwani hata wenyeji pia imekuwa ni vigumu kuingia na kupata huduma   kutokana na mkwamo wa maisha. Gharama ya chumba cha kulala kwa siku katika baadhi ya nyumba mara nyingi hutofautiana kutokana na hadhi ya mahali na mazingira husika. Kuna baadhi ya hoteli  na nyumba zina hadhi ya juu ambapo chumba kimoja kwa siku hupatikana kwa Sh 100,000 na kuendelea  na zile nyumba nyingine  huwa ni Sh 12,000, 15,000 , 20,000, 30,000 na kushuka chini, lakini kwa kipindi hiki imekuwa ni tofauti kiasi kwamba  bei imeanguka  chumba cha nyumba ya wageni Sh 12,000 hukodishwa kwa Sh 10,000 hadi 8,000  na cha Sh 20,000 kinapungia hadi kufikia  Sh 18,000. Mara nyingi  kwa kipindi  hiki nyumba hizo huweza kuingia wateja wawili  tu, biashara ikiwa mbaya zaidi  inaweza kupita siku nzima mmiliki  asiingize hata mteja mmoja. Mbali na nyumba hizo kutokupata wateja,  vilevile hata  katika upande wa utokaji wa  vinywaji  katika baa  umekuwa ni shida kwani mauzo yamedorora  na kuathiri zaidi biashara. Mmiliki mmoja  wa Baa  ya Home Town iliyopo  katika eneo la Sinza Mori ambaye hakutaka jina lake kuandikwa,  aliliambia MTANZANIA kuwa  mara nyingi biashara huwa ni mbaya, lakini kwa muda wa kipindi hiki cha bajeti ya mwaka mambo  yamezidi kuwa magumu zaidi tofauti na  matarajio. Hali hiyo hubadilika hasa kwa kipindi hiki  ikichangia  kuwa na mabadiliko ya soko la biashara hiyo kusababisha  kudorora siku hadi siku. Pia changamoto nyingine ni mabadiliko ya hali ya hewa kama vile mvua ambazo zinaendelea kunyesha hivi karibuni ambayo  mara nyingi  endapo zikizidi huathiri mwenendo mzima wa uendeshaji wa biashara kwa wafanyabiashara wengi. Hivyo, kutokana na mvua zinazoendelea kunyesha mfululizo jijini Dar es Salaam na  maeneo  mengine mbalimbali ya mikoa ya Tanzania, wafanyabiashara wamekuwa wakilia kupungua kwa kipato katika mauzo, hata hivyo kushindwa kufikia malengo stahiki na  kwa  wakati  mwafaka, hivyo  kusababisha wananchi kuzidi kulalamikia Serikali  kila siku. Anasema unaweza  kufungua biashara  asubuhi  lakini matokeo  yake hadi kufika  jioni ukashindwa kuuza chochote,  kwani kuna uwezekano  wa  kupita siku nzima usiuze hata kidogo,  hivyo mmiliki kushindwa kuiendeleza biashara hiyo. Biashara ya ‘supermarket’ Supermarket pia zimekuwa  zikikabiliwa na adha ya kutotoka kwa bidhaa  na hivyo kushuka kwa mauzo ya kibiashara  hususani kwa kipindi cha bajeti ya mwaka wa fedha ilipokuwa inaendelea kule Dodoma. Mmoja wa wamiliki wa biashara ya ‘supermarket’ au duka kubwa katika  maeneo ya Sinza jijini Dar es Salaam,  anaielezea  hali hiyo  kuwa katika biashara kuna vipindi viwili  vya Serikali katika biashara  ambayo ni Juni mosi na  Julai 30 ambavyo huwa katika mwaka wa bajeti. Anasema kwa kipindi hicho biashara  mara nyingi huwa si nzuri ukilinganisha na vipindi vilivyopita vya mwaka 2015 hadi 2016, kwani ilikuwa ni afadhali katika ufanyaji wa biashara mbalimbali nchini na hata  kwa mamalishe pia. Lakini imekuwa ni tofauti kwa mwaka huu wa 2017 tangu  uanze, kwani kila kitu kimekuwa ni  ghali sana  na tofauti na hapo awali. Anasema katika kipindi cha nyuma cha bajeti ya Serikali, bajeti ilikuwa nzuri watu wengi walikuwa wakifanya biashara inatoka na kuona matunda ya faida inayotokana na biashara hiyo. “Kwa ujumla pesa ilikuwa  inapatikana kwa urahisi katika nyanja mbalimbali hata kwa wapiga dili, hii ni kutokana na mzunguko mzuri wa fedha katika Serikali iliyopita,” anasema mfanyabiashara huyo. Anasema katika biashara ya kuuza bidhaa za vyakula (supermarket),  imeshuka kimapato ukilinganisha na hapo awali  mteja mmoja alikuwa akinunua bidhaa hata 10  kwa siku, lakini imekuwa ni tofauti kwani kwa siku sasa mteja mmoja hununua wastani  wa bidhaa 2 hadi 3 pekee. Hali hiyo ni kutokana na watu kukosa  fedha  za kutosha  kwa ajili ya  manunuzi ya bidhaa wanazohitaji kununua kwa wakati huo. Hata hivyo, ameongeza kuwa kwa kipindi hiki hauzi mzigo kwa wakati  mwafaka, kwani anaweza kununua mzigo  wa  wiki ukakaa  mwezi mzima bila kuisha, hivyo ni tofauti na kipindi cha nyuma ilivyokuwa katika mauzo. Anasema: “Hapo awali nilikuwa nauza bidhaa za aina mbili  ambazo ni za vyakula na za watoto kama vile pampas, wipers,  taulo za watoto, nguo na vitu mbalimbali vya watoto ambapo bidhaa za watoto zilikuwa ni ghali sana  na ndio maana zilikuwa hazitoki kibiashara. Katika mabadiliko ya kibiashara kwa mfanyabiashara  huyo, yapo pia ya kawaida, kwani  kwa siku yaweza kutokea biashara kuwa mbaya zaidi ya jana. Anaongeza kuwa hata katika maandiko matakatifu  yanasema kuwa  ‘vitaumbwa  vipya na vizuri vitaaga’, kauli hii yenye maana kwamba  huu ndio wakati wake kwani nao utapita na utakuja mwingine. Hali  hii ni kutokana na kipindi cha mpito wa biashara ngumu kwani katika biashara kuna  vipindi viwili, navyo ni kipindi cha mafanikio na kipindi cha kukosa. Anaongeza kuwa baada ya kuona biashara ya bidhaa za watoto hazitoki, ikabidi ahamishe na kuhamia sehemu nyingine  na kuweka bidhaa za watoto pekee bila kuchanganya na bidhaa za vyakula. Anasema hali hii imekuwa ngumu hata kwa wapiga dili za hapa na pale mtaani,  kukosa chochote na hatimaye  juhudi zao kupiga mwamba siku hadi siku, ambapo  hapo awali katika Serikali ya Awamu ya Nne, mambo yalikuwa ni rahisi kwao. Ametoa rai kwa wapiga dili wote kwamba, kwa kipindi hiki ni wakati wa kujishughulisha  na si  kubweteka kusuburi mambo ya mteremko kwa hali ya sasa ilivyo na inakoelekea ni mbaya  kuliko jana. Ameongeza kuwa kwa hali iliyopo sasa hakuna fedha  isiyo halali ambayo hukuitolea jasho, kwani lazima  ufanye kazi kwa bidii ndipo matunda utayaona. Kitu cha msingi hasa ni  kufanya kazi kwa bidii na kwa uhalali kwa kipindi hiki ili kutokuwa tegemezi  ili kufanikisha jambo husika ulilokusudia kufanya  kwa wakati  mwafaka. “Kupitia njia hiyo, watu wanaofanya dili za hapa na pale watapungua  kwa kiasi fulani, hatimaye  tutawapata  wananchi watenda  kazi   na wanaofanya kazi kihalali kwa kuitolea jasho,” alishauri.\n",
            " Na  FERDNANDA MBAMILA-DAR ES SALAAM KATIKA  tathmini iliyofanywa na mwandishi wa makala haya katika  maeneo mbalimbali ya Sinza jijini  Dar es Salaam, imebainika kuwa wamiliki wa baa, nyumba za kulala wageni na ‘supermarket’  kuwa  katika kipindi  kigumu   cha biashara wakati  huu wa Serikali  ya  Awamu ya Tano. Imeonekana wazi kuwa biashara imekuwa ngumu kwa wafanyabiashara  ukilinganisha na ilivyokuwa  hapo awali. Wamiliki wa biashara hizo  wanalalama kukosa  wateja na kutokutoka kwa bidhaa zao kutokana na hali ya maisha kuwa juu zaidi ukilinganisha na ilivyokuwa hapo awali. Hali hiyo imetokana na ukata kuzidi kushika kasi katika nyanja mbalimbali za kibiashara, hivyo  kusababisha wamiliki  kulazimika  kufunga biashara zao  na  wengine kuuza majengo kwa bei ya hasara. Waziri wa Fedha ameainisha kufungwa kwa biashara kwa baadhi ya wafanyabiashara, lakini anashindwa kuelewa sababu ya  kutokea hayo kwani haijafanya mabadiliko  ya kodi kwa kupandisha au kuongeza uwigo wa hiyo kodi. Sasa nyumba za wageni hususani za jijini Dar  es Salaam mara nyingi huaminika kwa kulala  wazawa (wenyeji pekee) badala ya wageni, kutokana na ongezeko la wingi wa nyumba za wageni kuzidi kujengwa kila siku. Lakini kwa sasa hali imekuwa ndivyo sivyo na matarajio, kwani hata wenyeji pia imekuwa ni vigumu kuingia na kupata huduma   kutokana na mkwamo wa maisha. Gharama ya chumba cha kulala kwa siku katika baadhi ya nyumba mara nyingi hutofautiana kutokana na hadhi ya mahali na mazingira husika. Kuna baadhi ya hoteli  na nyumba zina hadhi ya juu ambapo chumba kimoja kwa siku hupatikana kwa Sh 100,000 na kuendelea  na zile nyumba nyingine  huwa ni Sh 12,000, 15,000 , 20,000, 30,000 na kushuka chini, lakini kwa kipindi hiki imekuwa ni tofauti kiasi kwamba  bei imeanguka  chumba cha nyumba ya wageni Sh 12,000 hukodishwa kwa Sh 10,000 hadi 8,000  na cha Sh 20,000 kinapungia hadi kufikia  Sh 18,000. Mara nyingi  kwa kipindi  hiki nyumba hizo huweza kuingia wateja wawili  tu, biashara ikiwa mbaya zaidi  inaweza kupita siku nzima mmiliki  asiingize hata mteja mmoja. Mbali na nyumba hizo kutokupata wateja,  vilevile hata  katika upande wa utokaji wa  vinywaji  katika baa  umekuwa ni shida kwani mauzo yamedorora  na kuathiri zaidi biashara. Mmiliki mmoja  wa Baa  ya Home Town iliyopo  katika eneo la Sinza Mori ambaye hakutaka jina lake kuandikwa,  aliliambia MTANZANIA kuwa  mara nyingi biashara huwa ni mbaya, lakini kwa muda wa kipindi hiki cha bajeti ya mwaka mambo  yamezidi kuwa magumu zaidi tofauti na  matarajio. Hali hiyo hubadilika hasa kwa kipindi hiki  ikichangia  kuwa na mabadiliko ya soko la biashara hiyo kusababisha  kudorora siku hadi siku. Pia changamoto nyingine ni mabadiliko ya hali ya hewa kama vile mvua ambazo zinaendelea kunyesha hivi karibuni ambayo  mara nyingi  endapo zikizidi huathiri mwenendo mzima wa uendeshaji wa biashara kwa wafanyabiashara wengi. Hivyo, kutokana na mvua zinazoendelea kunyesha mfululizo jijini Dar es Salaam na  maeneo  mengine mbalimbali ya mikoa ya Tanzania, wafanyabiashara wamekuwa wakilia kupungua kwa kipato katika mauzo, hata hivyo kushindwa kufikia malengo stahiki na  kwa  wakati  mwafaka, hivyo  kusababisha wananchi kuzidi kulalamikia Serikali  kila siku. Anasema unaweza  kufungua biashara  asubuhi  lakini matokeo  yake hadi kufika  jioni ukashindwa kuuza chochote,  kwani kuna uwezekano  wa  kupita siku nzima usiuze hata kidogo,  hivyo mmiliki kushindwa kuiendeleza biashara hiyo. Biashara ya ‘supermarket’ Supermarket pia zimekuwa  zikikabiliwa na adha ya kutotoka kwa bidhaa  na hivyo kushuka kwa mauzo ya kibiashara  hususani kwa kipindi cha bajeti ya mwaka wa fedha ilipokuwa inaendelea kule Dodoma. Mmoja wa wamiliki wa biashara ya ‘supermarket’ au duka kubwa katika  maeneo ya Sinza jijini Dar es Salaam,  anaielezea  hali hiyo  kuwa katika biashara kuna vipindi viwili  vya Serikali katika biashara  ambayo ni Juni mosi na  Julai 30 ambavyo huwa katika mwaka wa bajeti. Anasema kwa kipindi hicho biashara  mara nyingi huwa si nzuri ukilinganisha na vipindi vilivyopita vya mwaka 2015 hadi 2016, kwani ilikuwa ni afadhali katika ufanyaji wa biashara mbalimbali nchini na hata  kwa mamalishe pia. Lakini imekuwa ni tofauti kwa mwaka huu wa 2017 tangu  uanze, kwani kila kitu kimekuwa ni  ghali sana  na tofauti na hapo awali. Anasema katika kipindi cha nyuma cha bajeti ya Serikali, bajeti ilikuwa nzuri watu wengi walikuwa wakifanya biashara inatoka na kuona matunda ya faida inayotokana na biashara hiyo. “Kwa ujumla pesa ilikuwa  inapatikana kwa urahisi katika nyanja mbalimbali hata kwa wapiga dili, hii ni kutokana na mzunguko mzuri wa fedha katika Serikali iliyopita,” anasema mfanyabiashara huyo. Anasema katika biashara ya kuuza bidhaa za vyakula (supermarket),  imeshuka kimapato ukilinganisha na hapo awali  mteja mmoja alikuwa akinunua bidhaa hata 10  kwa siku, lakini imekuwa ni tofauti kwani kwa siku sasa mteja mmoja hununua wastani  wa bidhaa 2 hadi 3 pekee. Hali hiyo ni kutokana na watu kukosa  fedha  za kutosha  kwa ajili ya  manunuzi ya bidhaa wanazohitaji kununua kwa wakati huo. Hata hivyo, ameongeza kuwa kwa kipindi hiki hauzi mzigo kwa wakati  mwafaka, kwani anaweza kununua mzigo  wa  wiki ukakaa  mwezi mzima bila kuisha, hivyo ni tofauti na kipindi cha nyuma ilivyokuwa katika mauzo. Anasema: “Hapo awali nilikuwa nauza bidhaa za aina mbili  ambazo ni za vyakula na za watoto kama vile pampas, wipers,  taulo za watoto, nguo na vitu mbalimbali vya watoto ambapo bidhaa za watoto zilikuwa ni ghali sana  na ndio maana zilikuwa hazitoki kibiashara. Katika mabadiliko ya kibiashara kwa mfanyabiashara  huyo, yapo pia ya kawaida, kwani  kwa siku yaweza kutokea biashara kuwa mbaya zaidi ya jana. Anaongeza kuwa hata katika maandiko matakatifu  yanasema kuwa  ‘vitaumbwa  vipya na vizuri vitaaga’, kauli hii yenye maana kwamba  huu ndio wakati wake kwani nao utapita na utakuja mwingine. Hali  hii ni kutokana na kipindi cha mpito wa biashara ngumu kwani katika biashara kuna  vipindi viwili, navyo ni kipindi cha mafanikio na kipindi cha kukosa. Anaongeza kuwa baada ya kuona biashara ya bidhaa za watoto hazitoki, ikabidi ahamishe na kuhamia sehemu nyingine  na kuweka bidhaa za watoto pekee bila kuchanganya na bidhaa za vyakula. Anasema hali hii imekuwa ngumu hata kwa wapiga dili za hapa na pale mtaani,  kukosa chochote na hatimaye  juhudi zao kupiga mwamba siku hadi siku, ambapo  hapo awali katika Serikali ya Awamu ya Nne, mambo yalikuwa ni rahisi kwao. Ametoa rai kwa wapiga dili wote kwamba, kwa kipindi hiki ni wakati wa kujishughulisha  na si  kubweteka kusuburi mambo ya mteremko kwa hali ya sasa ilivyo na inakoelekea ni mbaya  kuliko jana. Ameongeza kuwa kwa hali iliyopo sasa hakuna fedha  isiyo halali ambayo hukuitolea jasho, kwani lazima  ufanye kazi kwa bidii ndipo matunda utayaona. Kitu cha msingi hasa ni  kufanya kazi kwa bidii na kwa uhalali kwa kipindi hiki ili kutokuwa tegemezi  ili kufanikisha jambo husika ulilokusudia kufanya  kwa wakati  mwafaka. “Kupitia njia hiyo, watu wanaofanya dili za hapa na pale watapungua  kwa kiasi fulani, hatimaye  tutawapata  wananchi watenda  kazi   na wanaofanya kazi kihalali kwa kuitolea jasho,” alishauri.\n",
            " Na  FERDNANDA MBAMILA-DAR ES SALAAM KATIKA  tathmini iliyofanywa na mwandishi wa makala haya katika  maeneo mbalimbali ya Sinza jijini  Dar es Salaam, imebainika kuwa wamiliki wa baa, nyumba za kulala wageni na ‘supermarket’  kuwa  katika kipindi  kigumu   cha biashara wakati  huu wa Serikali  ya  Awamu ya Tano. Imeonekana wazi kuwa biashara imekuwa ngumu kwa wafanyabiashara  ukilinganisha na ilivyokuwa  hapo awali. Wamiliki wa biashara hizo  wanalalama kukosa  wateja na kutokutoka kwa bidhaa zao kutokana na hali ya maisha kuwa juu zaidi ukilinganisha na ilivyokuwa hapo awali. Hali hiyo imetokana na ukata kuzidi kushika kasi katika nyanja mbalimbali za kibiashara, hivyo  kusababisha wamiliki  kulazimika  kufunga biashara zao  na  wengine kuuza majengo kwa bei ya hasara. Waziri wa Fedha ameainisha kufungwa kwa biashara kwa baadhi ya wafanyabiashara, lakini anashindwa kuelewa sababu ya  kutokea hayo kwani haijafanya mabadiliko  ya kodi kwa kupandisha au kuongeza uwigo wa hiyo kodi. Sasa nyumba za wageni hususani za jijini Dar  es Salaam mara nyingi huaminika kwa kulala  wazawa (wenyeji pekee) badala ya wageni, kutokana na ongezeko la wingi wa nyumba za wageni kuzidi kujengwa kila siku. Lakini kwa sasa hali imekuwa ndivyo sivyo na matarajio, kwani hata wenyeji pia imekuwa ni vigumu kuingia na kupata huduma   kutokana na mkwamo wa maisha. Gharama ya chumba cha kulala kwa siku katika baadhi ya nyumba mara nyingi hutofautiana kutokana na hadhi ya mahali na mazingira husika. Kuna baadhi ya hoteli  na nyumba zina hadhi ya juu ambapo chumba kimoja kwa siku hupatikana kwa Sh 100,000 na kuendelea  na zile nyumba nyingine  huwa ni Sh 12,000, 15,000 , 20,000, 30,000 na kushuka chini, lakini kwa kipindi hiki imekuwa ni tofauti kiasi kwamba  bei imeanguka  chumba cha nyumba ya wageni Sh 12,000 hukodishwa kwa Sh 10,000 hadi 8,000  na cha Sh 20,000 kinapungia hadi kufikia  Sh 18,000. Mara nyingi  kwa kipindi  hiki nyumba hizo huweza kuingia wateja wawili  tu, biashara ikiwa mbaya zaidi  inaweza kupita siku nzima mmiliki  asiingize hata mteja mmoja. Mbali na nyumba hizo kutokupata wateja,  vilevile hata  katika upande wa utokaji wa  vinywaji  katika baa  umekuwa ni shida kwani mauzo yamedorora  na kuathiri zaidi biashara. Mmiliki mmoja  wa Baa  ya Home Town iliyopo  katika eneo la Sinza Mori ambaye hakutaka jina lake kuandikwa,  aliliambia MTANZANIA kuwa  mara nyingi biashara huwa ni mbaya, lakini kwa muda wa kipindi hiki cha bajeti ya mwaka mambo  yamezidi kuwa magumu zaidi tofauti na  matarajio. Hali hiyo hubadilika hasa kwa kipindi hiki  ikichangia  kuwa na mabadiliko ya soko la biashara hiyo kusababisha  kudorora siku hadi siku. Pia changamoto nyingine ni mabadiliko ya hali ya hewa kama vile mvua ambazo zinaendelea kunyesha hivi karibuni ambayo  mara nyingi  endapo zikizidi huathiri mwenendo mzima wa uendeshaji wa biashara kwa wafanyabiashara wengi. Hivyo, kutokana na mvua zinazoendelea kunyesha mfululizo jijini Dar es Salaam na  maeneo  mengine mbalimbali ya mikoa ya Tanzania, wafanyabiashara wamekuwa wakilia kupungua kwa kipato katika mauzo, hata hivyo kushindwa kufikia malengo stahiki na  kwa  wakati  mwafaka, hivyo  kusababisha wananchi kuzidi kulalamikia Serikali  kila siku. Anasema unaweza  kufungua biashara  asubuhi  lakini matokeo  yake hadi kufika  jioni ukashindwa kuuza chochote,  kwani kuna uwezekano  wa  kupita siku nzima usiuze hata kidogo,  hivyo mmiliki kushindwa kuiendeleza biashara hiyo. Biashara ya ‘supermarket’ Supermarket pia zimekuwa  zikikabiliwa na adha ya kutotoka kwa bidhaa  na hivyo kushuka kwa mauzo ya kibiashara  hususani kwa kipindi cha bajeti ya mwaka wa fedha ilipokuwa inaendelea kule Dodoma. Mmoja wa wamiliki wa biashara ya ‘supermarket’ au duka kubwa katika  maeneo ya Sinza jijini Dar es Salaam,  anaielezea  hali hiyo  kuwa katika biashara kuna vipindi viwili  vya Serikali katika biashara  ambayo ni Juni mosi na  Julai 30 ambavyo huwa katika mwaka wa bajeti. Anasema kwa kipindi hicho biashara  mara nyingi huwa si nzuri ukilinganisha na vipindi vilivyopita vya mwaka 2015 hadi 2016, kwani ilikuwa ni afadhali katika ufanyaji wa biashara mbalimbali nchini na hata  kwa mamalishe pia. Lakini imekuwa ni tofauti kwa mwaka huu wa 2017 tangu  uanze, kwani kila kitu kimekuwa ni  ghali sana  na tofauti na hapo awali. Anasema katika kipindi cha nyuma cha bajeti ya Serikali, bajeti ilikuwa nzuri watu wengi walikuwa wakifanya biashara inatoka na kuona matunda ya faida inayotokana na biashara hiyo. “Kwa ujumla pesa ilikuwa  inapatikana kwa urahisi katika nyanja mbalimbali hata kwa wapiga dili, hii ni kutokana na mzunguko mzuri wa fedha katika Serikali iliyopita,” anasema mfanyabiashara huyo. Anasema katika biashara ya kuuza bidhaa za vyakula (supermarket),  imeshuka kimapato ukilinganisha na hapo awali  mteja mmoja alikuwa akinunua bidhaa hata 10  kwa siku, lakini imekuwa ni tofauti kwani kwa siku sasa mteja mmoja hununua wastani  wa bidhaa 2 hadi 3 pekee. Hali hiyo ni kutokana na watu kukosa  fedha  za kutosha  kwa ajili ya  manunuzi ya bidhaa wanazohitaji kununua kwa wakati huo. Hata hivyo, ameongeza kuwa kwa kipindi hiki hauzi mzigo kwa wakati  mwafaka, kwani anaweza kununua mzigo  wa  wiki ukakaa  mwezi mzima bila kuisha, hivyo ni tofauti na kipindi cha nyuma ilivyokuwa katika mauzo. Anasema: “Hapo awali nilikuwa nauza bidhaa za aina mbili  ambazo ni za vyakula na za watoto kama vile pampas, wipers,  taulo za watoto, nguo na vitu mbalimbali vya watoto ambapo bidhaa za watoto zilikuwa ni ghali sana  na ndio maana zilikuwa hazitoki kibiashara. Katika mabadiliko ya kibiashara kwa mfanyabiashara  huyo, yapo pia ya kawaida, kwani  kwa siku yaweza kutokea biashara kuwa mbaya zaidi ya jana. Anaongeza kuwa hata katika maandiko matakatifu  yanasema kuwa  ‘vitaumbwa  vipya na vizuri vitaaga’, kauli hii yenye maana kwamba  huu ndio wakati wake kwani nao utapita na utakuja mwingine. Hali  hii ni kutokana na kipindi cha mpito wa biashara ngumu kwani katika biashara kuna  vipindi viwili, navyo ni kipindi cha mafanikio na kipindi cha kukosa. Anaongeza kuwa baada ya kuona biashara ya bidhaa za watoto hazitoki, ikabidi ahamishe na kuhamia sehemu nyingine  na kuweka bidhaa za watoto pekee bila kuchanganya na bidhaa za vyakula. Anasema hali hii imekuwa ngumu hata kwa wapiga dili za hapa na pale mtaani,  kukosa chochote na hatimaye  juhudi zao kupiga mwamba siku hadi siku, ambapo  hapo awali katika Serikali ya Awamu ya Nne, mambo yalikuwa ni rahisi kwao. Ametoa rai kwa wapiga dili wote kwamba, kwa kipindi hiki ni wakati wa kujishughulisha  na si  kubweteka kusuburi mambo ya mteremko kwa hali ya sasa ilivyo na inakoelekea ni mbaya  kuliko jana. Ameongeza kuwa kwa hali iliyopo sasa hakuna fedha  isiyo halali ambayo hukuitolea jasho, kwani lazima  ufanye kazi kwa bidii ndipo matunda utayaona. Kitu cha msingi hasa ni  kufanya kazi kwa bidii na kwa uhalali kwa kipindi hiki ili kutokuwa tegemezi  ili kufanikisha jambo husika ulilokusudia kufanya  kwa wakati  mwafaka. “Kupitia njia hiyo, watu wanaofanya dili za hapa na pale watapungua  kwa kiasi fulani, hatimaye  tutawapata  wananchi watenda  kazi   na wanaofanya kazi kihalali kwa kuitolea jasho,” alishauri.\n",
            " Na  FERDNANDA MBAMILA-DAR ES SALAAM KATIKA  tathmini iliyofanywa na mwandishi wa makala haya katika  maeneo mbalimbali ya Sinza jijini  Dar es Salaam, imebainika kuwa wamiliki wa baa, nyumba za kulala wageni na ‘supermarket’  kuwa  katika kipindi  kigumu   cha biashara wakati  huu wa Serikali  ya  Awamu ya Tano. Imeonekana wazi kuwa biashara imekuwa ngumu kwa wafanyabiashara  ukilinganisha na ilivyokuwa  hapo awali. Wamiliki wa biashara hizo  wanalalama kukosa  wateja na kutokutoka kwa bidhaa zao kutokana na hali ya maisha kuwa juu zaidi ukilinganisha na ilivyokuwa hapo awali. Hali hiyo imetokana na ukata kuzidi kushika kasi katika nyanja mbalimbali za kibiashara, hivyo  kusababisha wamiliki  kulazimika  kufunga biashara zao  na  wengine kuuza majengo kwa bei ya hasara. Waziri wa Fedha ameainisha kufungwa kwa biashara kwa baadhi ya wafanyabiashara, lakini anashindwa kuelewa sababu ya  kutokea hayo kwani haijafanya mabadiliko  ya kodi kwa kupandisha au kuongeza uwigo wa hiyo kodi. Sasa nyumba za wageni hususani za jijini Dar  es Salaam mara nyingi huaminika kwa kulala  wazawa (wenyeji pekee) badala ya wageni, kutokana na ongezeko la wingi wa nyumba za wageni kuzidi kujengwa kila siku. Lakini kwa sasa hali imekuwa ndivyo sivyo na matarajio, kwani hata wenyeji pia imekuwa ni vigumu kuingia na kupata huduma   kutokana na mkwamo wa maisha. Gharama ya chumba cha kulala kwa siku katika baadhi ya nyumba mara nyingi hutofautiana kutokana na hadhi ya mahali na mazingira husika. Kuna baadhi ya hoteli  na nyumba zina hadhi ya juu ambapo chumba kimoja kwa siku hupatikana kwa Sh 100,000 na kuendelea  na zile nyumba nyingine  huwa ni Sh 12,000, 15,000 , 20,000, 30,000 na kushuka chini, lakini kwa kipindi hiki imekuwa ni tofauti kiasi kwamba  bei imeanguka  chumba cha nyumba ya wageni Sh 12,000 hukodishwa kwa Sh 10,000 hadi 8,000  na cha Sh 20,000 kinapungia hadi kufikia  Sh 18,000. Mara nyingi  kwa kipindi  hiki nyumba hizo huweza kuingia wateja wawili  tu, biashara ikiwa mbaya zaidi  inaweza kupita siku nzima mmiliki  asiingize hata mteja mmoja. Mbali na nyumba hizo kutokupata wateja,  vilevile hata  katika upande wa utokaji wa  vinywaji  katika baa  umekuwa ni shida kwani mauzo yamedorora  na kuathiri zaidi biashara. Mmiliki mmoja  wa Baa  ya Home Town iliyopo  katika eneo la Sinza Mori ambaye hakutaka jina lake kuandikwa,  aliliambia MTANZANIA kuwa  mara nyingi biashara huwa ni mbaya, lakini kwa muda wa kipindi hiki cha bajeti ya mwaka mambo  yamezidi kuwa magumu zaidi tofauti na  matarajio. Hali hiyo hubadilika hasa kwa kipindi hiki  ikichangia  kuwa na mabadiliko ya soko la biashara hiyo kusababisha  kudorora siku hadi siku. Pia changamoto nyingine ni mabadiliko ya hali ya hewa kama vile mvua ambazo zinaendelea kunyesha hivi karibuni ambayo  mara nyingi  endapo zikizidi huathiri mwenendo mzima wa uendeshaji wa biashara kwa wafanyabiashara wengi. Hivyo, kutokana na mvua zinazoendelea kunyesha mfululizo jijini Dar es Salaam na  maeneo  mengine mbalimbali ya mikoa ya Tanzania, wafanyabiashara wamekuwa wakilia kupungua kwa kipato katika mauzo, hata hivyo kushindwa kufikia malengo stahiki na  kwa  wakati  mwafaka, hivyo  kusababisha wananchi kuzidi kulalamikia Serikali  kila siku. Anasema unaweza  kufungua biashara  asubuhi  lakini matokeo  yake hadi kufika  jioni ukashindwa kuuza chochote,  kwani kuna uwezekano  wa  kupita siku nzima usiuze hata kidogo,  hivyo mmiliki kushindwa kuiendeleza biashara hiyo. Biashara ya ‘supermarket’ Supermarket pia zimekuwa  zikikabiliwa na adha ya kutotoka kwa bidhaa  na hivyo kushuka kwa mauzo ya kibiashara  hususani kwa kipindi cha bajeti ya mwaka wa fedha ilipokuwa inaendelea kule Dodoma. Mmoja wa wamiliki wa biashara ya ‘supermarket’ au duka kubwa katika  maeneo ya Sinza jijini Dar es Salaam,  anaielezea  hali hiyo  kuwa katika biashara kuna vipindi viwili  vya Serikali katika biashara  ambayo ni Juni mosi na  Julai 30 ambavyo huwa katika mwaka wa bajeti. Anasema kwa kipindi hicho biashara  mara nyingi huwa si nzuri ukilinganisha na vipindi vilivyopita vya mwaka 2015 hadi 2016, kwani ilikuwa ni afadhali katika ufanyaji wa biashara mbalimbali nchini na hata  kwa mamalishe pia. Lakini imekuwa ni tofauti kwa mwaka huu wa 2017 tangu  uanze, kwani kila kitu kimekuwa ni  ghali sana  na tofauti na hapo awali. Anasema katika kipindi cha nyuma cha bajeti ya Serikali, bajeti ilikuwa nzuri watu wengi walikuwa wakifanya biashara inatoka na kuona matunda ya faida inayotokana na biashara hiyo. “Kwa ujumla pesa ilikuwa  inapatikana kwa urahisi katika nyanja mbalimbali hata kwa wapiga dili, hii ni kutokana na mzunguko mzuri wa fedha katika Serikali iliyopita,” anasema mfanyabiashara huyo. Anasema katika biashara ya kuuza bidhaa za vyakula (supermarket),  imeshuka kimapato ukilinganisha na hapo awali  mteja mmoja alikuwa akinunua bidhaa hata 10  kwa siku, lakini imekuwa ni tofauti kwani kwa siku sasa mteja mmoja hununua wastani  wa bidhaa 2 hadi 3 pekee. Hali hiyo ni kutokana na watu kukosa  fedha  za kutosha  kwa ajili ya  manunuzi ya bidhaa wanazohitaji kununua kwa wakati huo. Hata hivyo, ameongeza kuwa kwa kipindi hiki hauzi mzigo kwa wakati  mwafaka, kwani anaweza kununua mzigo  wa  wiki ukakaa  mwezi mzima bila kuisha, hivyo ni tofauti na kipindi cha nyuma ilivyokuwa katika mauzo. Anasema: “Hapo awali nilikuwa nauza bidhaa za aina mbili  ambazo ni za vyakula na za watoto kama vile pampas, wipers,  taulo za watoto, nguo na vitu mbalimbali vya watoto ambapo bidhaa za watoto zilikuwa ni ghali sana  na ndio maana zilikuwa hazitoki kibiashara. Katika mabadiliko ya kibiashara kwa mfanyabiashara  huyo, yapo pia ya kawaida, kwani  kwa siku yaweza kutokea biashara kuwa mbaya zaidi ya jana. Anaongeza kuwa hata katika maandiko matakatifu  yanasema kuwa  ‘vitaumbwa  vipya na vizuri vitaaga’, kauli hii yenye maana kwamba  huu ndio wakati wake kwani nao utapita na utakuja mwingine. Hali  hii ni kutokana na kipindi cha mpito wa biashara ngumu kwani katika biashara kuna  vipindi viwili, navyo ni kipindi cha mafanikio na kipindi cha kukosa. Anaongeza kuwa baada ya kuona biashara ya bidhaa za watoto hazitoki, ikabidi ahamishe na kuhamia sehemu nyingine  na kuweka bidhaa za watoto pekee bila kuchanganya na bidhaa za vyakula. Anasema hali hii imekuwa ngumu hata kwa wapiga dili za hapa na pale mtaani,  kukosa chochote na hatimaye  juhudi zao kupiga mwamba siku hadi siku, ambapo  hapo awali katika Serikali ya Awamu ya Nne, mambo yalikuwa ni rahisi kwao. Ametoa rai kwa wapiga dili wote kwamba, kwa kipindi hiki ni wakati wa kujishughulisha  na si  kubweteka kusuburi mambo ya mteremko kwa hali ya sasa ilivyo na inakoelekea ni mbaya  kuliko jana. Ameongeza kuwa kwa hali iliyopo sasa hakuna fedha  isiyo halali ambayo hukuitolea jasho, kwani lazima  ufanye kazi kwa bidii ndipo matunda utayaona. Kitu cha msingi hasa ni  kufanya kazi kwa bidii na kwa uhalali kwa kipindi hiki ili kutokuwa tegemezi  ili kufanikisha jambo husika ulilokusudia kufanya  kwa wakati  mwafaka. “Kupitia njia hiyo, watu wanaofanya dili za hapa na pale watapungua  kwa kiasi fulani, hatimaye  tutawapata  wananchi watenda  kazi   na wanaofanya kazi kihalali kwa kuitolea jasho,” alishauri.\n",
            " Na  FERDNANDA MBAMILA-DAR ES SALAAM KATIKA  tathmini iliyofanywa na mwandishi wa makala haya katika  maeneo mbalimbali ya Sinza jijini  Dar es Salaam, imebainika kuwa wamiliki wa baa, nyumba za kulala wageni na ‘supermarket’  kuwa  katika kipindi  kigumu   cha biashara wakati  huu wa Serikali  ya  Awamu ya Tano. Imeonekana wazi kuwa biashara imekuwa ngumu kwa wafanyabiashara  ukilinganisha na ilivyokuwa  hapo awali. Wamiliki wa biashara hizo  wanalalama kukosa  wateja na kutokutoka kwa bidhaa zao kutokana na hali ya maisha kuwa juu zaidi ukilinganisha na ilivyokuwa hapo awali. Hali hiyo imetokana na ukata kuzidi kushika kasi katika nyanja mbalimbali za kibiashara, hivyo  kusababisha wamiliki  kulazimika  kufunga biashara zao  na  wengine kuuza majengo kwa bei ya hasara. Waziri wa Fedha ameainisha kufungwa kwa biashara kwa baadhi ya wafanyabiashara, lakini anashindwa kuelewa sababu ya  kutokea hayo kwani haijafanya mabadiliko  ya kodi kwa kupandisha au kuongeza uwigo wa hiyo kodi. Sasa nyumba za wageni hususani za jijini Dar  es Salaam mara nyingi huaminika kwa kulala  wazawa (wenyeji pekee) badala ya wageni, kutokana na ongezeko la wingi wa nyumba za wageni kuzidi kujengwa kila siku. Lakini kwa sasa hali imekuwa ndivyo sivyo na matarajio, kwani hata wenyeji pia imekuwa ni vigumu kuingia na kupata huduma   kutokana na mkwamo wa maisha. Gharama ya chumba cha kulala kwa siku katika baadhi ya nyumba mara nyingi hutofautiana kutokana na hadhi ya mahali na mazingira husika. Kuna baadhi ya hoteli  na nyumba zina hadhi ya juu ambapo chumba kimoja kwa siku hupatikana kwa Sh 100,000 na kuendelea  na zile nyumba nyingine  huwa ni Sh 12,000, 15,000 , 20,000, 30,000 na kushuka chini, lakini kwa kipindi hiki imekuwa ni tofauti kiasi kwamba  bei imeanguka  chumba cha nyumba ya wageni Sh 12,000 hukodishwa kwa Sh 10,000 hadi 8,000  na cha Sh 20,000 kinapungia hadi kufikia  Sh 18,000. Mara nyingi  kwa kipindi  hiki nyumba hizo huweza kuingia wateja wawili  tu, biashara ikiwa mbaya zaidi  inaweza kupita siku nzima mmiliki  asiingize hata mteja mmoja. Mbali na nyumba hizo kutokupata wateja,  vilevile hata  katika upande wa utokaji wa  vinywaji  katika baa  umekuwa ni shida kwani mauzo yamedorora  na kuathiri zaidi biashara. Mmiliki mmoja  wa Baa  ya Home Town iliyopo  katika eneo la Sinza Mori ambaye hakutaka jina lake kuandikwa,  aliliambia MTANZANIA kuwa  mara nyingi biashara huwa ni mbaya, lakini kwa muda wa kipindi hiki cha bajeti ya mwaka mambo  yamezidi kuwa magumu zaidi tofauti na  matarajio. Hali hiyo hubadilika hasa kwa kipindi hiki  ikichangia  kuwa na mabadiliko ya soko la biashara hiyo kusababisha  kudorora siku hadi siku. Pia changamoto nyingine ni mabadiliko ya hali ya hewa kama vile mvua ambazo zinaendelea kunyesha hivi karibuni ambayo  mara nyingi  endapo zikizidi huathiri mwenendo mzima wa uendeshaji wa biashara kwa wafanyabiashara wengi. Hivyo, kutokana na mvua zinazoendelea kunyesha mfululizo jijini Dar es Salaam na  maeneo  mengine mbalimbali ya mikoa ya Tanzania, wafanyabiashara wamekuwa wakilia kupungua kwa kipato katika mauzo, hata hivyo kushindwa kufikia malengo stahiki na  kwa  wakati  mwafaka, hivyo  kusababisha wananchi kuzidi kulalamikia Serikali  kila siku. Anasema unaweza  kufungua biashara  asubuhi  lakini matokeo  yake hadi kufika  jioni ukashindwa kuuza chochote,  kwani kuna uwezekano  wa  kupita siku nzima usiuze hata kidogo,  hivyo mmiliki kushindwa kuiendeleza biashara hiyo. Biashara ya ‘supermarket’ Supermarket pia zimekuwa  zikikabiliwa na adha ya kutotoka kwa bidhaa  na hivyo kushuka kwa mauzo ya kibiashara  hususani kwa kipindi cha bajeti ya mwaka wa fedha ilipokuwa inaendelea kule Dodoma. Mmoja wa wamiliki wa biashara ya ‘supermarket’ au duka kubwa katika  maeneo ya Sinza jijini Dar es Salaam,  anaielezea  hali hiyo  kuwa katika biashara kuna vipindi viwili  vya Serikali katika biashara  ambayo ni Juni mosi na  Julai 30 ambavyo huwa katika mwaka wa bajeti. Anasema kwa kipindi hicho biashara  mara nyingi huwa si nzuri ukilinganisha na vipindi vilivyopita vya mwaka 2015 hadi 2016, kwani ilikuwa ni afadhali katika ufanyaji wa biashara mbalimbali nchini na hata  kwa mamalishe pia. Lakini imekuwa ni tofauti kwa mwaka huu wa 2017 tangu  uanze, kwani kila kitu kimekuwa ni  ghali sana  na tofauti na hapo awali. Anasema katika kipindi cha nyuma cha bajeti ya Serikali, bajeti ilikuwa nzuri watu wengi walikuwa wakifanya biashara inatoka na kuona matunda ya faida inayotokana na biashara hiyo. “Kwa ujumla pesa ilikuwa  inapatikana kwa urahisi katika nyanja mbalimbali hata kwa wapiga dili, hii ni kutokana na mzunguko mzuri wa fedha katika Serikali iliyopita,” anasema mfanyabiashara huyo. Anasema katika biashara ya kuuza bidhaa za vyakula (supermarket),  imeshuka kimapato ukilinganisha na hapo awali  mteja mmoja alikuwa akinunua bidhaa hata 10  kwa siku, lakini imekuwa ni tofauti kwani kwa siku sasa mteja mmoja hununua wastani  wa bidhaa 2 hadi 3 pekee. Hali hiyo ni kutokana na watu kukosa  fedha  za kutosha  kwa ajili ya  manunuzi ya bidhaa wanazohitaji kununua kwa wakati huo. Hata hivyo, ameongeza kuwa kwa kipindi hiki hauzi mzigo kwa wakati  mwafaka, kwani anaweza kununua mzigo  wa  wiki ukakaa  mwezi mzima bila kuisha, hivyo ni tofauti na kipindi cha nyuma ilivyokuwa katika mauzo. Anasema: “Hapo awali nilikuwa nauza bidhaa za aina mbili  ambazo ni za vyakula na za watoto kama vile pampas, wipers,  taulo za watoto, nguo na vitu mbalimbali vya watoto ambapo bidhaa za watoto zilikuwa ni ghali sana  na ndio maana zilikuwa hazitoki kibiashara. Katika mabadiliko ya kibiashara kwa mfanyabiashara  huyo, yapo pia ya kawaida, kwani  kwa siku yaweza kutokea biashara kuwa mbaya zaidi ya jana. Anaongeza kuwa hata katika maandiko matakatifu  yanasema kuwa  ‘vitaumbwa  vipya na vizuri vitaaga’, kauli hii yenye maana kwamba  huu ndio wakati wake kwani nao utapita na utakuja mwingine. Hali  hii ni kutokana na kipindi cha mpito wa biashara ngumu kwani katika biashara kuna  vipindi viwili, navyo ni kipindi cha mafanikio na kipindi cha kukosa. Anaongeza kuwa baada ya kuona biashara ya bidhaa za watoto hazitoki, ikabidi ahamishe na kuhamia sehemu nyingine  na kuweka bidhaa za watoto pekee bila kuchanganya na bidhaa za vyakula. Anasema hali hii imekuwa ngumu hata kwa wapiga dili za hapa na pale mtaani,  kukosa chochote na hatimaye  juhudi zao kupiga mwamba siku hadi siku, ambapo  hapo awali katika Serikali ya Awamu ya Nne, mambo yalikuwa ni rahisi kwao. Ametoa rai kwa wapiga dili wote kwamba, kwa kipindi hiki ni wakati wa kujishughulisha  na si  kubweteka kusuburi mambo ya mteremko kwa hali ya sasa ilivyo na inakoelekea ni mbaya  kuliko jana. Ameongeza kuwa kwa hali iliyopo sasa hakuna fedha  isiyo halali ambayo hukuitolea jasho, kwani lazima  ufanye kazi kwa bidii ndipo matunda utayaona. Kitu cha msingi hasa ni  kufanya kazi kwa bidii na kwa uhalali kwa kipindi hiki ili kutokuwa tegemezi  ili kufanikisha jambo husika ulilokusudia kufanya  kwa wakati  mwafaka. “Kupitia njia hiyo, watu wanaofanya dili za hapa na pale watapungua  kwa kiasi fulani, hatimaye  tutawapata  wananchi watenda  kazi   na wanaofanya kazi kihalali kwa kuitolea jasho,” alishauri.\n",
            " Na  FERDNANDA MBAMILA-DAR ES SALAAM KATIKA  tathmini iliyofanywa na mwandishi wa makala haya katika  maeneo mbalimbali ya Sinza jijini  Dar es Salaam, imebainika kuwa wamiliki wa baa, nyumba za kulala wageni na ‘supermarket’  kuwa  katika kipindi  kigumu   cha biashara wakati  huu wa Serikali  ya  Awamu ya Tano. Imeonekana wazi kuwa biashara imekuwa ngumu kwa wafanyabiashara  ukilinganisha na ilivyokuwa  hapo awali. Wamiliki wa biashara hizo  wanalalama kukosa  wateja na kutokutoka kwa bidhaa zao kutokana na hali ya maisha kuwa juu zaidi ukilinganisha na ilivyokuwa hapo awali. Hali hiyo imetokana na ukata kuzidi kushika kasi katika nyanja mbalimbali za kibiashara, hivyo  kusababisha wamiliki  kulazimika  kufunga biashara zao  na  wengine kuuza majengo kwa bei ya hasara. Waziri wa Fedha ameainisha kufungwa kwa biashara kwa baadhi ya wafanyabiashara, lakini anashindwa kuelewa sababu ya  kutokea hayo kwani haijafanya mabadiliko  ya kodi kwa kupandisha au kuongeza uwigo wa hiyo kodi. Sasa nyumba za wageni hususani za jijini Dar  es Salaam mara nyingi huaminika kwa kulala  wazawa (wenyeji pekee) badala ya wageni, kutokana na ongezeko la wingi wa nyumba za wageni kuzidi kujengwa kila siku. Lakini kwa sasa hali imekuwa ndivyo sivyo na matarajio, kwani hata wenyeji pia imekuwa ni vigumu kuingia na kupata huduma   kutokana na mkwamo wa maisha. Gharama ya chumba cha kulala kwa siku katika baadhi ya nyumba mara nyingi hutofautiana kutokana na hadhi ya mahali na mazingira husika. Kuna baadhi ya hoteli  na nyumba zina hadhi ya juu ambapo chumba kimoja kwa siku hupatikana kwa Sh 100,000 na kuendelea  na zile nyumba nyingine  huwa ni Sh 12,000, 15,000 , 20,000, 30,000 na kushuka chini, lakini kwa kipindi hiki imekuwa ni tofauti kiasi kwamba  bei imeanguka  chumba cha nyumba ya wageni Sh 12,000 hukodishwa kwa Sh 10,000 hadi 8,000  na cha Sh 20,000 kinapungia hadi kufikia  Sh 18,000. Mara nyingi  kwa kipindi  hiki nyumba hizo huweza kuingia wateja wawili  tu, biashara ikiwa mbaya zaidi  inaweza kupita siku nzima mmiliki  asiingize hata mteja mmoja. Mbali na nyumba hizo kutokupata wateja,  vilevile hata  katika upande wa utokaji wa  vinywaji  katika baa  umekuwa ni shida kwani mauzo yamedorora  na kuathiri zaidi biashara. Mmiliki mmoja  wa Baa  ya Home Town iliyopo  katika eneo la Sinza Mori ambaye hakutaka jina lake kuandikwa,  aliliambia MTANZANIA kuwa  mara nyingi biashara huwa ni mbaya, lakini kwa muda wa kipindi hiki cha bajeti ya mwaka mambo  yamezidi kuwa magumu zaidi tofauti na  matarajio. Hali hiyo hubadilika hasa kwa kipindi hiki  ikichangia  kuwa na mabadiliko ya soko la biashara hiyo kusababisha  kudorora siku hadi siku. Pia changamoto nyingine ni mabadiliko ya hali ya hewa kama vile mvua ambazo zinaendelea kunyesha hivi karibuni ambayo  mara nyingi  endapo zikizidi huathiri mwenendo mzima wa uendeshaji wa biashara kwa wafanyabiashara wengi. Hivyo, kutokana na mvua zinazoendelea kunyesha mfululizo jijini Dar es Salaam na  maeneo  mengine mbalimbali ya mikoa ya Tanzania, wafanyabiashara wamekuwa wakilia kupungua kwa kipato katika mauzo, hata hivyo kushindwa kufikia malengo stahiki na  kwa  wakati  mwafaka, hivyo  kusababisha wananchi kuzidi kulalamikia Serikali  kila siku. Anasema unaweza  kufungua biashara  asubuhi  lakini matokeo  yake hadi kufika  jioni ukashindwa kuuza chochote,  kwani kuna uwezekano  wa  kupita siku nzima usiuze hata kidogo,  hivyo mmiliki kushindwa kuiendeleza biashara hiyo. Biashara ya ‘supermarket’ Supermarket pia zimekuwa  zikikabiliwa na adha ya kutotoka kwa bidhaa  na hivyo kushuka kwa mauzo ya kibiashara  hususani kwa kipindi cha bajeti ya mwaka wa fedha ilipokuwa inaendelea kule Dodoma. Mmoja wa wamiliki wa biashara ya ‘supermarket’ au duka kubwa katika  maeneo ya Sinza jijini Dar es Salaam,  anaielezea  hali hiyo  kuwa katika biashara kuna vipindi viwili  vya Serikali katika biashara  ambayo ni Juni mosi na  Julai 30 ambavyo huwa katika mwaka wa bajeti. Anasema kwa kipindi hicho biashara  mara nyingi huwa si nzuri ukilinganisha na vipindi vilivyopita vya mwaka 2015 hadi 2016, kwani ilikuwa ni afadhali katika ufanyaji wa biashara mbalimbali nchini na hata  kwa mamalishe pia. Lakini imekuwa ni tofauti kwa mwaka huu wa 2017 tangu  uanze, kwani kila kitu kimekuwa ni  ghali sana  na tofauti na hapo awali. Anasema katika kipindi cha nyuma cha bajeti ya Serikali, bajeti ilikuwa nzuri watu wengi walikuwa wakifanya biashara inatoka na kuona matunda ya faida inayotokana na biashara hiyo. “Kwa ujumla pesa ilikuwa  inapatikana kwa urahisi katika nyanja mbalimbali hata kwa wapiga dili, hii ni kutokana na mzunguko mzuri wa fedha katika Serikali iliyopita,” anasema mfanyabiashara huyo. Anasema katika biashara ya kuuza bidhaa za vyakula (supermarket),  imeshuka kimapato ukilinganisha na hapo awali  mteja mmoja alikuwa akinunua bidhaa hata 10  kwa siku, lakini imekuwa ni tofauti kwani kwa siku sasa mteja mmoja hununua wastani  wa bidhaa 2 hadi 3 pekee. Hali hiyo ni kutokana na watu kukosa  fedha  za kutosha  kwa ajili ya  manunuzi ya bidhaa wanazohitaji kununua kwa wakati huo. Hata hivyo, ameongeza kuwa kwa kipindi hiki hauzi mzigo kwa wakati  mwafaka, kwani anaweza kununua mzigo  wa  wiki ukakaa  mwezi mzima bila kuisha, hivyo ni tofauti na kipindi cha nyuma ilivyokuwa katika mauzo. Anasema: “Hapo awali nilikuwa nauza bidhaa za aina mbili  ambazo ni za vyakula na za watoto kama vile pampas, wipers,  taulo za watoto, nguo na vitu mbalimbali vya watoto ambapo bidhaa za watoto zilikuwa ni ghali sana  na ndio maana zilikuwa hazitoki kibiashara. Katika mabadiliko ya kibiashara kwa mfanyabiashara  huyo, yapo pia ya kawaida, kwani  kwa siku yaweza kutokea biashara kuwa mbaya zaidi ya jana. Anaongeza kuwa hata katika maandiko matakatifu  yanasema kuwa  ‘vitaumbwa  vipya na vizuri vitaaga’, kauli hii yenye maana kwamba  huu ndio wakati wake kwani nao utapita na utakuja mwingine. Hali  hii ni kutokana na kipindi cha mpito wa biashara ngumu kwani katika biashara kuna  vipindi viwili, navyo ni kipindi cha mafanikio na kipindi cha kukosa. Anaongeza kuwa baada ya kuona biashara ya bidhaa za watoto hazitoki, ikabidi ahamishe na kuhamia sehemu nyingine  na kuweka bidhaa za watoto pekee bila kuchanganya na bidhaa za vyakula. Anasema hali hii imekuwa ngumu hata kwa wapiga dili za hapa na pale mtaani,  kukosa chochote na hatimaye  juhudi zao kupiga mwamba siku hadi siku, ambapo  hapo awali katika Serikali ya Awamu ya Nne, mambo yalikuwa ni rahisi kwao. Ametoa rai kwa wapiga dili wote kwamba, kwa kipindi hiki ni wakati wa kujishughulisha  na si  kubweteka kusuburi mambo ya mteremko kwa hali ya sasa ilivyo na inakoelekea ni mbaya  kuliko jana. Ameongeza kuwa kwa hali iliyopo sasa hakuna fedha  isiyo halali ambayo hukuitolea jasho, kwani lazima  ufanye kazi kwa bidii ndipo matunda utayaona. Kitu cha msingi hasa ni  kufanya kazi kwa bidii na kwa uhalali kwa kipindi hiki ili kutokuwa tegemezi  ili kufanikisha jambo husika ulilokusudia kufanya  kwa wakati  mwafaka. “Kupitia njia hiyo, watu wanaofanya dili za hapa na pale watapungua  kwa kiasi fulani, hatimaye  tutawapata  wananchi watenda  kazi   na wanaofanya kazi kihalali kwa kuitolea jasho,” alishauri.\n",
            " na  ferdnanda mbamila-dar es salaam katika  tathmini iliyofanywa na mwandishi wa makala haya katika  maeneo mbalimbali ya sinza jijini  dar es salaam, imebainika kuwa wamiliki wa baa, nyumba za kulala wageni na ‘supermarket’  kuwa  katika kipindi  kigumu   cha biashara wakati  huu wa serikali  ya  awamu ya tano. imeonekana wazi kuwa biashara imekuwa ngumu kwa wafanyabiashara  ukilinganisha na ilivyokuwa  hapo awali. wamiliki wa biashara hizo  wanalalama kukosa  wateja na kutokutoka kwa bidhaa zao kutokana na hali ya maisha kuwa juu zaidi ukilinganisha na ilivyokuwa hapo awali. hali hiyo imetokana na ukata kuzidi kushika kasi katika nyanja mbalimbali za kibiashara, hivyo  kusababisha wamiliki  kulazimika  kufunga biashara zao  na  wengine kuuza majengo kwa bei ya hasara. waziri wa fedha ameainisha kufungwa kwa biashara kwa baadhi ya wafanyabiashara, lakini anashindwa kuelewa sababu ya  kutokea hayo kwani haijafanya mabadiliko  ya kodi kwa kupandisha au kuongeza uwigo wa hiyo kodi. sasa nyumba za wageni hususani za jijini dar  es salaam mara nyingi huaminika kwa kulala  wazawa (wenyeji pekee) badala ya wageni, kutokana na ongezeko la wingi wa nyumba za wageni kuzidi kujengwa kila siku. lakini kwa sasa hali imekuwa ndivyo sivyo na matarajio, kwani hata wenyeji pia imekuwa ni vigumu kuingia na kupata huduma   kutokana na mkwamo wa maisha. gharama ya chumba cha kulala kwa siku katika baadhi ya nyumba mara nyingi hutofautiana kutokana na hadhi ya mahali na mazingira husika. kuna baadhi ya hoteli  na nyumba zina hadhi ya juu ambapo chumba kimoja kwa siku hupatikana kwa sh 100,000 na kuendelea  na zile nyumba nyingine  huwa ni sh 12,000, 15,000 , 20,000, 30,000 na kushuka chini, lakini kwa kipindi hiki imekuwa ni tofauti kiasi kwamba  bei imeanguka  chumba cha nyumba ya wageni sh 12,000 hukodishwa kwa sh 10,000 hadi 8,000  na cha sh 20,000 kinapungia hadi kufikia  sh 18,000. mara nyingi  kwa kipindi  hiki nyumba hizo huweza kuingia wateja wawili  tu, biashara ikiwa mbaya zaidi  inaweza kupita siku nzima mmiliki  asiingize hata mteja mmoja. mbali na nyumba hizo kutokupata wateja,  vilevile hata  katika upande wa utokaji wa  vinywaji  katika baa  umekuwa ni shida kwani mauzo yamedorora  na kuathiri zaidi biashara. mmiliki mmoja  wa baa  ya home town iliyopo  katika eneo la sinza mori ambaye hakutaka jina lake kuandikwa,  aliliambia mtanzania kuwa  mara nyingi biashara huwa ni mbaya, lakini kwa muda wa kipindi hiki cha bajeti ya mwaka mambo  yamezidi kuwa magumu zaidi tofauti na  matarajio. hali hiyo hubadilika hasa kwa kipindi hiki  ikichangia  kuwa na mabadiliko ya soko la biashara hiyo kusababisha  kudorora siku hadi siku. pia changamoto nyingine ni mabadiliko ya hali ya hewa kama vile mvua ambazo zinaendelea kunyesha hivi karibuni ambayo  mara nyingi  endapo zikizidi huathiri mwenendo mzima wa uendeshaji wa biashara kwa wafanyabiashara wengi. hivyo, kutokana na mvua zinazoendelea kunyesha mfululizo jijini dar es salaam na  maeneo  mengine mbalimbali ya mikoa ya tanzania, wafanyabiashara wamekuwa wakilia kupungua kwa kipato katika mauzo, hata hivyo kushindwa kufikia malengo stahiki na  kwa  wakati  mwafaka, hivyo  kusababisha wananchi kuzidi kulalamikia serikali  kila siku. anasema unaweza  kufungua biashara  asubuhi  lakini matokeo  yake hadi kufika  jioni ukashindwa kuuza chochote,  kwani kuna uwezekano  wa  kupita siku nzima usiuze hata kidogo,  hivyo mmiliki kushindwa kuiendeleza biashara hiyo. biashara ya ‘supermarket’ supermarket pia zimekuwa  zikikabiliwa na adha ya kutotoka kwa bidhaa  na hivyo kushuka kwa mauzo ya kibiashara  hususani kwa kipindi cha bajeti ya mwaka wa fedha ilipokuwa inaendelea kule dodoma. mmoja wa wamiliki wa biashara ya ‘supermarket’ au duka kubwa katika  maeneo ya sinza jijini dar es salaam,  anaielezea  hali hiyo  kuwa katika biashara kuna vipindi viwili  vya serikali katika biashara  ambayo ni juni mosi na  julai 30 ambavyo huwa katika mwaka wa bajeti. anasema kwa kipindi hicho biashara  mara nyingi huwa si nzuri ukilinganisha na vipindi vilivyopita vya mwaka 2015 hadi 2016, kwani ilikuwa ni afadhali katika ufanyaji wa biashara mbalimbali nchini na hata  kwa mamalishe pia. lakini imekuwa ni tofauti kwa mwaka huu wa 2017 tangu  uanze, kwani kila kitu kimekuwa ni  ghali sana  na tofauti na hapo awali. anasema katika kipindi cha nyuma cha bajeti ya serikali, bajeti ilikuwa nzuri watu wengi walikuwa wakifanya biashara inatoka na kuona matunda ya faida inayotokana na biashara hiyo. “kwa ujumla pesa ilikuwa  inapatikana kwa urahisi katika nyanja mbalimbali hata kwa wapiga dili, hii ni kutokana na mzunguko mzuri wa fedha katika serikali iliyopita,” anasema mfanyabiashara huyo. anasema katika biashara ya kuuza bidhaa za vyakula (supermarket),  imeshuka kimapato ukilinganisha na hapo awali  mteja mmoja alikuwa akinunua bidhaa hata 10  kwa siku, lakini imekuwa ni tofauti kwani kwa siku sasa mteja mmoja hununua wastani  wa bidhaa 2 hadi 3 pekee. hali hiyo ni kutokana na watu kukosa  fedha  za kutosha  kwa ajili ya  manunuzi ya bidhaa wanazohitaji kununua kwa wakati huo. hata hivyo, ameongeza kuwa kwa kipindi hiki hauzi mzigo kwa wakati  mwafaka, kwani anaweza kununua mzigo  wa  wiki ukakaa  mwezi mzima bila kuisha, hivyo ni tofauti na kipindi cha nyuma ilivyokuwa katika mauzo. anasema: “hapo awali nilikuwa nauza bidhaa za aina mbili  ambazo ni za vyakula na za watoto kama vile pampas, wipers,  taulo za watoto, nguo na vitu mbalimbali vya watoto ambapo bidhaa za watoto zilikuwa ni ghali sana  na ndio maana zilikuwa hazitoki kibiashara. katika mabadiliko ya kibiashara kwa mfanyabiashara  huyo, yapo pia ya kawaida, kwani  kwa siku yaweza kutokea biashara kuwa mbaya zaidi ya jana. anaongeza kuwa hata katika maandiko matakatifu  yanasema kuwa  ‘vitaumbwa  vipya na vizuri vitaaga’, kauli hii yenye maana kwamba  huu ndio wakati wake kwani nao utapita na utakuja mwingine. hali  hii ni kutokana na kipindi cha mpito wa biashara ngumu kwani katika biashara kuna  vipindi viwili, navyo ni kipindi cha mafanikio na kipindi cha kukosa. anaongeza kuwa baada ya kuona biashara ya bidhaa za watoto hazitoki, ikabidi ahamishe na kuhamia sehemu nyingine  na kuweka bidhaa za watoto pekee bila kuchanganya na bidhaa za vyakula. anasema hali hii imekuwa ngumu hata kwa wapiga dili za hapa na pale mtaani,  kukosa chochote na hatimaye  juhudi zao kupiga mwamba siku hadi siku, ambapo  hapo awali katika serikali ya awamu ya nne, mambo yalikuwa ni rahisi kwao. ametoa rai kwa wapiga dili wote kwamba, kwa kipindi hiki ni wakati wa kujishughulisha  na si  kubweteka kusuburi mambo ya mteremko kwa hali ya sasa ilivyo na inakoelekea ni mbaya  kuliko jana. ameongeza kuwa kwa hali iliyopo sasa hakuna fedha  isiyo halali ambayo hukuitolea jasho, kwani lazima  ufanye kazi kwa bidii ndipo matunda utayaona. kitu cha msingi hasa ni  kufanya kazi kwa bidii na kwa uhalali kwa kipindi hiki ili kutokuwa tegemezi  ili kufanikisha jambo husika ulilokusudia kufanya  kwa wakati  mwafaka. “kupitia njia hiyo, watu wanaofanya dili za hapa na pale watapungua  kwa kiasi fulani, hatimaye  tutawapata  wananchi watenda  kazi   na wanaofanya kazi kihalali kwa kuitolea jasho,” alishauri.\n"
          ]
        }
      ]
    },
    {
      "cell_type": "code",
      "source": [
        "# Remove the @user from the text\n",
        "df['text'] = df['text'].str.replace(\"@\", \"\")\n",
        "\n",
        "# Remove the URL from the text\n",
        "df['text'] = df['text'].str.replace(\"http\\S+|www.\\S+\", \"\", case=False)\n",
        "\n",
        "# Remove the numbers from the text\n",
        "df['text'] = df['text'].str.replace(\"\\d+\", \"\")\n",
        "\n",
        "# Remove the whitespaces from the text\n",
        "df['text'] = df['text'].str.replace(\"\\s+\", \" \")\n",
        "\n",
        "# Remove hashtags\n",
        "df['text'] = df['text'].str.replace(\"#\", \"\")\n",
        "\n",
        "# Remove Punctuations\n",
        "df['text'] = df['text'].str.replace(\"[^\\w\\s]\", \"\")\n",
        "\n",
        "# Lowercase the text\n",
        "df['text'] = df['text'].str.lower()"
      ],
      "metadata": {
        "id": "-QW-vn7IsKan"
      },
      "execution_count": null,
      "outputs": []
    },
    {
      "cell_type": "code",
      "source": [
        "df"
      ],
      "metadata": {
        "colab": {
          "base_uri": "https://localhost:8080/",
          "height": 424
        },
        "id": "WI-6E6bdsh5n",
        "outputId": "08e2160b-8d6e-4547-8cb1-e8748e80d9ba"
      },
      "execution_count": null,
      "outputs": [
        {
          "output_type": "execute_result",
          "data": {
            "text/plain": [
              "                                                    text  label\n",
              "0      mwandishi wetu siku hizi vijana wengi wamekuwa...      5\n",
              "1       mfuko wa hifadhi ya jamii kwa watumishi wa um...      1\n",
              "2      lagosi nigeria mkali wa muziki nchini nigeria ...      4\n",
              "3      mwandishi wetu tume ya nguvu za atomiki tanzan...      1\n",
              "4       morocco aliyasema hayo juzi baada ya kuwasili...      2\n",
              "...                                                  ...    ...\n",
              "24013  mwandishi wetu dodoma naibu waziri wa kilimo h...      1\n",
              "24014  na mwandishi wetu dar es salaam waziri wa afya...      5\n",
              "24015   hakuna aliyeaibika wakati akijaribu kufanya j...      4\n",
              "24016  na theresia gasper dar es salaam kocha wa simb...      2\n",
              "24017   pennsylvania marekani rais wa marekani donald...      3\n",
              "\n",
              "[24018 rows x 2 columns]"
            ],
            "text/html": [
              "\n",
              "  <div id=\"df-18383b7d-21f2-4342-bd16-eebf27bef372\">\n",
              "    <div class=\"colab-df-container\">\n",
              "      <div>\n",
              "<style scoped>\n",
              "    .dataframe tbody tr th:only-of-type {\n",
              "        vertical-align: middle;\n",
              "    }\n",
              "\n",
              "    .dataframe tbody tr th {\n",
              "        vertical-align: top;\n",
              "    }\n",
              "\n",
              "    .dataframe thead th {\n",
              "        text-align: right;\n",
              "    }\n",
              "</style>\n",
              "<table border=\"1\" class=\"dataframe\">\n",
              "  <thead>\n",
              "    <tr style=\"text-align: right;\">\n",
              "      <th></th>\n",
              "      <th>text</th>\n",
              "      <th>label</th>\n",
              "    </tr>\n",
              "  </thead>\n",
              "  <tbody>\n",
              "    <tr>\n",
              "      <th>0</th>\n",
              "      <td>mwandishi wetu siku hizi vijana wengi wamekuwa...</td>\n",
              "      <td>5</td>\n",
              "    </tr>\n",
              "    <tr>\n",
              "      <th>1</th>\n",
              "      <td>mfuko wa hifadhi ya jamii kwa watumishi wa um...</td>\n",
              "      <td>1</td>\n",
              "    </tr>\n",
              "    <tr>\n",
              "      <th>2</th>\n",
              "      <td>lagosi nigeria mkali wa muziki nchini nigeria ...</td>\n",
              "      <td>4</td>\n",
              "    </tr>\n",
              "    <tr>\n",
              "      <th>3</th>\n",
              "      <td>mwandishi wetu tume ya nguvu za atomiki tanzan...</td>\n",
              "      <td>1</td>\n",
              "    </tr>\n",
              "    <tr>\n",
              "      <th>4</th>\n",
              "      <td>morocco aliyasema hayo juzi baada ya kuwasili...</td>\n",
              "      <td>2</td>\n",
              "    </tr>\n",
              "    <tr>\n",
              "      <th>...</th>\n",
              "      <td>...</td>\n",
              "      <td>...</td>\n",
              "    </tr>\n",
              "    <tr>\n",
              "      <th>24013</th>\n",
              "      <td>mwandishi wetu dodoma naibu waziri wa kilimo h...</td>\n",
              "      <td>1</td>\n",
              "    </tr>\n",
              "    <tr>\n",
              "      <th>24014</th>\n",
              "      <td>na mwandishi wetu dar es salaam waziri wa afya...</td>\n",
              "      <td>5</td>\n",
              "    </tr>\n",
              "    <tr>\n",
              "      <th>24015</th>\n",
              "      <td>hakuna aliyeaibika wakati akijaribu kufanya j...</td>\n",
              "      <td>4</td>\n",
              "    </tr>\n",
              "    <tr>\n",
              "      <th>24016</th>\n",
              "      <td>na theresia gasper dar es salaam kocha wa simb...</td>\n",
              "      <td>2</td>\n",
              "    </tr>\n",
              "    <tr>\n",
              "      <th>24017</th>\n",
              "      <td>pennsylvania marekani rais wa marekani donald...</td>\n",
              "      <td>3</td>\n",
              "    </tr>\n",
              "  </tbody>\n",
              "</table>\n",
              "<p>24018 rows × 2 columns</p>\n",
              "</div>\n",
              "      <button class=\"colab-df-convert\" onclick=\"convertToInteractive('df-18383b7d-21f2-4342-bd16-eebf27bef372')\"\n",
              "              title=\"Convert this dataframe to an interactive table.\"\n",
              "              style=\"display:none;\">\n",
              "        \n",
              "  <svg xmlns=\"http://www.w3.org/2000/svg\" height=\"24px\"viewBox=\"0 0 24 24\"\n",
              "       width=\"24px\">\n",
              "    <path d=\"M0 0h24v24H0V0z\" fill=\"none\"/>\n",
              "    <path d=\"M18.56 5.44l.94 2.06.94-2.06 2.06-.94-2.06-.94-.94-2.06-.94 2.06-2.06.94zm-11 1L8.5 8.5l.94-2.06 2.06-.94-2.06-.94L8.5 2.5l-.94 2.06-2.06.94zm10 10l.94 2.06.94-2.06 2.06-.94-2.06-.94-.94-2.06-.94 2.06-2.06.94z\"/><path d=\"M17.41 7.96l-1.37-1.37c-.4-.4-.92-.59-1.43-.59-.52 0-1.04.2-1.43.59L10.3 9.45l-7.72 7.72c-.78.78-.78 2.05 0 2.83L4 21.41c.39.39.9.59 1.41.59.51 0 1.02-.2 1.41-.59l7.78-7.78 2.81-2.81c.8-.78.8-2.07 0-2.86zM5.41 20L4 18.59l7.72-7.72 1.47 1.35L5.41 20z\"/>\n",
              "  </svg>\n",
              "      </button>\n",
              "      \n",
              "  <style>\n",
              "    .colab-df-container {\n",
              "      display:flex;\n",
              "      flex-wrap:wrap;\n",
              "      gap: 12px;\n",
              "    }\n",
              "\n",
              "    .colab-df-convert {\n",
              "      background-color: #E8F0FE;\n",
              "      border: none;\n",
              "      border-radius: 50%;\n",
              "      cursor: pointer;\n",
              "      display: none;\n",
              "      fill: #1967D2;\n",
              "      height: 32px;\n",
              "      padding: 0 0 0 0;\n",
              "      width: 32px;\n",
              "    }\n",
              "\n",
              "    .colab-df-convert:hover {\n",
              "      background-color: #E2EBFA;\n",
              "      box-shadow: 0px 1px 2px rgba(60, 64, 67, 0.3), 0px 1px 3px 1px rgba(60, 64, 67, 0.15);\n",
              "      fill: #174EA6;\n",
              "    }\n",
              "\n",
              "    [theme=dark] .colab-df-convert {\n",
              "      background-color: #3B4455;\n",
              "      fill: #D2E3FC;\n",
              "    }\n",
              "\n",
              "    [theme=dark] .colab-df-convert:hover {\n",
              "      background-color: #434B5C;\n",
              "      box-shadow: 0px 1px 3px 1px rgba(0, 0, 0, 0.15);\n",
              "      filter: drop-shadow(0px 1px 2px rgba(0, 0, 0, 0.3));\n",
              "      fill: #FFFFFF;\n",
              "    }\n",
              "  </style>\n",
              "\n",
              "      <script>\n",
              "        const buttonEl =\n",
              "          document.querySelector('#df-18383b7d-21f2-4342-bd16-eebf27bef372 button.colab-df-convert');\n",
              "        buttonEl.style.display =\n",
              "          google.colab.kernel.accessAllowed ? 'block' : 'none';\n",
              "\n",
              "        async function convertToInteractive(key) {\n",
              "          const element = document.querySelector('#df-18383b7d-21f2-4342-bd16-eebf27bef372');\n",
              "          const dataTable =\n",
              "            await google.colab.kernel.invokeFunction('convertToInteractive',\n",
              "                                                     [key], {});\n",
              "          if (!dataTable) return;\n",
              "\n",
              "          const docLinkHtml = 'Like what you see? Visit the ' +\n",
              "            '<a target=\"_blank\" href=https://colab.research.google.com/notebooks/data_table.ipynb>data table notebook</a>'\n",
              "            + ' to learn more about interactive tables.';\n",
              "          element.innerHTML = '';\n",
              "          dataTable['output_type'] = 'display_data';\n",
              "          await google.colab.output.renderOutput(dataTable, element);\n",
              "          const docLink = document.createElement('div');\n",
              "          docLink.innerHTML = docLinkHtml;\n",
              "          element.appendChild(docLink);\n",
              "        }\n",
              "      </script>\n",
              "    </div>\n",
              "  </div>\n",
              "  "
            ]
          },
          "metadata": {},
          "execution_count": 14
        }
      ]
    },
    {
      "cell_type": "code",
      "source": [
        "from sklearn.feature_extraction.text import TfidfVectorizer\n",
        "\n",
        "tfidf = TfidfVectorizer(max_features = 6000, ngram_range=(2,2))\n",
        "tfidf.fit(df['text'].values.astype('U'))\n",
        "tfidf =tfidf.transform(df['text'].values.astype('U'))\n",
        "print(tfidf.shape)"
      ],
      "metadata": {
        "colab": {
          "base_uri": "https://localhost:8080/"
        },
        "id": "WDh0QZYv3T9Z",
        "outputId": "3a502895-2680-4547-a45a-d31259b49c45"
      },
      "execution_count": null,
      "outputs": [
        {
          "output_type": "stream",
          "name": "stdout",
          "text": [
            "(24018, 6000)\n"
          ]
        }
      ]
    },
    {
      "cell_type": "code",
      "source": [
        "# split the data into training and test sets\n",
        "from sklearn.model_selection import train_test_split\n",
        "\n",
        "# Tfidf\n",
        "X_train_tfidf, X_test_tfidf, y_train_tfidf, y_test_tfidf = train_test_split(tfidf, df['label'], test_size=0.30, random_state=42)\n",
        "\n",
        "# Tfidf ngram\n",
        "X_train_tfidf_ngram, X_test_tfidf_ngram, y_train_tfidf_ngram, y_test_tfidf_ngram = train_test_split(tfidf, df['label'], test_size=0.2, random_state=42)"
      ],
      "metadata": {
        "id": "MlcJOF634YIV"
      },
      "execution_count": null,
      "outputs": []
    },
    {
      "cell_type": "code",
      "source": [
        "from sklearn.naive_bayes import MultinomialNB\n",
        "\n",
        "# Tfidf\n",
        "nb_tfidf = MultinomialNB()\n",
        "nb_tfidf.fit(X_train_tfidf, y_train_tfidf)\n",
        "y_pred_tfidf = nb_tfidf.predict(X_test_tfidf)\n",
        "print('Tfidf Accuracy: ', accuracy_score(y_test_tfidf, y_pred_tfidf))\n",
        "\n",
        "# Tfidf ngram\n",
        "nb_tfidf_ngram = MultinomialNB()\n",
        "nb_tfidf_ngram.fit(X_train_tfidf_ngram, y_train_tfidf_ngram)\n",
        "y_pred_tfidf_ngram = nb_tfidf_ngram.predict(X_test_tfidf_ngram)\n",
        "print('Tfidf ngram Accuracy: ', accuracy_score(y_test_tfidf_ngram, y_pred_tfidf_ngram))"
      ],
      "metadata": {
        "colab": {
          "base_uri": "https://localhost:8080/"
        },
        "id": "9sbXzHaJ4ul7",
        "outputId": "0549833f-b56d-4bac-e282-cb537286ff94"
      },
      "execution_count": null,
      "outputs": [
        {
          "output_type": "stream",
          "name": "stdout",
          "text": [
            "Tfidf Accuracy:  0.8340271995559256\n",
            "Tfidf ngram Accuracy:  0.8297252289758534\n"
          ]
        }
      ]
    },
    {
      "cell_type": "code",
      "source": [],
      "metadata": {
        "id": "7uWVlAC65QyJ"
      },
      "execution_count": null,
      "outputs": []
    }
  ]
}