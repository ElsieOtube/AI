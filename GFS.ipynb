{
  "nbformat": 4,
  "nbformat_minor": 0,
  "metadata": {
    "colab": {
      "provenance": [],
      "authorship_tag": "ABX9TyO8XOZsxhcWUPXfqCPDlMJf",
      "include_colab_link": true
    },
    "kernelspec": {
      "name": "python3",
      "display_name": "Python 3"
    },
    "language_info": {
      "name": "python"
    }
  },
  "cells": [
    {
      "cell_type": "markdown",
      "metadata": {
        "id": "view-in-github",
        "colab_type": "text"
      },
      "source": [
        "<a href=\"https://colab.research.google.com/github/ElsieOtube/AI/blob/main/GFS.ipynb\" target=\"_parent\"><img src=\"https://colab.research.google.com/assets/colab-badge.svg\" alt=\"Open In Colab\"/></a>"
      ]
    },
    {
      "cell_type": "code",
      "execution_count": 1,
      "metadata": {
        "colab": {
          "base_uri": "https://localhost:8080/"
        },
        "id": "nIowyBJPR20z",
        "outputId": "36e6228d-c1a2-4e34-e749-88da290894d7"
      },
      "outputs": [
        {
          "output_type": "stream",
          "name": "stdout",
          "text": [
            "A\n",
            "C\n",
            "G\n",
            "H\n"
          ]
        }
      ],
      "source": [
        "\n",
        "graph = {\n",
        "'A':[('B',12), ('C',4)],\n",
        "'B':[('D',7), ('E',3)],\n",
        "'C':[('F',8), ('G',2)],\n",
        "'D':[],\n",
        "'E':[('H',0)],\n",
        "'F':[('H',0)],\n",
        "'G':[('H',0)]\n",
        "}\n",
        "\n",
        "\n",
        "def gfs(start, target, graph, queue=[], visited=[]):\n",
        "    if start not in visited:\n",
        "        print(start)\n",
        "        visited.append(start)\n",
        "    queue=queue+[x for x in graph[start] if x[0][0] not in visited]\n",
        "    queue.sort(key=lambda x:x[1])\n",
        "    if queue[0][0]==target:\n",
        "        print(queue[0][0])\n",
        "    else:\n",
        "        processing=queue[0]\n",
        "        queue.remove(processing)\n",
        "        gfs(processing[0], target, graph, queue, visited)\n",
        "gfs('A', 'H', graph)"
      ]
    }
  ]
}