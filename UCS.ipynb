{
  "nbformat": 4,
  "nbformat_minor": 0,
  "metadata": {
    "colab": {
      "provenance": [],
      "authorship_tag": "ABX9TyNCp3LBPhwy8fmNELpYwSeP",
      "include_colab_link": true
    },
    "kernelspec": {
      "name": "python3",
      "display_name": "Python 3"
    },
    "language_info": {
      "name": "python"
    }
  },
  "cells": [
    {
      "cell_type": "markdown",
      "metadata": {
        "id": "view-in-github",
        "colab_type": "text"
      },
      "source": [
        "<a href=\"https://colab.research.google.com/github/ElsieOtube/AI/blob/main/UCS.ipynb\" target=\"_parent\"><img src=\"https://colab.research.google.com/assets/colab-badge.svg\" alt=\"Open In Colab\"/></a>"
      ]
    },
    {
      "cell_type": "code",
      "execution_count": 1,
      "metadata": {
        "colab": {
          "base_uri": "https://localhost:8080/"
        },
        "id": "GxcunE2sSY0v",
        "outputId": "3e6f0aae-afd7-4360-8389-069e03ab91e5"
      },
      "outputs": [
        {
          "output_type": "stream",
          "name": "stdout",
          "text": [
            "Enter the Start State: S\n",
            "Enter the Goal State: A\n",
            "Path with least cost is:  S -> A\n"
          ]
        }
      ],
      "source": [
        "\n",
        "graph=[['S','A',6],\n",
        "       ['S','B',5],\n",
        "       ['S','C',10],\n",
        "       ['A','E',6],\n",
        "       ['B','E',6],\n",
        "       ['B','D',7],\n",
        "       ['C','D',6],\n",
        "       ['E','F',6],\n",
        "       ['D','F',6],\n",
        "       ['F','G',1]]\n",
        "temp = []\n",
        "temp1 = []\n",
        "for i in graph:\n",
        "  temp.append(i[0])\n",
        "  temp1.append(i[1])\n",
        "nodes = set(temp).union(set(temp1))\n",
        "def UCS(graph, costs, open, closed, cur_node):\n",
        "  if cur_node in open:\n",
        "    open.remove(cur_node)\n",
        "  closed.add(cur_node)\n",
        "  for i in graph:\n",
        "    if(i[0] == cur_node and costs[i[0]]+i[2] < costs[i[1]]):\n",
        "      open.add(i[1])\n",
        "      costs[i[1]] = costs[i[0]]+i[2]\n",
        "      path[i[1]] = path[i[0]] + ' -> ' + i[1]\n",
        "  costs[cur_node] = 999999\n",
        "  small = min(costs, key=costs.get)\n",
        "  if small not in closed:\n",
        "    UCS(graph, costs, open,closed, small)\n",
        "costs = dict()\n",
        "temp_cost = dict()\n",
        "path = dict()\n",
        "for i in nodes:\n",
        "  costs[i] = 999999\n",
        "  path[i] = ' '\n",
        "open = set()\n",
        "closed = set()\n",
        "start_node = input(\"Enter the Start State: \")\n",
        "open.add(start_node)\n",
        "path[start_node] = start_node\n",
        "costs[start_node] = 0\n",
        "UCS(graph, costs, open, closed, start_node)\n",
        "goal_node = input(\"Enter the Goal State: \")\n",
        "print(\"Path with least cost is: \",path[goal_node])"
      ]
    }
  ]
}