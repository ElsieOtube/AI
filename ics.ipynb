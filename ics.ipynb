{
  "cells": [
    {
      "cell_type": "code",
      "source": [
        "!pip install gym"
      ],
      "metadata": {
        "id": "txigIi0ODhsx"
      },
      "execution_count": null,
      "outputs": []
    },
    {
      "cell_type": "code",
      "execution_count": null,
      "metadata": {
        "id": "fiXV33zODf27",
        "colab": {
          "base_uri": "https://localhost:8080/"
        },
        "outputId": "313d68fe-dc40-4a9a-a4c5-06534e477478"
      },
      "outputs": [
        {
          "output_type": "stream",
          "name": "stderr",
          "text": [
            "/usr/local/lib/python3.7/dist-packages/gym/envs/registration.py:594: UserWarning: \u001b[33mWARN: The environment CartPole-v0 is out of date. You should consider upgrading to version `v1`.\u001b[0m\n",
            "  f\"The environment {id} is out of date. You should consider \"\n",
            "/usr/local/lib/python3.7/dist-packages/gym/core.py:318: DeprecationWarning: \u001b[33mWARN: Initializing wrapper in old step API which returns one bool instead of two. It is recommended to set `new_step_api=True` to use new step API. This will be the default behaviour in future.\u001b[0m\n",
            "  \"Initializing wrapper in old step API which returns one bool instead of two. It is recommended to set `new_step_api=True` to use new step API. This will be the default behaviour in future.\"\n",
            "/usr/local/lib/python3.7/dist-packages/gym/wrappers/step_api_compatibility.py:40: DeprecationWarning: \u001b[33mWARN: Initializing environment in old step API which returns one bool instead of two. It is recommended to set `new_step_api=True` to use new step API. This will be the default behaviour in future.\u001b[0m\n",
            "  \"Initializing environment in old step API which returns one bool instead of two. It is recommended to set `new_step_api=True` to use new step API. This will be the default behaviour in future.\"\n"
          ]
        }
      ],
      "source": [
        "import gym\n",
        "ics_env = gym.make(\"CartPole-v0\")               # Create the environment"
      ]
    },
    {
      "cell_type": "code",
      "execution_count": null,
      "metadata": {
        "id": "O8F0MyaWDf2-",
        "outputId": "3bd7b866-f981-4b14-88aa-28285137b6d8",
        "colab": {
          "base_uri": "https://localhost:8080/"
        }
      },
      "outputs": [
        {
          "output_type": "stream",
          "name": "stdout",
          "text": [
            "Discrete(2)\n",
            "Box([-4.8000002e+00 -3.4028235e+38 -4.1887903e-01 -3.4028235e+38], [4.8000002e+00 3.4028235e+38 4.1887903e-01 3.4028235e+38], (4,), float32)\n"
          ]
        }
      ],
      "source": [
        "print(ics_env.action_space)                     # Get the action space\n",
        "print(ics_env.observation_space)                # Get the observation space"
      ]
    },
    {
      "cell_type": "code",
      "execution_count": null,
      "metadata": {
        "id": "vQcA_49DDf2_",
        "outputId": "f45c02a3-0e1c-46f4-b530-19407de6e9ca",
        "colab": {
          "base_uri": "https://localhost:8080/"
        }
      },
      "outputs": [
        {
          "output_type": "stream",
          "name": "stdout",
          "text": [
            "Episode: 1, Score: 41.0\n",
            "Episode: 2, Score: 14.0\n",
            "Episode: 3, Score: 27.0\n",
            "Episode: 4, Score: 19.0\n",
            "Episode: 5, Score: 12.0\n",
            "Episode: 6, Score: 24.0\n",
            "Episode: 7, Score: 14.0\n",
            "Episode: 8, Score: 16.0\n",
            "Episode: 9, Score: 27.0\n",
            "Episode: 10, Score: 25.0\n",
            "Episode: 11, Score: 24.0\n",
            "Episode: 12, Score: 14.0\n",
            "Episode: 13, Score: 29.0\n",
            "Episode: 14, Score: 40.0\n",
            "Episode: 15, Score: 22.0\n",
            "Episode: 16, Score: 24.0\n",
            "Episode: 17, Score: 25.0\n",
            "Episode: 18, Score: 10.0\n",
            "Episode: 19, Score: 21.0\n",
            "Episode: 20, Score: 17.0\n",
            "Episode: 21, Score: 11.0\n",
            "Episode: 22, Score: 11.0\n",
            "Episode: 23, Score: 17.0\n",
            "Episode: 24, Score: 29.0\n",
            "Episode: 25, Score: 19.0\n",
            "Episode: 26, Score: 17.0\n",
            "Episode: 27, Score: 12.0\n",
            "Episode: 28, Score: 27.0\n",
            "Episode: 29, Score: 25.0\n",
            "Episode: 30, Score: 19.0\n",
            "Episode: 31, Score: 19.0\n",
            "Episode: 32, Score: 29.0\n",
            "Episode: 33, Score: 23.0\n",
            "Episode: 34, Score: 21.0\n",
            "Episode: 35, Score: 11.0\n",
            "Episode: 36, Score: 17.0\n",
            "Episode: 37, Score: 38.0\n",
            "Episode: 38, Score: 23.0\n",
            "Episode: 39, Score: 37.0\n",
            "Episode: 40, Score: 29.0\n",
            "Episode: 41, Score: 43.0\n",
            "Episode: 42, Score: 26.0\n",
            "Episode: 43, Score: 19.0\n",
            "Episode: 44, Score: 42.0\n",
            "Episode: 45, Score: 18.0\n",
            "Episode: 46, Score: 18.0\n",
            "Episode: 47, Score: 27.0\n",
            "Episode: 48, Score: 32.0\n",
            "Episode: 49, Score: 17.0\n",
            "Episode: 50, Score: 16.0\n",
            "Episode: 51, Score: 18.0\n",
            "Episode: 52, Score: 17.0\n",
            "Episode: 53, Score: 33.0\n",
            "Episode: 54, Score: 14.0\n",
            "Episode: 55, Score: 13.0\n",
            "Episode: 56, Score: 17.0\n",
            "Episode: 57, Score: 16.0\n",
            "Episode: 58, Score: 15.0\n",
            "Episode: 59, Score: 14.0\n",
            "Episode: 60, Score: 13.0\n",
            "Episode: 61, Score: 29.0\n",
            "Episode: 62, Score: 29.0\n",
            "Episode: 63, Score: 9.0\n",
            "Episode: 64, Score: 12.0\n",
            "Episode: 65, Score: 27.0\n",
            "Episode: 66, Score: 27.0\n",
            "Episode: 67, Score: 34.0\n",
            "Episode: 68, Score: 37.0\n",
            "Episode: 69, Score: 12.0\n",
            "Episode: 70, Score: 33.0\n",
            "Episode: 71, Score: 16.0\n",
            "Episode: 72, Score: 26.0\n",
            "Episode: 73, Score: 23.0\n",
            "Episode: 74, Score: 19.0\n",
            "Episode: 75, Score: 13.0\n",
            "Episode: 76, Score: 31.0\n",
            "Episode: 77, Score: 25.0\n",
            "Episode: 78, Score: 15.0\n",
            "Episode: 79, Score: 28.0\n",
            "Episode: 80, Score: 39.0\n",
            "Episode: 81, Score: 23.0\n",
            "Episode: 82, Score: 20.0\n",
            "Episode: 83, Score: 19.0\n",
            "Episode: 84, Score: 23.0\n",
            "Episode: 85, Score: 22.0\n",
            "Episode: 86, Score: 18.0\n",
            "Episode: 87, Score: 24.0\n",
            "Episode: 88, Score: 20.0\n",
            "Episode: 89, Score: 11.0\n",
            "Episode: 90, Score: 22.0\n",
            "Episode: 91, Score: 36.0\n",
            "Episode: 92, Score: 14.0\n",
            "Episode: 93, Score: 16.0\n",
            "Episode: 94, Score: 43.0\n",
            "Episode: 95, Score: 16.0\n",
            "Episode: 96, Score: 65.0\n",
            "Episode: 97, Score: 15.0\n",
            "Episode: 98, Score: 32.0\n",
            "Episode: 99, Score: 21.0\n",
            "Episode: 100, Score: 29.0\n",
            "Episode: 101, Score: 33.0\n",
            "Episode: 102, Score: 16.0\n",
            "Episode: 103, Score: 21.0\n",
            "Episode: 104, Score: 13.0\n",
            "Episode: 105, Score: 16.0\n",
            "Episode: 106, Score: 11.0\n",
            "Episode: 107, Score: 9.0\n",
            "Episode: 108, Score: 10.0\n",
            "Episode: 109, Score: 15.0\n",
            "Episode: 110, Score: 23.0\n",
            "Episode: 111, Score: 12.0\n",
            "Episode: 112, Score: 19.0\n",
            "Episode: 113, Score: 21.0\n",
            "Episode: 114, Score: 19.0\n",
            "Episode: 115, Score: 15.0\n",
            "Episode: 116, Score: 29.0\n",
            "Episode: 117, Score: 19.0\n",
            "Episode: 118, Score: 19.0\n",
            "Episode: 119, Score: 12.0\n",
            "Episode: 120, Score: 22.0\n",
            "Episode: 121, Score: 28.0\n",
            "Episode: 122, Score: 25.0\n",
            "Episode: 123, Score: 26.0\n",
            "Episode: 124, Score: 11.0\n",
            "Episode: 125, Score: 18.0\n",
            "Episode: 126, Score: 41.0\n",
            "Episode: 127, Score: 35.0\n",
            "Episode: 128, Score: 11.0\n",
            "Episode: 129, Score: 17.0\n",
            "Episode: 130, Score: 15.0\n",
            "Episode: 131, Score: 67.0\n",
            "Episode: 132, Score: 11.0\n",
            "Episode: 133, Score: 22.0\n",
            "Episode: 134, Score: 18.0\n",
            "Episode: 135, Score: 23.0\n",
            "Episode: 136, Score: 16.0\n",
            "Episode: 137, Score: 36.0\n",
            "Episode: 138, Score: 13.0\n",
            "Episode: 139, Score: 21.0\n",
            "Episode: 140, Score: 20.0\n",
            "Episode: 141, Score: 25.0\n",
            "Episode: 142, Score: 23.0\n",
            "Episode: 143, Score: 24.0\n",
            "Episode: 144, Score: 12.0\n",
            "Episode: 145, Score: 19.0\n",
            "Episode: 146, Score: 59.0\n",
            "Episode: 147, Score: 13.0\n",
            "Episode: 148, Score: 13.0\n",
            "Episode: 149, Score: 44.0\n",
            "Episode: 150, Score: 22.0\n",
            "Episode: 151, Score: 21.0\n",
            "Episode: 152, Score: 54.0\n",
            "Episode: 153, Score: 53.0\n",
            "Episode: 154, Score: 18.0\n",
            "Episode: 155, Score: 24.0\n",
            "Episode: 156, Score: 19.0\n",
            "Episode: 157, Score: 27.0\n",
            "Episode: 158, Score: 30.0\n",
            "Episode: 159, Score: 24.0\n",
            "Episode: 160, Score: 17.0\n",
            "Episode: 161, Score: 25.0\n",
            "Episode: 162, Score: 11.0\n",
            "Episode: 163, Score: 19.0\n",
            "Episode: 164, Score: 18.0\n",
            "Episode: 165, Score: 14.0\n",
            "Episode: 166, Score: 13.0\n",
            "Episode: 167, Score: 39.0\n",
            "Episode: 168, Score: 19.0\n",
            "Episode: 169, Score: 35.0\n",
            "Episode: 170, Score: 24.0\n"
          ]
        }
      ],
      "source": [
        "for episode in range(1, 171):                   # Run 170 episodes\n",
        "    score = 0                                   # Initialize the score\n",
        "    state = ics_env.reset()                     # Reset the environment\n",
        "    done = False                                # Set done to False initially\n",
        "\n",
        "    while not done:                                         # Run until done\n",
        "        #ics_env.render()                                    # Render the environment\n",
        "        action = ics_env.action_space.sample()              # Get a random action using sample()\n",
        "        n_state, reward, done, info = ics_env.step(action)  # Get the next state, reward, done, and info\n",
        "        score += reward                                     # Add the reward to the score\n",
        "    \n",
        "\n",
        "    print(\"Episode: {}, Score: {}\".format(episode, score))  # Print the episode and score\n",
        "\n",
        "\n",
        "ics_env.close()                                             # Close the environment"
      ]
    }
  ],
  "metadata": {
    "kernelspec": {
      "display_name": "Python 3.9.13 ('ics')",
      "language": "python",
      "name": "python3"
    },
    "language_info": {
      "codemirror_mode": {
        "name": "ipython",
        "version": 3
      },
      "file_extension": ".py",
      "mimetype": "text/x-python",
      "name": "python",
      "nbconvert_exporter": "python",
      "pygments_lexer": "ipython3",
      "version": "3.9.13"
    },
    "orig_nbformat": 4,
    "vscode": {
      "interpreter": {
        "hash": "20843b2a847f9fe4dcaa2731b833ec2c691d592fa62852a76645cadfd753b960"
      }
    },
    "colab": {
      "provenance": []
    }
  },
  "nbformat": 4,
  "nbformat_minor": 0
}