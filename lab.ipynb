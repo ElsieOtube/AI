{
  "nbformat": 4,
  "nbformat_minor": 0,
  "metadata": {
    "colab": {
      "provenance": [],
      "collapsed_sections": [],
      "authorship_tag": "ABX9TyOwcrsSjS2Z8z0VlIjN20un",
      "include_colab_link": true
    },
    "kernelspec": {
      "name": "python3",
      "display_name": "Python 3"
    },
    "language_info": {
      "name": "python"
    }
  },
  "cells": [
    {
      "cell_type": "markdown",
      "metadata": {
        "id": "view-in-github",
        "colab_type": "text"
      },
      "source": [
        "<a href=\"https://colab.research.google.com/github/ElsieOtube/AI/blob/main/lab.ipynb\" target=\"_parent\"><img src=\"https://colab.research.google.com/assets/colab-badge.svg\" alt=\"Open In Colab\"/></a>"
      ]
    },
    {
      "cell_type": "code",
      "execution_count": 3,
      "metadata": {
        "colab": {
          "base_uri": "https://localhost:8080/",
          "height": 327
        },
        "id": "10iBOsYmUTDx",
        "outputId": "51c990b7-5bf5-48cb-8776-1ea7e6088944"
      },
      "outputs": [
        {
          "output_type": "display_data",
          "data": {
            "text/plain": [
              "<IPython.core.display.HTML object>"
            ],
            "text/html": [
              "\n",
              "     <input type=\"file\" id=\"files-9cc909ac-b95d-4439-ad63-f0b770d69a1f\" name=\"files[]\" multiple disabled\n",
              "        style=\"border:none\" />\n",
              "     <output id=\"result-9cc909ac-b95d-4439-ad63-f0b770d69a1f\">\n",
              "      Upload widget is only available when the cell has been executed in the\n",
              "      current browser session. Please rerun this cell to enable.\n",
              "      </output>\n",
              "      <script>// Copyright 2017 Google LLC\n",
              "//\n",
              "// Licensed under the Apache License, Version 2.0 (the \"License\");\n",
              "// you may not use this file except in compliance with the License.\n",
              "// You may obtain a copy of the License at\n",
              "//\n",
              "//      http://www.apache.org/licenses/LICENSE-2.0\n",
              "//\n",
              "// Unless required by applicable law or agreed to in writing, software\n",
              "// distributed under the License is distributed on an \"AS IS\" BASIS,\n",
              "// WITHOUT WARRANTIES OR CONDITIONS OF ANY KIND, either express or implied.\n",
              "// See the License for the specific language governing permissions and\n",
              "// limitations under the License.\n",
              "\n",
              "/**\n",
              " * @fileoverview Helpers for google.colab Python module.\n",
              " */\n",
              "(function(scope) {\n",
              "function span(text, styleAttributes = {}) {\n",
              "  const element = document.createElement('span');\n",
              "  element.textContent = text;\n",
              "  for (const key of Object.keys(styleAttributes)) {\n",
              "    element.style[key] = styleAttributes[key];\n",
              "  }\n",
              "  return element;\n",
              "}\n",
              "\n",
              "// Max number of bytes which will be uploaded at a time.\n",
              "const MAX_PAYLOAD_SIZE = 100 * 1024;\n",
              "\n",
              "function _uploadFiles(inputId, outputId) {\n",
              "  const steps = uploadFilesStep(inputId, outputId);\n",
              "  const outputElement = document.getElementById(outputId);\n",
              "  // Cache steps on the outputElement to make it available for the next call\n",
              "  // to uploadFilesContinue from Python.\n",
              "  outputElement.steps = steps;\n",
              "\n",
              "  return _uploadFilesContinue(outputId);\n",
              "}\n",
              "\n",
              "// This is roughly an async generator (not supported in the browser yet),\n",
              "// where there are multiple asynchronous steps and the Python side is going\n",
              "// to poll for completion of each step.\n",
              "// This uses a Promise to block the python side on completion of each step,\n",
              "// then passes the result of the previous step as the input to the next step.\n",
              "function _uploadFilesContinue(outputId) {\n",
              "  const outputElement = document.getElementById(outputId);\n",
              "  const steps = outputElement.steps;\n",
              "\n",
              "  const next = steps.next(outputElement.lastPromiseValue);\n",
              "  return Promise.resolve(next.value.promise).then((value) => {\n",
              "    // Cache the last promise value to make it available to the next\n",
              "    // step of the generator.\n",
              "    outputElement.lastPromiseValue = value;\n",
              "    return next.value.response;\n",
              "  });\n",
              "}\n",
              "\n",
              "/**\n",
              " * Generator function which is called between each async step of the upload\n",
              " * process.\n",
              " * @param {string} inputId Element ID of the input file picker element.\n",
              " * @param {string} outputId Element ID of the output display.\n",
              " * @return {!Iterable<!Object>} Iterable of next steps.\n",
              " */\n",
              "function* uploadFilesStep(inputId, outputId) {\n",
              "  const inputElement = document.getElementById(inputId);\n",
              "  inputElement.disabled = false;\n",
              "\n",
              "  const outputElement = document.getElementById(outputId);\n",
              "  outputElement.innerHTML = '';\n",
              "\n",
              "  const pickedPromise = new Promise((resolve) => {\n",
              "    inputElement.addEventListener('change', (e) => {\n",
              "      resolve(e.target.files);\n",
              "    });\n",
              "  });\n",
              "\n",
              "  const cancel = document.createElement('button');\n",
              "  inputElement.parentElement.appendChild(cancel);\n",
              "  cancel.textContent = 'Cancel upload';\n",
              "  const cancelPromise = new Promise((resolve) => {\n",
              "    cancel.onclick = () => {\n",
              "      resolve(null);\n",
              "    };\n",
              "  });\n",
              "\n",
              "  // Wait for the user to pick the files.\n",
              "  const files = yield {\n",
              "    promise: Promise.race([pickedPromise, cancelPromise]),\n",
              "    response: {\n",
              "      action: 'starting',\n",
              "    }\n",
              "  };\n",
              "\n",
              "  cancel.remove();\n",
              "\n",
              "  // Disable the input element since further picks are not allowed.\n",
              "  inputElement.disabled = true;\n",
              "\n",
              "  if (!files) {\n",
              "    return {\n",
              "      response: {\n",
              "        action: 'complete',\n",
              "      }\n",
              "    };\n",
              "  }\n",
              "\n",
              "  for (const file of files) {\n",
              "    const li = document.createElement('li');\n",
              "    li.append(span(file.name, {fontWeight: 'bold'}));\n",
              "    li.append(span(\n",
              "        `(${file.type || 'n/a'}) - ${file.size} bytes, ` +\n",
              "        `last modified: ${\n",
              "            file.lastModifiedDate ? file.lastModifiedDate.toLocaleDateString() :\n",
              "                                    'n/a'} - `));\n",
              "    const percent = span('0% done');\n",
              "    li.appendChild(percent);\n",
              "\n",
              "    outputElement.appendChild(li);\n",
              "\n",
              "    const fileDataPromise = new Promise((resolve) => {\n",
              "      const reader = new FileReader();\n",
              "      reader.onload = (e) => {\n",
              "        resolve(e.target.result);\n",
              "      };\n",
              "      reader.readAsArrayBuffer(file);\n",
              "    });\n",
              "    // Wait for the data to be ready.\n",
              "    let fileData = yield {\n",
              "      promise: fileDataPromise,\n",
              "      response: {\n",
              "        action: 'continue',\n",
              "      }\n",
              "    };\n",
              "\n",
              "    // Use a chunked sending to avoid message size limits. See b/62115660.\n",
              "    let position = 0;\n",
              "    do {\n",
              "      const length = Math.min(fileData.byteLength - position, MAX_PAYLOAD_SIZE);\n",
              "      const chunk = new Uint8Array(fileData, position, length);\n",
              "      position += length;\n",
              "\n",
              "      const base64 = btoa(String.fromCharCode.apply(null, chunk));\n",
              "      yield {\n",
              "        response: {\n",
              "          action: 'append',\n",
              "          file: file.name,\n",
              "          data: base64,\n",
              "        },\n",
              "      };\n",
              "\n",
              "      let percentDone = fileData.byteLength === 0 ?\n",
              "          100 :\n",
              "          Math.round((position / fileData.byteLength) * 100);\n",
              "      percent.textContent = `${percentDone}% done`;\n",
              "\n",
              "    } while (position < fileData.byteLength);\n",
              "  }\n",
              "\n",
              "  // All done.\n",
              "  yield {\n",
              "    response: {\n",
              "      action: 'complete',\n",
              "    }\n",
              "  };\n",
              "}\n",
              "\n",
              "scope.google = scope.google || {};\n",
              "scope.google.colab = scope.google.colab || {};\n",
              "scope.google.colab._files = {\n",
              "  _uploadFiles,\n",
              "  _uploadFilesContinue,\n",
              "};\n",
              "})(self);\n",
              "</script> "
            ]
          },
          "metadata": {}
        },
        {
          "output_type": "stream",
          "name": "stdout",
          "text": [
            "Saving data_C.csv to data_C (1).csv\n"
          ]
        },
        {
          "output_type": "execute_result",
          "data": {
            "text/plain": [
              "   Gender    Age   Debt  Married  BankCustomer               Industry  \\\n",
              "0       0  21.75  11.75      1.0             1                 Energy   \n",
              "1       1  20.42   7.50      1.0             1             Financials   \n",
              "2       1  27.83   1.00      0.0             0            Real Estate   \n",
              "3       0  27.42  14.50      1.0             1              Utilities   \n",
              "4       1  34.17    NaN      1.0             1  InformationTechnology   \n",
              "\n",
              "  Ethnicity  YearsEmployed  PriorDefault  Employed  CreditScore  \\\n",
              "0     White          0.250           0.0       0.0          0.0   \n",
              "1     White          1.500           1.0       1.0          1.0   \n",
              "2     Black          3.000           0.0       0.0          0.0   \n",
              "3     Black          3.085           1.0       1.0          1.0   \n",
              "4     White          1.540           1.0       1.0          1.0   \n",
              "\n",
              "   DriversLicense  Citizen  ZipCode  Income  Approved  \n",
              "0             1.0  ByBirth    180.0       0         0  \n",
              "1             0.0  ByBirth    160.0     234         1  \n",
              "2             0.0  ByBirth    176.0     537         0  \n",
              "3             0.0  ByBirth    120.0      11         1  \n",
              "4             1.0  ByBirth    520.0   50000         1  "
            ],
            "text/html": [
              "\n",
              "  <div id=\"df-1007bde9-6373-4e35-93ed-dab21d9bffd8\">\n",
              "    <div class=\"colab-df-container\">\n",
              "      <div>\n",
              "<style scoped>\n",
              "    .dataframe tbody tr th:only-of-type {\n",
              "        vertical-align: middle;\n",
              "    }\n",
              "\n",
              "    .dataframe tbody tr th {\n",
              "        vertical-align: top;\n",
              "    }\n",
              "\n",
              "    .dataframe thead th {\n",
              "        text-align: right;\n",
              "    }\n",
              "</style>\n",
              "<table border=\"1\" class=\"dataframe\">\n",
              "  <thead>\n",
              "    <tr style=\"text-align: right;\">\n",
              "      <th></th>\n",
              "      <th>Gender</th>\n",
              "      <th>Age</th>\n",
              "      <th>Debt</th>\n",
              "      <th>Married</th>\n",
              "      <th>BankCustomer</th>\n",
              "      <th>Industry</th>\n",
              "      <th>Ethnicity</th>\n",
              "      <th>YearsEmployed</th>\n",
              "      <th>PriorDefault</th>\n",
              "      <th>Employed</th>\n",
              "      <th>CreditScore</th>\n",
              "      <th>DriversLicense</th>\n",
              "      <th>Citizen</th>\n",
              "      <th>ZipCode</th>\n",
              "      <th>Income</th>\n",
              "      <th>Approved</th>\n",
              "    </tr>\n",
              "  </thead>\n",
              "  <tbody>\n",
              "    <tr>\n",
              "      <th>0</th>\n",
              "      <td>0</td>\n",
              "      <td>21.75</td>\n",
              "      <td>11.75</td>\n",
              "      <td>1.0</td>\n",
              "      <td>1</td>\n",
              "      <td>Energy</td>\n",
              "      <td>White</td>\n",
              "      <td>0.250</td>\n",
              "      <td>0.0</td>\n",
              "      <td>0.0</td>\n",
              "      <td>0.0</td>\n",
              "      <td>1.0</td>\n",
              "      <td>ByBirth</td>\n",
              "      <td>180.0</td>\n",
              "      <td>0</td>\n",
              "      <td>0</td>\n",
              "    </tr>\n",
              "    <tr>\n",
              "      <th>1</th>\n",
              "      <td>1</td>\n",
              "      <td>20.42</td>\n",
              "      <td>7.50</td>\n",
              "      <td>1.0</td>\n",
              "      <td>1</td>\n",
              "      <td>Financials</td>\n",
              "      <td>White</td>\n",
              "      <td>1.500</td>\n",
              "      <td>1.0</td>\n",
              "      <td>1.0</td>\n",
              "      <td>1.0</td>\n",
              "      <td>0.0</td>\n",
              "      <td>ByBirth</td>\n",
              "      <td>160.0</td>\n",
              "      <td>234</td>\n",
              "      <td>1</td>\n",
              "    </tr>\n",
              "    <tr>\n",
              "      <th>2</th>\n",
              "      <td>1</td>\n",
              "      <td>27.83</td>\n",
              "      <td>1.00</td>\n",
              "      <td>0.0</td>\n",
              "      <td>0</td>\n",
              "      <td>Real Estate</td>\n",
              "      <td>Black</td>\n",
              "      <td>3.000</td>\n",
              "      <td>0.0</td>\n",
              "      <td>0.0</td>\n",
              "      <td>0.0</td>\n",
              "      <td>0.0</td>\n",
              "      <td>ByBirth</td>\n",
              "      <td>176.0</td>\n",
              "      <td>537</td>\n",
              "      <td>0</td>\n",
              "    </tr>\n",
              "    <tr>\n",
              "      <th>3</th>\n",
              "      <td>0</td>\n",
              "      <td>27.42</td>\n",
              "      <td>14.50</td>\n",
              "      <td>1.0</td>\n",
              "      <td>1</td>\n",
              "      <td>Utilities</td>\n",
              "      <td>Black</td>\n",
              "      <td>3.085</td>\n",
              "      <td>1.0</td>\n",
              "      <td>1.0</td>\n",
              "      <td>1.0</td>\n",
              "      <td>0.0</td>\n",
              "      <td>ByBirth</td>\n",
              "      <td>120.0</td>\n",
              "      <td>11</td>\n",
              "      <td>1</td>\n",
              "    </tr>\n",
              "    <tr>\n",
              "      <th>4</th>\n",
              "      <td>1</td>\n",
              "      <td>34.17</td>\n",
              "      <td>NaN</td>\n",
              "      <td>1.0</td>\n",
              "      <td>1</td>\n",
              "      <td>InformationTechnology</td>\n",
              "      <td>White</td>\n",
              "      <td>1.540</td>\n",
              "      <td>1.0</td>\n",
              "      <td>1.0</td>\n",
              "      <td>1.0</td>\n",
              "      <td>1.0</td>\n",
              "      <td>ByBirth</td>\n",
              "      <td>520.0</td>\n",
              "      <td>50000</td>\n",
              "      <td>1</td>\n",
              "    </tr>\n",
              "  </tbody>\n",
              "</table>\n",
              "</div>\n",
              "      <button class=\"colab-df-convert\" onclick=\"convertToInteractive('df-1007bde9-6373-4e35-93ed-dab21d9bffd8')\"\n",
              "              title=\"Convert this dataframe to an interactive table.\"\n",
              "              style=\"display:none;\">\n",
              "        \n",
              "  <svg xmlns=\"http://www.w3.org/2000/svg\" height=\"24px\"viewBox=\"0 0 24 24\"\n",
              "       width=\"24px\">\n",
              "    <path d=\"M0 0h24v24H0V0z\" fill=\"none\"/>\n",
              "    <path d=\"M18.56 5.44l.94 2.06.94-2.06 2.06-.94-2.06-.94-.94-2.06-.94 2.06-2.06.94zm-11 1L8.5 8.5l.94-2.06 2.06-.94-2.06-.94L8.5 2.5l-.94 2.06-2.06.94zm10 10l.94 2.06.94-2.06 2.06-.94-2.06-.94-.94-2.06-.94 2.06-2.06.94z\"/><path d=\"M17.41 7.96l-1.37-1.37c-.4-.4-.92-.59-1.43-.59-.52 0-1.04.2-1.43.59L10.3 9.45l-7.72 7.72c-.78.78-.78 2.05 0 2.83L4 21.41c.39.39.9.59 1.41.59.51 0 1.02-.2 1.41-.59l7.78-7.78 2.81-2.81c.8-.78.8-2.07 0-2.86zM5.41 20L4 18.59l7.72-7.72 1.47 1.35L5.41 20z\"/>\n",
              "  </svg>\n",
              "      </button>\n",
              "      \n",
              "  <style>\n",
              "    .colab-df-container {\n",
              "      display:flex;\n",
              "      flex-wrap:wrap;\n",
              "      gap: 12px;\n",
              "    }\n",
              "\n",
              "    .colab-df-convert {\n",
              "      background-color: #E8F0FE;\n",
              "      border: none;\n",
              "      border-radius: 50%;\n",
              "      cursor: pointer;\n",
              "      display: none;\n",
              "      fill: #1967D2;\n",
              "      height: 32px;\n",
              "      padding: 0 0 0 0;\n",
              "      width: 32px;\n",
              "    }\n",
              "\n",
              "    .colab-df-convert:hover {\n",
              "      background-color: #E2EBFA;\n",
              "      box-shadow: 0px 1px 2px rgba(60, 64, 67, 0.3), 0px 1px 3px 1px rgba(60, 64, 67, 0.15);\n",
              "      fill: #174EA6;\n",
              "    }\n",
              "\n",
              "    [theme=dark] .colab-df-convert {\n",
              "      background-color: #3B4455;\n",
              "      fill: #D2E3FC;\n",
              "    }\n",
              "\n",
              "    [theme=dark] .colab-df-convert:hover {\n",
              "      background-color: #434B5C;\n",
              "      box-shadow: 0px 1px 3px 1px rgba(0, 0, 0, 0.15);\n",
              "      filter: drop-shadow(0px 1px 2px rgba(0, 0, 0, 0.3));\n",
              "      fill: #FFFFFF;\n",
              "    }\n",
              "  </style>\n",
              "\n",
              "      <script>\n",
              "        const buttonEl =\n",
              "          document.querySelector('#df-1007bde9-6373-4e35-93ed-dab21d9bffd8 button.colab-df-convert');\n",
              "        buttonEl.style.display =\n",
              "          google.colab.kernel.accessAllowed ? 'block' : 'none';\n",
              "\n",
              "        async function convertToInteractive(key) {\n",
              "          const element = document.querySelector('#df-1007bde9-6373-4e35-93ed-dab21d9bffd8');\n",
              "          const dataTable =\n",
              "            await google.colab.kernel.invokeFunction('convertToInteractive',\n",
              "                                                     [key], {});\n",
              "          if (!dataTable) return;\n",
              "\n",
              "          const docLinkHtml = 'Like what you see? Visit the ' +\n",
              "            '<a target=\"_blank\" href=https://colab.research.google.com/notebooks/data_table.ipynb>data table notebook</a>'\n",
              "            + ' to learn more about interactive tables.';\n",
              "          element.innerHTML = '';\n",
              "          dataTable['output_type'] = 'display_data';\n",
              "          await google.colab.output.renderOutput(dataTable, element);\n",
              "          const docLink = document.createElement('div');\n",
              "          docLink.innerHTML = docLinkHtml;\n",
              "          element.appendChild(docLink);\n",
              "        }\n",
              "      </script>\n",
              "    </div>\n",
              "  </div>\n",
              "  "
            ]
          },
          "metadata": {},
          "execution_count": 3
        }
      ],
      "source": [
        "import pandas as pd\n",
        "\n",
        "from google.colab import files\n",
        "uploaded = files.upload()\n",
        "df_main = pd.read_csv('data_C.csv')\n",
        "df = df_main.copy()\n",
        "df.head()"
      ]
    },
    {
      "cell_type": "code",
      "source": [
        "# no of unique values in each column\n",
        "print(df.nunique())\n",
        "print('---' * 20)\n",
        "\n",
        "# dtypes of each column\n",
        "print(df.dtypes)\n",
        "print('---' * 20)\n",
        "\n",
        "# no of missing values in each column\n",
        "print(df.isnull().sum())\n",
        "print('---' * 20)\n",
        "\n",
        "print(df.shape)"
      ],
      "metadata": {
        "colab": {
          "base_uri": "https://localhost:8080/"
        },
        "id": "M9o7D6nzUvpM",
        "outputId": "709216b7-f501-4716-9ace-5c1de8f4bd65"
      },
      "execution_count": 4,
      "outputs": [
        {
          "output_type": "stream",
          "name": "stdout",
          "text": [
            "Gender              2\n",
            "Age               349\n",
            "Debt              214\n",
            "Married             2\n",
            "BankCustomer        2\n",
            "Industry           14\n",
            "Ethnicity           5\n",
            "YearsEmployed     130\n",
            "PriorDefault        2\n",
            "Employed            2\n",
            "CreditScore        23\n",
            "DriversLicense      2\n",
            "Citizen             3\n",
            "ZipCode           170\n",
            "Income            240\n",
            "Approved            2\n",
            "dtype: int64\n",
            "------------------------------------------------------------\n",
            "Gender              int64\n",
            "Age               float64\n",
            "Debt              float64\n",
            "Married           float64\n",
            "BankCustomer        int64\n",
            "Industry           object\n",
            "Ethnicity          object\n",
            "YearsEmployed     float64\n",
            "PriorDefault      float64\n",
            "Employed          float64\n",
            "CreditScore       float64\n",
            "DriversLicense    float64\n",
            "Citizen            object\n",
            "ZipCode           float64\n",
            "Income              int64\n",
            "Approved            int64\n",
            "dtype: object\n",
            "------------------------------------------------------------\n",
            "Gender             0\n",
            "Age                2\n",
            "Debt               4\n",
            "Married            2\n",
            "BankCustomer       0\n",
            "Industry           9\n",
            "Ethnicity          5\n",
            "YearsEmployed      2\n",
            "PriorDefault       6\n",
            "Employed          10\n",
            "CreditScore        4\n",
            "DriversLicense     2\n",
            "Citizen            8\n",
            "ZipCode            1\n",
            "Income             0\n",
            "Approved           0\n",
            "dtype: int64\n",
            "------------------------------------------------------------\n",
            "(690, 16)\n"
          ]
        }
      ]
    },
    {
      "cell_type": "code",
      "source": [
        "# Encoding string / object  data types columns\n",
        "from sklearn.preprocessing import LabelEncoder\n",
        "\n",
        "le = LabelEncoder()\n",
        "\n",
        "for col in df.columns:\n",
        "    if df[col].dtype == 'object':\n",
        "        df[col] = le.fit_transform(df[col])\n",
        "\n",
        "df.head()"
      ],
      "metadata": {
        "colab": {
          "base_uri": "https://localhost:8080/",
          "height": 270
        },
        "id": "pKdWSRTrKRpb",
        "outputId": "5ffa83ae-5b78-4fb0-a144-7e90fcb558b4"
      },
      "execution_count": 5,
      "outputs": [
        {
          "output_type": "execute_result",
          "data": {
            "text/plain": [
              "   Gender    Age   Debt  Married  BankCustomer  Industry  Ethnicity  \\\n",
              "0       0  21.75  11.75      1.0             1         4          4   \n",
              "1       1  20.42   7.50      1.0             1         5          4   \n",
              "2       1  27.83   1.00      0.0             0        10          1   \n",
              "3       0  27.42  14.50      1.0             1        13          1   \n",
              "4       1  34.17    NaN      1.0             1         8          4   \n",
              "\n",
              "   YearsEmployed  PriorDefault  Employed  CreditScore  DriversLicense  \\\n",
              "0          0.250           0.0       0.0          0.0             1.0   \n",
              "1          1.500           1.0       1.0          1.0             0.0   \n",
              "2          3.000           0.0       0.0          0.0             0.0   \n",
              "3          3.085           1.0       1.0          1.0             0.0   \n",
              "4          1.540           1.0       1.0          1.0             1.0   \n",
              "\n",
              "   Citizen  ZipCode  Income  Approved  \n",
              "0        0    180.0       0         0  \n",
              "1        0    160.0     234         1  \n",
              "2        0    176.0     537         0  \n",
              "3        0    120.0      11         1  \n",
              "4        0    520.0   50000         1  "
            ],
            "text/html": [
              "\n",
              "  <div id=\"df-f7b5b3ec-e66a-4fc4-bf54-1726b7bece5f\">\n",
              "    <div class=\"colab-df-container\">\n",
              "      <div>\n",
              "<style scoped>\n",
              "    .dataframe tbody tr th:only-of-type {\n",
              "        vertical-align: middle;\n",
              "    }\n",
              "\n",
              "    .dataframe tbody tr th {\n",
              "        vertical-align: top;\n",
              "    }\n",
              "\n",
              "    .dataframe thead th {\n",
              "        text-align: right;\n",
              "    }\n",
              "</style>\n",
              "<table border=\"1\" class=\"dataframe\">\n",
              "  <thead>\n",
              "    <tr style=\"text-align: right;\">\n",
              "      <th></th>\n",
              "      <th>Gender</th>\n",
              "      <th>Age</th>\n",
              "      <th>Debt</th>\n",
              "      <th>Married</th>\n",
              "      <th>BankCustomer</th>\n",
              "      <th>Industry</th>\n",
              "      <th>Ethnicity</th>\n",
              "      <th>YearsEmployed</th>\n",
              "      <th>PriorDefault</th>\n",
              "      <th>Employed</th>\n",
              "      <th>CreditScore</th>\n",
              "      <th>DriversLicense</th>\n",
              "      <th>Citizen</th>\n",
              "      <th>ZipCode</th>\n",
              "      <th>Income</th>\n",
              "      <th>Approved</th>\n",
              "    </tr>\n",
              "  </thead>\n",
              "  <tbody>\n",
              "    <tr>\n",
              "      <th>0</th>\n",
              "      <td>0</td>\n",
              "      <td>21.75</td>\n",
              "      <td>11.75</td>\n",
              "      <td>1.0</td>\n",
              "      <td>1</td>\n",
              "      <td>4</td>\n",
              "      <td>4</td>\n",
              "      <td>0.250</td>\n",
              "      <td>0.0</td>\n",
              "      <td>0.0</td>\n",
              "      <td>0.0</td>\n",
              "      <td>1.0</td>\n",
              "      <td>0</td>\n",
              "      <td>180.0</td>\n",
              "      <td>0</td>\n",
              "      <td>0</td>\n",
              "    </tr>\n",
              "    <tr>\n",
              "      <th>1</th>\n",
              "      <td>1</td>\n",
              "      <td>20.42</td>\n",
              "      <td>7.50</td>\n",
              "      <td>1.0</td>\n",
              "      <td>1</td>\n",
              "      <td>5</td>\n",
              "      <td>4</td>\n",
              "      <td>1.500</td>\n",
              "      <td>1.0</td>\n",
              "      <td>1.0</td>\n",
              "      <td>1.0</td>\n",
              "      <td>0.0</td>\n",
              "      <td>0</td>\n",
              "      <td>160.0</td>\n",
              "      <td>234</td>\n",
              "      <td>1</td>\n",
              "    </tr>\n",
              "    <tr>\n",
              "      <th>2</th>\n",
              "      <td>1</td>\n",
              "      <td>27.83</td>\n",
              "      <td>1.00</td>\n",
              "      <td>0.0</td>\n",
              "      <td>0</td>\n",
              "      <td>10</td>\n",
              "      <td>1</td>\n",
              "      <td>3.000</td>\n",
              "      <td>0.0</td>\n",
              "      <td>0.0</td>\n",
              "      <td>0.0</td>\n",
              "      <td>0.0</td>\n",
              "      <td>0</td>\n",
              "      <td>176.0</td>\n",
              "      <td>537</td>\n",
              "      <td>0</td>\n",
              "    </tr>\n",
              "    <tr>\n",
              "      <th>3</th>\n",
              "      <td>0</td>\n",
              "      <td>27.42</td>\n",
              "      <td>14.50</td>\n",
              "      <td>1.0</td>\n",
              "      <td>1</td>\n",
              "      <td>13</td>\n",
              "      <td>1</td>\n",
              "      <td>3.085</td>\n",
              "      <td>1.0</td>\n",
              "      <td>1.0</td>\n",
              "      <td>1.0</td>\n",
              "      <td>0.0</td>\n",
              "      <td>0</td>\n",
              "      <td>120.0</td>\n",
              "      <td>11</td>\n",
              "      <td>1</td>\n",
              "    </tr>\n",
              "    <tr>\n",
              "      <th>4</th>\n",
              "      <td>1</td>\n",
              "      <td>34.17</td>\n",
              "      <td>NaN</td>\n",
              "      <td>1.0</td>\n",
              "      <td>1</td>\n",
              "      <td>8</td>\n",
              "      <td>4</td>\n",
              "      <td>1.540</td>\n",
              "      <td>1.0</td>\n",
              "      <td>1.0</td>\n",
              "      <td>1.0</td>\n",
              "      <td>1.0</td>\n",
              "      <td>0</td>\n",
              "      <td>520.0</td>\n",
              "      <td>50000</td>\n",
              "      <td>1</td>\n",
              "    </tr>\n",
              "  </tbody>\n",
              "</table>\n",
              "</div>\n",
              "      <button class=\"colab-df-convert\" onclick=\"convertToInteractive('df-f7b5b3ec-e66a-4fc4-bf54-1726b7bece5f')\"\n",
              "              title=\"Convert this dataframe to an interactive table.\"\n",
              "              style=\"display:none;\">\n",
              "        \n",
              "  <svg xmlns=\"http://www.w3.org/2000/svg\" height=\"24px\"viewBox=\"0 0 24 24\"\n",
              "       width=\"24px\">\n",
              "    <path d=\"M0 0h24v24H0V0z\" fill=\"none\"/>\n",
              "    <path d=\"M18.56 5.44l.94 2.06.94-2.06 2.06-.94-2.06-.94-.94-2.06-.94 2.06-2.06.94zm-11 1L8.5 8.5l.94-2.06 2.06-.94-2.06-.94L8.5 2.5l-.94 2.06-2.06.94zm10 10l.94 2.06.94-2.06 2.06-.94-2.06-.94-.94-2.06-.94 2.06-2.06.94z\"/><path d=\"M17.41 7.96l-1.37-1.37c-.4-.4-.92-.59-1.43-.59-.52 0-1.04.2-1.43.59L10.3 9.45l-7.72 7.72c-.78.78-.78 2.05 0 2.83L4 21.41c.39.39.9.59 1.41.59.51 0 1.02-.2 1.41-.59l7.78-7.78 2.81-2.81c.8-.78.8-2.07 0-2.86zM5.41 20L4 18.59l7.72-7.72 1.47 1.35L5.41 20z\"/>\n",
              "  </svg>\n",
              "      </button>\n",
              "      \n",
              "  <style>\n",
              "    .colab-df-container {\n",
              "      display:flex;\n",
              "      flex-wrap:wrap;\n",
              "      gap: 12px;\n",
              "    }\n",
              "\n",
              "    .colab-df-convert {\n",
              "      background-color: #E8F0FE;\n",
              "      border: none;\n",
              "      border-radius: 50%;\n",
              "      cursor: pointer;\n",
              "      display: none;\n",
              "      fill: #1967D2;\n",
              "      height: 32px;\n",
              "      padding: 0 0 0 0;\n",
              "      width: 32px;\n",
              "    }\n",
              "\n",
              "    .colab-df-convert:hover {\n",
              "      background-color: #E2EBFA;\n",
              "      box-shadow: 0px 1px 2px rgba(60, 64, 67, 0.3), 0px 1px 3px 1px rgba(60, 64, 67, 0.15);\n",
              "      fill: #174EA6;\n",
              "    }\n",
              "\n",
              "    [theme=dark] .colab-df-convert {\n",
              "      background-color: #3B4455;\n",
              "      fill: #D2E3FC;\n",
              "    }\n",
              "\n",
              "    [theme=dark] .colab-df-convert:hover {\n",
              "      background-color: #434B5C;\n",
              "      box-shadow: 0px 1px 3px 1px rgba(0, 0, 0, 0.15);\n",
              "      filter: drop-shadow(0px 1px 2px rgba(0, 0, 0, 0.3));\n",
              "      fill: #FFFFFF;\n",
              "    }\n",
              "  </style>\n",
              "\n",
              "      <script>\n",
              "        const buttonEl =\n",
              "          document.querySelector('#df-f7b5b3ec-e66a-4fc4-bf54-1726b7bece5f button.colab-df-convert');\n",
              "        buttonEl.style.display =\n",
              "          google.colab.kernel.accessAllowed ? 'block' : 'none';\n",
              "\n",
              "        async function convertToInteractive(key) {\n",
              "          const element = document.querySelector('#df-f7b5b3ec-e66a-4fc4-bf54-1726b7bece5f');\n",
              "          const dataTable =\n",
              "            await google.colab.kernel.invokeFunction('convertToInteractive',\n",
              "                                                     [key], {});\n",
              "          if (!dataTable) return;\n",
              "\n",
              "          const docLinkHtml = 'Like what you see? Visit the ' +\n",
              "            '<a target=\"_blank\" href=https://colab.research.google.com/notebooks/data_table.ipynb>data table notebook</a>'\n",
              "            + ' to learn more about interactive tables.';\n",
              "          element.innerHTML = '';\n",
              "          dataTable['output_type'] = 'display_data';\n",
              "          await google.colab.output.renderOutput(dataTable, element);\n",
              "          const docLink = document.createElement('div');\n",
              "          docLink.innerHTML = docLinkHtml;\n",
              "          element.appendChild(docLink);\n",
              "        }\n",
              "      </script>\n",
              "    </div>\n",
              "  </div>\n",
              "  "
            ]
          },
          "metadata": {},
          "execution_count": 5
        }
      ]
    },
    {
      "cell_type": "code",
      "source": [
        "# Fix missing values, Fill missing values with mean column values\n",
        "\n",
        "df.fillna(df.mean(), inplace=True)\n",
        "print(df.isnull().sum())"
      ],
      "metadata": {
        "colab": {
          "base_uri": "https://localhost:8080/"
        },
        "id": "oarAJ2oAKdPe",
        "outputId": "70d4d483-95d0-41f7-fcb9-8abbe4c7688f"
      },
      "execution_count": 6,
      "outputs": [
        {
          "output_type": "stream",
          "name": "stdout",
          "text": [
            "Gender            0\n",
            "Age               0\n",
            "Debt              0\n",
            "Married           0\n",
            "BankCustomer      0\n",
            "Industry          0\n",
            "Ethnicity         0\n",
            "YearsEmployed     0\n",
            "PriorDefault      0\n",
            "Employed          0\n",
            "CreditScore       0\n",
            "DriversLicense    0\n",
            "Citizen           0\n",
            "ZipCode           0\n",
            "Income            0\n",
            "Approved          0\n",
            "dtype: int64\n"
          ]
        }
      ]
    },
    {
      "cell_type": "code",
      "source": [
        "X = df.drop('Approved', axis=1)\n",
        "y = df['Approved']"
      ],
      "metadata": {
        "id": "LCDl6tYOKjv-"
      },
      "execution_count": 7,
      "outputs": []
    },
    {
      "cell_type": "code",
      "source": [
        "import random\n",
        "\n",
        "ts =  random.randint(1, 90) / 100\n",
        "print(str(ts) +  \" will now be used for testing\")"
      ],
      "metadata": {
        "colab": {
          "base_uri": "https://localhost:8080/"
        },
        "id": "uRQK6cetKpUJ",
        "outputId": "4912d240-92d8-4730-87e4-d04bf5868db9"
      },
      "execution_count": 8,
      "outputs": [
        {
          "output_type": "stream",
          "name": "stdout",
          "text": [
            "0.1 will now be used for testing\n"
          ]
        }
      ]
    },
    {
      "cell_type": "code",
      "source": [
        "ts = 0.2\n",
        "rs = 42"
      ],
      "metadata": {
        "id": "4Shuy0fSKv_X"
      },
      "execution_count": 10,
      "outputs": []
    },
    {
      "cell_type": "code",
      "source": [
        "from sklearn.model_selection import train_test_split\n",
        "\n",
        "X_train, X_test, y_train, y_test = train_test_split(X, y, test_size=ts, random_state=rs)\n",
        "\n",
        "print(X_train.shape)\n",
        "print(X_test.shape)\n",
        "print(y_train.shape)\n",
        "print(y_test.shape)"
      ],
      "metadata": {
        "colab": {
          "base_uri": "https://localhost:8080/"
        },
        "id": "ofF_YPUUKzfR",
        "outputId": "8786909c-a3f8-48d0-ee01-77f0e3e919a5"
      },
      "execution_count": 11,
      "outputs": [
        {
          "output_type": "stream",
          "name": "stdout",
          "text": [
            "(552, 15)\n",
            "(138, 15)\n",
            "(552,)\n",
            "(138,)\n"
          ]
        }
      ]
    },
    {
      "cell_type": "code",
      "source": [
        "from sklearn.neighbors import KNeighborsClassifier\n",
        "from sklearn.tree import DecisionTreeClassifier\n",
        "\n",
        "# instantiate the models\n",
        "knn = KNeighborsClassifier()\n",
        "dt = DecisionTreeClassifier()\n",
        "\n",
        "# fit the models\n",
        "knn.fit(X_train, y_train)\n",
        "dt.fit(X_train, y_train)\n",
        "\n",
        "# make predictions from the models\n",
        "y_pred_knn = knn.predict(X_test)\n",
        "y_pred_dt = dt.predict(X_test)"
      ],
      "metadata": {
        "id": "Tqxa6VzNLOHB"
      },
      "execution_count": 12,
      "outputs": []
    },
    {
      "cell_type": "code",
      "source": [
        "# Create Confusion Matrix\n",
        "from sklearn.metrics import confusion_matrix\n",
        "\n",
        "cm_knn = confusion_matrix(y_test, y_pred_knn)           # cm object for knn classifier\n",
        "cm_dt = confusion_matrix(y_test, y_pred_dt)             # cm object for dt classifier\n",
        "\n",
        "print(cm_knn)\n",
        "print('----' * 3)\n",
        "print(cm_dt)"
      ],
      "metadata": {
        "colab": {
          "base_uri": "https://localhost:8080/"
        },
        "id": "SuBrUz8xLQOQ",
        "outputId": "31812b2f-6170-4090-fbda-b6d572c725f7"
      },
      "execution_count": 13,
      "outputs": [
        {
          "output_type": "stream",
          "name": "stdout",
          "text": [
            "[[59 18]\n",
            " [26 35]]\n",
            "------------\n",
            "[[66 11]\n",
            " [11 50]]\n"
          ]
        }
      ]
    },
    {
      "cell_type": "code",
      "source": [
        "# plot confusion matrix (Matplotlib & Seaborn))\n",
        "import matplotlib.pyplot as plt\n",
        "import seaborn as sns\n",
        "\n",
        "# plot confusion matrix for knn classifier set font size to 14\n",
        "plt.figure(figsize=(5, 5))\n",
        "plt.rcParams.update({'font.size': 14})\n",
        "sns.heatmap(cm_knn, annot=True, cmap='Blues', fmt='g')\n",
        "plt.xlabel('Predicted')\n",
        "plt.ylabel('Actual / Truth (y_test)')\n",
        "plt.show()"
      ],
      "metadata": {
        "colab": {
          "base_uri": "https://localhost:8080/",
          "height": 342
        },
        "id": "ir-Xe1y5LYZj",
        "outputId": "12ea17bf-1fc7-4695-a87f-58e06aed2700"
      },
      "execution_count": 14,
      "outputs": [
        {
          "output_type": "display_data",
          "data": {
            "text/plain": [
              "<Figure size 360x360 with 2 Axes>"
            ],
            "image/png": "[encoded data removed]"
          },
          "metadata": {
            "needs_background": "light"
          }
        }
      ]
    },
    {
      "cell_type": "code",
      "source": [
        "# plot confusion matrix for knn classifier set font size to 14\n",
        "plt.figure(figsize=(5, 5))\n",
        "plt.rcParams.update({'font.size': 14})\n",
        "sns.heatmap(cm_dt, annot=True, cmap='Reds', fmt='g')\n",
        "plt.xlabel('Predicted')\n",
        "plt.ylabel('Actual / Truth (y_test)')\n",
        "plt.show()"
      ],
      "metadata": {
        "colab": {
          "base_uri": "https://localhost:8080/",
          "height": 342
        },
        "id": "ljyB6Sq3Leq6",
        "outputId": "e8054e22-88d8-4ac1-f11b-0a68b51f28d1"
      },
      "execution_count": 15,
      "outputs": [
        {
          "output_type": "display_data",
          "data": {
            "text/plain": [
              "<Figure size 360x360 with 2 Axes>"
            ],
            "image/png": "[encoded data removed]"
          },
          "metadata": {
            "needs_background": "light"
          }
        }
      ]
    },
    {
      "cell_type": "code",
      "source": [
        "from sklearn.metrics import accuracy_score, precision_score, recall_score, f1_score\n",
        "\n",
        "print('knn accuracy score: ', accuracy_score(y_test, y_pred_knn))\n",
        "print('knn precision score: ', precision_score(y_test, y_pred_knn))\n",
        "print('knn recall score: ', recall_score(y_test, y_pred_knn))\n",
        "print('knn f1 score: ', f1_score(y_test, y_pred_knn))\n",
        "\n",
        "print('---' * 20)\n",
        "\n",
        "print('dt accuracy score: ', accuracy_score(y_test, y_pred_dt))\n",
        "print('dt precision score: ', precision_score(y_test, y_pred_dt))\n",
        "print('dt recall score: ', recall_score(y_test, y_pred_dt))\n",
        "print('dt f1 score: ', f1_score(y_test, y_pred_dt))"
      ],
      "metadata": {
        "colab": {
          "base_uri": "https://localhost:8080/"
        },
        "id": "l8AEAK44LoIF",
        "outputId": "9c8811e9-1075-4f3e-a009-a81e9da578d3"
      },
      "execution_count": 16,
      "outputs": [
        {
          "output_type": "stream",
          "name": "stdout",
          "text": [
            "knn accuracy score:  0.6811594202898551\n",
            "knn precision score:  0.660377358490566\n",
            "knn recall score:  0.5737704918032787\n",
            "knn f1 score:  0.6140350877192982\n",
            "------------------------------------------------------------\n",
            "dt accuracy score:  0.8405797101449275\n",
            "dt precision score:  0.819672131147541\n",
            "dt recall score:  0.819672131147541\n",
            "dt f1 score:  0.819672131147541\n"
          ]
        }
      ]
    },
    {
      "cell_type": "code",
      "source": [
        "# classification report (Basicallly a summary of all the above metrics)\n",
        "from sklearn.metrics import classification_report\n",
        "\n",
        "print(classification_report(y_test, y_pred_knn))\n",
        "\n",
        "print('---' * 20)\n",
        "\n",
        "print(classification_report(y_test, y_pred_dt))"
      ],
      "metadata": {
        "colab": {
          "base_uri": "https://localhost:8080/"
        },
        "id": "GQDFILUiLvhi",
        "outputId": "d6d15bf1-23af-4a96-bb63-74f1cdd8713f"
      },
      "execution_count": 17,
      "outputs": [
        {
          "output_type": "stream",
          "name": "stdout",
          "text": [
            "              precision    recall  f1-score   support\n",
            "\n",
            "           0       0.69      0.77      0.73        77\n",
            "           1       0.66      0.57      0.61        61\n",
            "\n",
            "    accuracy                           0.68       138\n",
            "   macro avg       0.68      0.67      0.67       138\n",
            "weighted avg       0.68      0.68      0.68       138\n",
            "\n",
            "------------------------------------------------------------\n",
            "              precision    recall  f1-score   support\n",
            "\n",
            "           0       0.86      0.86      0.86        77\n",
            "           1       0.82      0.82      0.82        61\n",
            "\n",
            "    accuracy                           0.84       138\n",
            "   macro avg       0.84      0.84      0.84       138\n",
            "weighted avg       0.84      0.84      0.84       138\n",
            "\n"
          ]
        }
      ]
    },
    {
      "cell_type": "code",
      "source": [
        "# we'll use the same data set as above thus no need to load it again. we can check the shape of the data split though\n",
        "print(X_train.shape)\n",
        "print(X_test.shape)\n",
        "print(y_train.shape)\n",
        "print(y_test.shape)"
      ],
      "metadata": {
        "colab": {
          "base_uri": "https://localhost:8080/"
        },
        "id": "5oLe64kALyWy",
        "outputId": "25cda48b-bc82-4d35-a9d7-99baee78a672"
      },
      "execution_count": 18,
      "outputs": [
        {
          "output_type": "stream",
          "name": "stdout",
          "text": [
            "(552, 15)\n",
            "(138, 15)\n",
            "(552,)\n",
            "(138,)\n"
          ]
        }
      ]
    },
    {
      "cell_type": "code",
      "source": [
        "# create a basic ANN model with 2 hidden layers and 1 output layer (2 outputs for probability of 0 and 1), 1 input layer (10 inputs)\n",
        "\n",
        "from tensorflow.keras.models import Sequential\n",
        "from tensorflow.keras.layers import Dense\n",
        "\n",
        "model = Sequential()\n",
        "\n",
        "model.add(Dense(15, activation='relu'))\n",
        "model.add(Dense(15, activation='relu'))\n",
        "model.add(Dense(15, activation='relu'))\n",
        "model.add(Dense(2, activation='softmax'))\n",
        "\n",
        "model.compile(optimizer='adam', loss='sparse_categorical_crossentropy', metrics=['accuracy'])"
      ],
      "metadata": {
        "id": "8AVlC9aLL3vi"
      },
      "execution_count": 19,
      "outputs": []
    },
    {
      "cell_type": "code",
      "source": [
        "history = model.fit(X_train, y_train, epochs=10, validation_data=(X_test, y_test))\n",
        "# history here is a dictionary with keys: loss, accuracy, val_loss, val_accuracy"
      ],
      "metadata": {
        "colab": {
          "base_uri": "https://localhost:8080/"
        },
        "id": "Q76lv6ZpL_dh",
        "outputId": "915b31c9-a6b0-4174-8d46-9c511c78b6c1"
      },
      "execution_count": 20,
      "outputs": [
        {
          "output_type": "stream",
          "name": "stdout",
          "text": [
            "Epoch 1/10\n",
            "18/18 [==============================] - 1s 18ms/step - loss: 1.7472 - accuracy: 0.6431 - val_loss: 1.1826 - val_accuracy: 0.7029\n",
            "Epoch 2/10\n",
            "18/18 [==============================] - 0s 4ms/step - loss: 0.8705 - accuracy: 0.6304 - val_loss: 1.2064 - val_accuracy: 0.7246\n",
            "Epoch 3/10\n",
            "18/18 [==============================] - 0s 4ms/step - loss: 0.9826 - accuracy: 0.6920 - val_loss: 0.9494 - val_accuracy: 0.6232\n",
            "Epoch 4/10\n",
            "18/18 [==============================] - 0s 4ms/step - loss: 0.7391 - accuracy: 0.6757 - val_loss: 0.7076 - val_accuracy: 0.7101\n",
            "Epoch 5/10\n",
            "18/18 [==============================] - 0s 5ms/step - loss: 0.6373 - accuracy: 0.6449 - val_loss: 0.6463 - val_accuracy: 0.7246\n",
            "Epoch 6/10\n",
            "18/18 [==============================] - 0s 5ms/step - loss: 0.6161 - accuracy: 0.6612 - val_loss: 0.7133 - val_accuracy: 0.7174\n",
            "Epoch 7/10\n",
            "18/18 [==============================] - 0s 4ms/step - loss: 0.6534 - accuracy: 0.6612 - val_loss: 0.6644 - val_accuracy: 0.7319\n",
            "Epoch 8/10\n",
            "18/18 [==============================] - 0s 5ms/step - loss: 0.6299 - accuracy: 0.7029 - val_loss: 0.7424 - val_accuracy: 0.5797\n",
            "Epoch 9/10\n",
            "18/18 [==============================] - 0s 5ms/step - loss: 0.6413 - accuracy: 0.6703 - val_loss: 0.6799 - val_accuracy: 0.6812\n",
            "Epoch 10/10\n",
            "18/18 [==============================] - 0s 4ms/step - loss: 0.5842 - accuracy: 0.7011 - val_loss: 0.6055 - val_accuracy: 0.7174\n"
          ]
        }
      ]
    },
    {
      "cell_type": "code",
      "source": [
        "print(model.summary())"
      ],
      "metadata": {
        "colab": {
          "base_uri": "https://localhost:8080/"
        },
        "id": "bwnGBlX-MFbU",
        "outputId": "1916d4f3-b3c5-46ac-ae47-a36a71837f5f"
      },
      "execution_count": 21,
      "outputs": [
        {
          "output_type": "stream",
          "name": "stdout",
          "text": [
            "Model: \"sequential\"\n",
            "_________________________________________________________________\n",
            " Layer (type)                Output Shape              Param #   \n",
            "=================================================================\n",
            " dense (Dense)               (None, 15)                240       \n",
            "                                                                 \n",
            " dense_1 (Dense)             (None, 15)                240       \n",
            "                                                                 \n",
            " dense_2 (Dense)             (None, 15)                240       \n",
            "                                                                 \n",
            " dense_3 (Dense)             (None, 2)                 32        \n",
            "                                                                 \n",
            "=================================================================\n",
            "Total params: 752\n",
            "Trainable params: 752\n",
            "Non-trainable params: 0\n",
            "_________________________________________________________________\n",
            "None\n"
          ]
        }
      ]
    },
    {
      "cell_type": "code",
      "source": [
        "# print the loss and accuracy\n",
        "loss_acc = model.evaluate(X_test, y_test)\n",
        "print(\"The loss is: \", loss_acc[0])\n",
        "print(\"The accuracy is: \", loss_acc[1])"
      ],
      "metadata": {
        "colab": {
          "base_uri": "https://localhost:8080/"
        },
        "id": "hMGKhXHwMKYA",
        "outputId": "0111fbc9-f14d-4a91-959f-8684f2715617"
      },
      "execution_count": 22,
      "outputs": [
        {
          "output_type": "stream",
          "name": "stdout",
          "text": [
            "5/5 [==============================] - 0s 4ms/step - loss: 0.6055 - accuracy: 0.7174\n",
            "The loss is:  0.6055380702018738\n",
            "The accuracy is:  0.717391312122345\n"
          ]
        }
      ]
    },
    {
      "cell_type": "code",
      "source": [
        "plt.plot(history.history['loss'], label='loss')\n",
        "plt.plot(history.history['val_loss'], label='val_loss')\n",
        "plt.legend()\n",
        "plt.show()"
      ],
      "metadata": {
        "colab": {
          "base_uri": "https://localhost:8080/",
          "height": 274
        },
        "id": "RQvr2_-XMOgm",
        "outputId": "192f14c1-2010-48f1-e0c3-8043190ac47a"
      },
      "execution_count": 23,
      "outputs": [
        {
          "output_type": "display_data",
          "data": {
            "text/plain": [
              "<Figure size 432x288 with 1 Axes>"
            ],
            "image/png": "[encoded data removed]"
          },
          "metadata": {
            "needs_background": "light"
          }
        }
      ]
    },
    {
      "cell_type": "code",
      "source": [
        "plt.plot(history.history['accuracy'], label='accuracy')\n",
        "plt.plot(history.history['val_accuracy'], label='val_accuracy')\n",
        "plt.legend()\n",
        "plt.show()"
      ],
      "metadata": {
        "colab": {
          "base_uri": "https://localhost:8080/",
          "height": 269
        },
        "id": "jc1f3Cq2MTxj",
        "outputId": "a413d36b-756f-4bf6-cf1f-c84aec9ebf44"
      },
      "execution_count": 24,
      "outputs": [
        {
          "output_type": "display_data",
          "data": {
            "text/plain": [
              "<Figure size 432x288 with 1 Axes>"
            ],
            "image/png": "[encoded data removed]"
          },
          "metadata": {
            "needs_background": "light"
          }
        }
      ]
    },
    {
      "cell_type": "code",
      "source": [
        "from sklearn.metrics import confusion_matrix\n",
        "import seaborn as sns\n",
        "import numpy as np\n",
        "\n",
        "# Confusion Matrix\n",
        "ann_pred = model.predict(X_test)\n",
        "ann_pred = [np.argmax(i) for i in ann_pred]\n",
        "\n",
        "cm_ann = confusion_matrix(y_test, ann_pred)\n",
        "\n",
        "\n",
        "plt.figure(figsize=(5, 5))\n",
        "plt.rcParams.update({'font.size': 14})\n",
        "sns.heatmap(cm_ann, annot=True, cmap='Greens', fmt='g')\n",
        "plt.xlabel('Predicted')\n",
        "plt.ylabel('Actual / Truth (y_test)')\n",
        "plt.show()\n"
      ],
      "metadata": {
        "colab": {
          "base_uri": "https://localhost:8080/",
          "height": 359
        },
        "id": "skUCvRp4MbX_",
        "outputId": "ea3de283-7de4-47f8-dd22-7b31ff5366cd"
      },
      "execution_count": 25,
      "outputs": [
        {
          "output_type": "stream",
          "name": "stdout",
          "text": [
            "5/5 [==============================] - 0s 3ms/step\n"
          ]
        },
        {
          "output_type": "display_data",
          "data": {
            "text/plain": [
              "<Figure size 360x360 with 2 Axes>"
            ],
            "image/png": "[encoded data removed]"
          },
          "metadata": {
            "needs_background": "light"
          }
        }
      ]
    },
    {
      "cell_type": "code",
      "source": [
        "print(classification_report(y_test, ann_pred))"
      ],
      "metadata": {
        "colab": {
          "base_uri": "https://localhost:8080/"
        },
        "id": "DE4Bz2ADMghX",
        "outputId": "aba2af34-71eb-4555-ad59-3c00e2704816"
      },
      "execution_count": 26,
      "outputs": [
        {
          "output_type": "stream",
          "name": "stdout",
          "text": [
            "              precision    recall  f1-score   support\n",
            "\n",
            "           0       0.74      0.77      0.75        77\n",
            "           1       0.69      0.66      0.67        61\n",
            "\n",
            "    accuracy                           0.72       138\n",
            "   macro avg       0.71      0.71      0.71       138\n",
            "weighted avg       0.72      0.72      0.72       138\n",
            "\n"
          ]
        }
      ]
    },
    {
      "cell_type": "code",
      "source": [
        "# A sample prediction, we'll use a random row from the test set\n",
        "sample = X_test.iloc[13]         # we sue the iloc function to get the row at an index. change the index to get a different row \n",
        "sample = sample.values.reshape(1, 15)     # reshape the sample to the shape of the input layer\n",
        "\n",
        "print(model.predict(sample))"
      ],
      "metadata": {
        "colab": {
          "base_uri": "https://localhost:8080/"
        },
        "id": "cxTv65FIMmtb",
        "outputId": "3f54decc-58d6-4603-9e8a-935a5433ad8b"
      },
      "execution_count": 27,
      "outputs": [
        {
          "output_type": "stream",
          "name": "stdout",
          "text": [
            "1/1 [==============================] - 0s 62ms/step\n",
            "[[0.86067706 0.13932294]]\n"
          ]
        }
      ]
    }
  ]
}