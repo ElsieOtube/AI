{
  "cells": [
    {
      "cell_type": "markdown",
      "metadata": {
        "id": "PhSzEwg36QmX"
      },
      "source": [
        "## Steps\n",
        "\n",
        "* Incase you are running this on Colab or Jupyter, run the cell below to install the ttg library.\n",
        "* If you are using python scripts then run 'pip install truth-table-generator -q' withouth the quatation marks on terminal / cmd\n",
        "* For the second option, I advice you workin an environment which ensures, the isntall of this library dosent conflict exisitng python libraries within your ssystem."
      ]
    },
    {
      "cell_type": "code",
      "execution_count": null,
      "metadata": {
        "colab": {
          "base_uri": "https://localhost:8080/"
        },
        "id": "VBkWhK466Qma",
        "outputId": "cab0fbd9-0cb5-4098-a6a4-9c62edfed4d8"
      },
      "outputs": [
        {
          "output_type": "stream",
          "name": "stdout",
          "text": [
            "  Building wheel for truth-table-generator (setup.py) ... \u001b[?25l\u001b[?25hdone\n",
            "  Building wheel for PTable (setup.py) ... \u001b[?25l\u001b[?25hdone\n"
          ]
        }
      ],
      "source": [
        "# Run this to install ttg\n",
        "# the ! mark is used to indicates runs statments when written in notebook cells, and the '-q' is an option to suppress output\n",
        "\n",
        "!pip install truth-table-generator -q"
      ]
    },
    {
      "cell_type": "code",
      "execution_count": null,
      "metadata": {
        "id": "cA92jSqv6Qmb"
      },
      "outputs": [],
      "source": [
        "import ttg"
      ]
    },
    {
      "cell_type": "markdown",
      "metadata": {
        "id": "ZkA81i-h6Qmb"
      },
      "source": [
        "#### Some Examples"
      ]
    },
    {
      "cell_type": "code",
      "execution_count": null,
      "metadata": {
        "colab": {
          "base_uri": "https://localhost:8080/"
        },
        "id": "gOIbBG_r6Qmc",
        "outputId": "14f95f34-ec22-4c15-d845-7d097fac16f1"
      },
      "outputs": [
        {
          "output_type": "stream",
          "name": "stdout",
          "text": [
            "+-----+-----+-----+\n",
            "|  p  |  q  |  r  |\n",
            "|-----+-----+-----|\n",
            "|  1  |  1  |  1  |\n",
            "|  1  |  1  |  0  |\n",
            "|  1  |  0  |  1  |\n",
            "|  1  |  0  |  0  |\n",
            "|  0  |  1  |  1  |\n",
            "|  0  |  1  |  0  |\n",
            "|  0  |  0  |  1  |\n",
            "|  0  |  0  |  0  |\n",
            "+-----+-----+-----+\n"
          ]
        }
      ],
      "source": [
        "print(ttg.Truths(['p', 'q', 'r']))"
      ]
    },
    {
      "cell_type": "code",
      "execution_count": null,
      "metadata": {
        "colab": {
          "base_uri": "https://localhost:8080/"
        },
        "id": "FO0hc-Ne6Qmc",
        "outputId": "83259d0b-1328-4376-b4d2-9c0bf9051806"
      },
      "outputs": [
        {
          "output_type": "stream",
          "name": "stdout",
          "text": [
            "+-----+-----+-----+-----------------+---------------+--------------------+\n",
            "|  p  |  q  |  r  |  p and q and r  |  p or q or r  |  (p or (~q)) => r  |\n",
            "|-----+-----+-----+-----------------+---------------+--------------------|\n",
            "|  1  |  1  |  1  |        1        |       1       |         1          |\n",
            "|  1  |  1  |  0  |        0        |       1       |         0          |\n",
            "|  1  |  0  |  1  |        0        |       1       |         1          |\n",
            "|  1  |  0  |  0  |        0        |       1       |         0          |\n",
            "|  0  |  1  |  1  |        0        |       1       |         1          |\n",
            "|  0  |  1  |  0  |        0        |       1       |         1          |\n",
            "|  0  |  0  |  1  |        0        |       1       |         1          |\n",
            "|  0  |  0  |  0  |        0        |       0       |         0          |\n",
            "+-----+-----+-----+-----------------+---------------+--------------------+\n"
          ]
        }
      ],
      "source": [
        "print(ttg.Truths(['p', 'q', 'r'], ['p and q and r', 'p or q or r', '(p or (~q)) => r']))"
      ]
    },
    {
      "cell_type": "code",
      "execution_count": null,
      "metadata": {
        "colab": {
          "base_uri": "https://localhost:8080/"
        },
        "id": "ul9zM9ko6Qmd",
        "outputId": "d7efbda8-b96a-437f-e707-211e4e0499e3"
      },
      "outputs": [
        {
          "output_type": "stream",
          "name": "stdout",
          "text": [
            "+-------+-------+-----------+----------+-----------------------+\n",
            "|   p   |   q   |  p and q  |  p or q  |  (p or (~q)) => (~p)  |\n",
            "|-------+-------+-----------+----------+-----------------------|\n",
            "| True  | True  |   True    |   True   |         False         |\n",
            "| True  | False |   False   |   True   |         False         |\n",
            "| False | True  |   False   |   True   |         True          |\n",
            "| False | False |   False   |  False   |         True          |\n",
            "+-------+-------+-----------+----------+-----------------------+\n"
          ]
        }
      ],
      "source": [
        "print(ttg.Truths(['p', 'q'], ['p and q', 'p or q', '(p or (~q)) => (~p)'], ints=False))"
      ]
    },
    {
      "cell_type": "markdown",
      "metadata": {
        "id": "ZPtX_FAA6Qmd"
      },
      "source": [
        "#### Propositional Logic: Connectives"
      ]
    },
    {
      "cell_type": "code",
      "execution_count": null,
      "metadata": {
        "colab": {
          "base_uri": "https://localhost:8080/"
        },
        "id": "ywlyUVYh6Qme",
        "outputId": "3ce9de63-3627-4158-f048-8f9f7a6c1c87"
      },
      "outputs": [
        {
          "output_type": "stream",
          "name": "stdout",
          "text": [
            "+-----+-----+-----------+\n",
            "|  p  |  q  |  p and q  |\n",
            "|-----+-----+-----------|\n",
            "|  1  |  1  |     1     |\n",
            "|  1  |  0  |     0     |\n",
            "|  0  |  1  |     0     |\n",
            "|  0  |  0  |     0     |\n",
            "+-----+-----+-----------+\n"
          ]
        }
      ],
      "source": [
        "# AND CONNECTIVE\n",
        "\n",
        "print(ttg.Truths(['p', 'q'], ['p and q']))"
      ]
    },
    {
      "cell_type": "code",
      "execution_count": null,
      "metadata": {
        "colab": {
          "base_uri": "https://localhost:8080/"
        },
        "id": "zljwQ7tF6Qme",
        "outputId": "3f9aee8c-9c71-4768-ecc7-86ddb6b39416"
      },
      "outputs": [
        {
          "output_type": "stream",
          "name": "stdout",
          "text": [
            "+-----+-----+-----------+\n",
            "|  p  |  q  |  p or q   |\n",
            "|-----+-----+-----------|\n",
            "|  1  |  1  |     1     |\n",
            "|  1  |  0  |     1     |\n",
            "|  0  |  1  |     1     |\n",
            "|  0  |  0  |     0     |\n",
            "+-----+-----+-----------+\n"
          ]
        }
      ],
      "source": [
        "# OR CONNECTIVE\n",
        "\n",
        "print(ttg.Truths(['p', 'q'], ['p or q ']))"
      ]
    },
    {
      "cell_type": "code",
      "execution_count": null,
      "metadata": {
        "colab": {
          "base_uri": "https://localhost:8080/"
        },
        "id": "TH3YuEqy6Qmf",
        "outputId": "b1ed157e-5dab-4144-bf01-b3f08ecbd511"
      },
      "outputs": [
        {
          "output_type": "stream",
          "name": "stdout",
          "text": [
            "+-----+-----+-----------+\n",
            "|  p  |  q  |  p => q   |\n",
            "|-----+-----+-----------|\n",
            "|  1  |  1  |     1     |\n",
            "|  1  |  0  |     0     |\n",
            "|  0  |  1  |     1     |\n",
            "|  0  |  0  |     1     |\n",
            "+-----+-----+-----------+\n"
          ]
        }
      ],
      "source": [
        "# IF THEN CONNECTIVE (IMPLICATION)\n",
        "\n",
        "print(ttg.Truths(['p', 'q'], ['p => q ']))"
      ]
    },
    {
      "cell_type": "code",
      "execution_count": null,
      "metadata": {
        "colab": {
          "base_uri": "https://localhost:8080/"
        },
        "id": "vnkK3SEY6Qmf",
        "outputId": "51802495-e35e-40f5-b4cb-1d269d2ea8ea"
      },
      "outputs": [
        {
          "output_type": "stream",
          "name": "stdout",
          "text": [
            "+-----+------+\n",
            "|  q  |  ~q  |\n",
            "|-----+------|\n",
            "|  1  |  0   |\n",
            "|  0  |  1   |\n",
            "+-----+------+\n"
          ]
        }
      ],
      "source": [
        "# NOT CONNECTIVE (NEGATION)\n",
        "\n",
        "print(ttg.Truths(['q'], ['~q']))"
      ]
    },
    {
      "cell_type": "code",
      "execution_count": null,
      "metadata": {
        "colab": {
          "base_uri": "https://localhost:8080/"
        },
        "outputId": "02399d2a-5e3b-4fb6-cb02-65ba572077a5",
        "id": "w4hI3C3h7BeK"
      },
      "outputs": [
        {
          "output_type": "stream",
          "name": "stdout",
          "text": [
            "+-----+-----+----------+\n",
            "|  p  |  q  |  p = q   |\n",
            "|-----+-----+----------|\n",
            "|  1  |  1  |    1     |\n",
            "|  1  |  0  |    0     |\n",
            "|  0  |  1  |    0     |\n",
            "|  0  |  0  |    1     |\n",
            "+-----+-----+----------+\n"
          ]
        }
      ],
      "source": [
        "# IFF CONNECTIVE (IMPLICATION) <=>\n",
        "\n",
        "print(ttg.Truths(['p', 'q'], ['p = q ']))"
      ]
    },
    {
      "cell_type": "markdown",
      "metadata": {
        "id": "6J16JOdK6Qmg"
      },
      "source": [
        "#### Aditionals"
      ]
    },
    {
      "cell_type": "code",
      "execution_count": null,
      "metadata": {
        "id": "np3fPPU56Qmg",
        "outputId": "38a9338f-6420-420e-e3d4-1001bf719e94"
      },
      "outputs": [
        {
          "name": "stdout",
          "output_type": "stream",
          "text": [
            "+-----+-----+---------+--------------+------------------+\n",
            "|  p  |  q  |  p = q  |  p and (~p)  |  (p and q) => p  |\n",
            "|-----+-----+---------+--------------+------------------|\n",
            "|  1  |  1  |    1    |      0       |        1         |\n",
            "|  1  |  0  |    0    |      0       |        1         |\n",
            "|  0  |  1  |    0    |      0       |        1         |\n",
            "|  0  |  0  |    1    |      0       |        1         |\n",
            "+-----+-----+---------+--------------+------------------+\n"
          ]
        }
      ],
      "source": [
        "table_val = ttg.Truths(['p', 'q'], ['p = q', 'p and (~p)', '(p and q) => p'])\n",
        "print(table_val)"
      ]
    },
    {
      "cell_type": "code",
      "execution_count": null,
      "metadata": {
        "id": "mmpG7svF6Qmg",
        "outputId": "6ad3125c-a64e-4e2a-f71c-c6995d020c3e"
      },
      "outputs": [
        {
          "data": {
            "text/plain": [
              "'Tautology'"
            ]
          },
          "execution_count": 16,
          "metadata": {},
          "output_type": "execute_result"
        }
      ],
      "source": [
        "table_val.valuation()"
      ]
    },
    {
      "cell_type": "code",
      "execution_count": null,
      "metadata": {
        "id": "kWY6gG476Qmh",
        "outputId": "90c9eac6-c3c5-46e9-e24b-4f83c8af47e5"
      },
      "outputs": [
        {
          "data": {
            "text/plain": [
              "'Contingency'"
            ]
          },
          "execution_count": 17,
          "metadata": {},
          "output_type": "execute_result"
        }
      ],
      "source": [
        "table_val.valuation(1)"
      ]
    },
    {
      "cell_type": "code",
      "execution_count": null,
      "metadata": {
        "id": "oSm3tyCM6Qmh",
        "outputId": "b490857c-a7e0-4b5a-ce8b-9677ff039d94"
      },
      "outputs": [
        {
          "data": {
            "text/plain": [
              "'Contradiction'"
            ]
          },
          "execution_count": 20,
          "metadata": {},
          "output_type": "execute_result"
        }
      ],
      "source": [
        "table_val.valuation(4)"
      ]
    }
  ],
  "metadata": {
    "interpreter": {
      "hash": "56c296f843f0257fb9e9c1d0c9300ff7536c9b8caa047b395b9e4d2483114cd8"
    },
    "kernelspec": {
      "display_name": "Python 3.9.12 ('strath')",
      "language": "python",
      "name": "python3"
    },
    "language_info": {
      "codemirror_mode": {
        "name": "ipython",
        "version": 3
      },
      "file_extension": ".py",
      "mimetype": "text/x-python",
      "name": "python",
      "nbconvert_exporter": "python",
      "pygments_lexer": "ipython3",
      "version": "3.9.12"
    },
    "orig_nbformat": 4,
    "colab": {
      "provenance": []
    }
  },
  "nbformat": 4,
  "nbformat_minor": 0
}