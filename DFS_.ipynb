{
  "nbformat": 4,
  "nbformat_minor": 0,
  "metadata": {
    "colab": {
      "provenance": [],
      "authorship_tag": "ABX9TyNd+aRjZnqjWtNRFXVaDbow",
      "include_colab_link": true
    },
    "kernelspec": {
      "name": "python3",
      "display_name": "Python 3"
    },
    "language_info": {
      "name": "python"
    }
  },
  "cells": [
    {
      "cell_type": "markdown",
      "metadata": {
        "id": "view-in-github",
        "colab_type": "text"
      },
      "source": [
        "<a href=\"https://colab.research.google.com/github/ElsieOtube/AI/blob/main/DFS_.ipynb\" target=\"_parent\"><img src=\"https://colab.research.google.com/assets/colab-badge.svg\" alt=\"Open In Colab\"/></a>"
      ]
    },
    {
      "cell_type": "code",
      "execution_count": 1,
      "metadata": {
        "colab": {
          "base_uri": "https://localhost:8080/"
        },
        "id": "Z2YPKGXaOxb_",
        "outputId": "f8a1c356-a4a4-4ca2-afc1-f4f1c43eb16b"
      },
      "outputs": [
        {
          "output_type": "stream",
          "name": "stdout",
          "text": [
            "Enter the goal node:-D\n",
            "Enter the maximum depth limit:-10\n",
            "\n",
            "nCurrent level--> 0\n",
            "Goal node testing failed\n",
            "nExpanding the current node A\n",
            "nCurrent level--> 1\n",
            "Goal node testing failed\n",
            "nExpanding the current node B\n",
            "nCurrent level--> 2\n",
            "Goal test successful\n",
            "Path to goal node available\n",
            "Path ['A', 'B', 'D']\n"
          ]
        }
      ],
      "source": [
        "\n",
        "graph = {\n",
        " 'A' : ['B','C'],\n",
        " 'B' : ['D', 'E'],\n",
        " 'C' : ['F', 'G'],\n",
        " 'D' : [],\n",
        " 'E' : [],\n",
        " 'F' : [],\n",
        " 'G' : []\n",
        "}\n",
        "def DLS(start,goal,path,level,maxD):\n",
        "    print('nCurrent level-->',level)\n",
        "    path.append(start)\n",
        "    if start == goal:\n",
        "        print(\"Goal test successful\")\n",
        "        return path\n",
        "    print('Goal node testing failed')\n",
        "    if level==maxD:\n",
        "        return False\n",
        "    print('nExpanding the current node',start)\n",
        "    for child in graph[start]:\n",
        "        if DLS(child,goal,path,level+1,maxD):\n",
        "            return path\n",
        "        path.pop()\n",
        "    return False\n",
        "    \n",
        "start = 'A'\n",
        "goal = input('Enter the goal node:-')\n",
        "maxD = int(input(\"Enter the maximum depth limit:-\"))\n",
        "print()\n",
        "path = list()\n",
        "res = DLS(start,goal,path,0,maxD)\n",
        "if(res):\n",
        "    print(\"Path to goal node available\")\n",
        "    print(\"Path\",path)\n",
        "else:\n",
        "    print(\"No path available for the goal node in given depth limit\")"
      ]
    }
  ]
}